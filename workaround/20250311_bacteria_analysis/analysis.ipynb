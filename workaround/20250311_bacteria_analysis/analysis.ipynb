{
 "cells": [
  {
   "cell_type": "markdown",
   "metadata": {},
   "source": [
    "# Further analysis of the problem\n",
    "\n",
    "## Sort the data by FDR.BY"
   ]
  },
  {
   "cell_type": "code",
   "execution_count": 1,
   "metadata": {},
   "outputs": [
    {
     "name": "stderr",
     "output_type": "stream",
     "text": [
      "/Users/lucas/Developer/miniconda3/envs/snp_analysis/lib/python3.9/site-packages/pandas/core/nanops.py:1016: RuntimeWarning: invalid value encountered in subtract\n",
      "  sqr = _ensure_numeric((avg - values) ** 2)\n",
      "/Users/lucas/Developer/miniconda3/envs/snp_analysis/lib/python3.9/site-packages/pandas/core/nanops.py:1016: RuntimeWarning: invalid value encountered in subtract\n",
      "  sqr = _ensure_numeric((avg - values) ** 2)\n"
     ]
    },
    {
     "data": {
      "application/vnd.microsoft.datawrangler.viewer.v0+json": {
       "columns": [
        {
         "name": "index",
         "rawType": "object",
         "type": "string"
        },
        {
         "name": "UNADJ",
         "rawType": "float64",
         "type": "float"
        },
        {
         "name": "GC",
         "rawType": "float64",
         "type": "float"
        },
        {
         "name": "BONF",
         "rawType": "float64",
         "type": "float"
        },
        {
         "name": "HOLM",
         "rawType": "float64",
         "type": "float"
        },
        {
         "name": "SIDAK_SS",
         "rawType": "float64",
         "type": "float"
        },
        {
         "name": "SIDAK_SD",
         "rawType": "float64",
         "type": "float"
        },
        {
         "name": "FDR_BH",
         "rawType": "float64",
         "type": "float"
        },
        {
         "name": "FDR_BY",
         "rawType": "float64",
         "type": "float"
        },
        {
         "name": "Cov",
         "rawType": "float64",
         "type": "float"
        }
       ],
       "conversionMethod": "pd.DataFrame",
       "ref": "aac1da08-1d78-486d-9d73-1d26e84a1d61",
       "rows": [
        [
         "count",
         "4078.0",
         "4078.0",
         "4078.0",
         "4078.0",
         "4078.0",
         "4078.0",
         "4078.0",
         "4078.0",
         "4078.0"
        ],
        [
         "mean",
         "9.735264952610348e-12",
         "1.3809844060015938e-11",
         "8.186666019357842e-07",
         "8.162033572308403e-07",
         "inf",
         "inf",
         "3.979855937068367e-09",
         "4.742773686397432e-08",
         "20.161108386463955"
        ],
        [
         "std",
         "2.4016306397541043e-11",
         "1.2626429402785473e-10",
         "2.0196003117320335e-06",
         "2.0125227471376876e-06",
         null,
         null,
         "8.58426945931848e-09",
         "1.0229806981815769e-07",
         "15.787101100121989"
        ],
        [
         "min",
         "2.016e-59",
         "2.016e-59",
         "1.695e-54",
         "1.695e-54",
         "1.11e-16",
         "1.11e-16",
         "1.3399999999999998e-54",
         "1.596e-53",
         "1.0"
        ],
        [
         "25%",
         "2.9425e-20",
         "2.9425e-20",
         "2.4745e-15",
         "2.4735e-15",
         "3.5202500000000003e-10",
         "3.5167500000000003e-10",
         "4.139e-17",
         "4.932e-16",
         "6.0"
        ],
        [
         "50%",
         "2.052e-14",
         "2.052e-14",
         "1.7254999999999999e-09",
         "1.721e-09",
         "1.2794999999999998e-07",
         "1.2765e-07",
         "1.5e-11",
         "1.788e-10",
         "17.0"
        ],
        [
         "75%",
         "4.1192499999999994e-12",
         "4.14175e-12",
         "3.46375e-07",
         "3.45175e-07",
         "5.89275e-06",
         "5.878e-06",
         "2.5025e-09",
         "2.98275e-08",
         "32.0"
        ],
        [
         "max",
         "2.122e-10",
         "5.865e-09",
         "1.784e-05",
         "1.774e-05",
         "inf",
         "inf",
         "4.192e-08",
         "4.996e-07",
         "50.0"
        ]
       ],
       "shape": {
        "columns": 9,
        "rows": 8
       }
      },
      "text/html": [
       "<div>\n",
       "<style scoped>\n",
       "    .dataframe tbody tr th:only-of-type {\n",
       "        vertical-align: middle;\n",
       "    }\n",
       "\n",
       "    .dataframe tbody tr th {\n",
       "        vertical-align: top;\n",
       "    }\n",
       "\n",
       "    .dataframe thead th {\n",
       "        text-align: right;\n",
       "    }\n",
       "</style>\n",
       "<table border=\"1\" class=\"dataframe\">\n",
       "  <thead>\n",
       "    <tr style=\"text-align: right;\">\n",
       "      <th></th>\n",
       "      <th>UNADJ</th>\n",
       "      <th>GC</th>\n",
       "      <th>BONF</th>\n",
       "      <th>HOLM</th>\n",
       "      <th>SIDAK_SS</th>\n",
       "      <th>SIDAK_SD</th>\n",
       "      <th>FDR_BH</th>\n",
       "      <th>FDR_BY</th>\n",
       "      <th>Cov</th>\n",
       "    </tr>\n",
       "  </thead>\n",
       "  <tbody>\n",
       "    <tr>\n",
       "      <th>count</th>\n",
       "      <td>4.078000e+03</td>\n",
       "      <td>4.078000e+03</td>\n",
       "      <td>4.078000e+03</td>\n",
       "      <td>4.078000e+03</td>\n",
       "      <td>4.078000e+03</td>\n",
       "      <td>4.078000e+03</td>\n",
       "      <td>4.078000e+03</td>\n",
       "      <td>4.078000e+03</td>\n",
       "      <td>4078.000000</td>\n",
       "    </tr>\n",
       "    <tr>\n",
       "      <th>mean</th>\n",
       "      <td>9.735265e-12</td>\n",
       "      <td>1.380984e-11</td>\n",
       "      <td>8.186666e-07</td>\n",
       "      <td>8.162034e-07</td>\n",
       "      <td>inf</td>\n",
       "      <td>inf</td>\n",
       "      <td>3.979856e-09</td>\n",
       "      <td>4.742774e-08</td>\n",
       "      <td>20.161108</td>\n",
       "    </tr>\n",
       "    <tr>\n",
       "      <th>std</th>\n",
       "      <td>2.401631e-11</td>\n",
       "      <td>1.262643e-10</td>\n",
       "      <td>2.019600e-06</td>\n",
       "      <td>2.012523e-06</td>\n",
       "      <td>NaN</td>\n",
       "      <td>NaN</td>\n",
       "      <td>8.584269e-09</td>\n",
       "      <td>1.022981e-07</td>\n",
       "      <td>15.787101</td>\n",
       "    </tr>\n",
       "    <tr>\n",
       "      <th>min</th>\n",
       "      <td>2.016000e-59</td>\n",
       "      <td>2.016000e-59</td>\n",
       "      <td>1.695000e-54</td>\n",
       "      <td>1.695000e-54</td>\n",
       "      <td>1.110000e-16</td>\n",
       "      <td>1.110000e-16</td>\n",
       "      <td>1.340000e-54</td>\n",
       "      <td>1.596000e-53</td>\n",
       "      <td>1.000000</td>\n",
       "    </tr>\n",
       "    <tr>\n",
       "      <th>25%</th>\n",
       "      <td>2.942500e-20</td>\n",
       "      <td>2.942500e-20</td>\n",
       "      <td>2.474500e-15</td>\n",
       "      <td>2.473500e-15</td>\n",
       "      <td>3.520250e-10</td>\n",
       "      <td>3.516750e-10</td>\n",
       "      <td>4.139000e-17</td>\n",
       "      <td>4.932000e-16</td>\n",
       "      <td>6.000000</td>\n",
       "    </tr>\n",
       "    <tr>\n",
       "      <th>50%</th>\n",
       "      <td>2.052000e-14</td>\n",
       "      <td>2.052000e-14</td>\n",
       "      <td>1.725500e-09</td>\n",
       "      <td>1.721000e-09</td>\n",
       "      <td>1.279500e-07</td>\n",
       "      <td>1.276500e-07</td>\n",
       "      <td>1.500000e-11</td>\n",
       "      <td>1.788000e-10</td>\n",
       "      <td>17.000000</td>\n",
       "    </tr>\n",
       "    <tr>\n",
       "      <th>75%</th>\n",
       "      <td>4.119250e-12</td>\n",
       "      <td>4.141750e-12</td>\n",
       "      <td>3.463750e-07</td>\n",
       "      <td>3.451750e-07</td>\n",
       "      <td>5.892750e-06</td>\n",
       "      <td>5.878000e-06</td>\n",
       "      <td>2.502500e-09</td>\n",
       "      <td>2.982750e-08</td>\n",
       "      <td>32.000000</td>\n",
       "    </tr>\n",
       "    <tr>\n",
       "      <th>max</th>\n",
       "      <td>2.122000e-10</td>\n",
       "      <td>5.865000e-09</td>\n",
       "      <td>1.784000e-05</td>\n",
       "      <td>1.774000e-05</td>\n",
       "      <td>inf</td>\n",
       "      <td>inf</td>\n",
       "      <td>4.192000e-08</td>\n",
       "      <td>4.996000e-07</td>\n",
       "      <td>50.000000</td>\n",
       "    </tr>\n",
       "  </tbody>\n",
       "</table>\n",
       "</div>"
      ],
      "text/plain": [
       "              UNADJ            GC          BONF          HOLM      SIDAK_SS  \\\n",
       "count  4.078000e+03  4.078000e+03  4.078000e+03  4.078000e+03  4.078000e+03   \n",
       "mean   9.735265e-12  1.380984e-11  8.186666e-07  8.162034e-07           inf   \n",
       "std    2.401631e-11  1.262643e-10  2.019600e-06  2.012523e-06           NaN   \n",
       "min    2.016000e-59  2.016000e-59  1.695000e-54  1.695000e-54  1.110000e-16   \n",
       "25%    2.942500e-20  2.942500e-20  2.474500e-15  2.473500e-15  3.520250e-10   \n",
       "50%    2.052000e-14  2.052000e-14  1.725500e-09  1.721000e-09  1.279500e-07   \n",
       "75%    4.119250e-12  4.141750e-12  3.463750e-07  3.451750e-07  5.892750e-06   \n",
       "max    2.122000e-10  5.865000e-09  1.784000e-05  1.774000e-05           inf   \n",
       "\n",
       "           SIDAK_SD        FDR_BH        FDR_BY          Cov  \n",
       "count  4.078000e+03  4.078000e+03  4.078000e+03  4078.000000  \n",
       "mean            inf  3.979856e-09  4.742774e-08    20.161108  \n",
       "std             NaN  8.584269e-09  1.022981e-07    15.787101  \n",
       "min    1.110000e-16  1.340000e-54  1.596000e-53     1.000000  \n",
       "25%    3.516750e-10  4.139000e-17  4.932000e-16     6.000000  \n",
       "50%    1.276500e-07  1.500000e-11  1.788000e-10    17.000000  \n",
       "75%    5.878000e-06  2.502500e-09  2.982750e-08    32.000000  \n",
       "max             inf  4.192000e-08  4.996000e-07    50.000000  "
      ]
     },
     "execution_count": 1,
     "metadata": {},
     "output_type": "execute_result"
    }
   ],
   "source": [
    "import pandas as pd\n",
    "import matplotlib.pyplot as plt\n",
    "\n",
    "# Import data\n",
    "data = pd.read_csv('../../result/analysis/filtered_bac_age.csv')\n",
    "data.describe()\n"
   ]
  }
 ],
 "metadata": {
  "kernelspec": {
   "display_name": "snp_analysis",
   "language": "python",
   "name": "python3"
  },
  "language_info": {
   "codemirror_mode": {
    "name": "ipython",
    "version": 3
   },
   "file_extension": ".py",
   "mimetype": "text/x-python",
   "name": "python",
   "nbconvert_exporter": "python",
   "pygments_lexer": "ipython3",
   "version": "3.9.18"
  }
 },
 "nbformat": 4,
 "nbformat_minor": 2
}

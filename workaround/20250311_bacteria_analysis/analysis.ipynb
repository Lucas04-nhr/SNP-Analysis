{
 "cells": [
  {
   "cell_type": "markdown",
   "metadata": {},
   "source": [
    "# Further analysis of the problem"
   ]
  },
  {
   "cell_type": "code",
   "execution_count": 1,
   "metadata": {},
   "outputs": [
    {
     "name": "stderr",
     "output_type": "stream",
     "text": [
      "/var/folders/zf/6yczmjsd3zq8my7v121r25r40000gn/T/ipykernel_17934/3945201006.py:6: DtypeWarning: Columns (0) have mixed types. Specify dtype option on import or set low_memory=False.\n",
      "  anno = pd.read_csv('result/analysis/full_annotated_results.hg38_multianno.csv')\n"
     ]
    }
   ],
   "source": [
    "import pandas as pd\n",
    "import matplotlib.pyplot as plt\n",
    "\n",
    "# Import data\n",
    "data = pd.read_csv('result/analysis/filtered_bac_age.csv')\n",
    "anno = pd.read_csv('result/analysis/full_annotated_results.hg38_multianno.csv')\n",
    "data_merged = pd.read_csv('result/analysis/merged_bac_age_all.csv')\n",
    "data_merged_filtered = pd.read_csv('result/analysis/merged_bac_age.csv')\n",
    "data_merged_old = pd.read_csv('result/analysis/plink_anno_merged_old.csv')\n",
    "\n",
    "\n",
    "# Set index\n",
    "data_merged = data_merged.set_index('SNP')\n",
    "data_merged_filtered = data_merged_filtered.set_index('SNP')\n",
    "data_merged_old = data_merged_old.set_index('SNP')\n"
   ]
  },
  {
   "cell_type": "markdown",
   "metadata": {},
   "source": [
    "Find the bacteria allocation"
   ]
  },
  {
   "cell_type": "code",
   "execution_count": null,
   "metadata": {},
   "outputs": [],
   "source": [
    "# Import data of bacteria\n",
    "bac_alloc = pd.read_csv('result/analysis/bacteria_allocation_full.csv')\n",
    "\n",
    "# Change the Cov row to bacteria name\n",
    "bac_alloc = bac_alloc.set_index('Cov')\n",
    "data_merged_filtered['Cov'] = data_merged_filtered['Cov'].map(bac_alloc['Species'])\n"
   ]
  },
  {
   "cell_type": "code",
   "execution_count": 8,
   "metadata": {},
   "outputs": [
    {
     "name": "stdout",
     "output_type": "stream",
     "text": [
      "Index(['CHR', 'Cov', 'Ref', 'Alt', 'FDR_BY', 'Func.refGene', 'Gene.refGene',\n",
      "       'UNADJ', 'GC', 'BONF', 'HOLM', 'SIDAK_SS', 'SIDAK_SD', 'FDR_BH',\n",
      "       'GeneDetail.refGene', 'ExonicFunc.refGene', 'AAChange.refGene',\n",
      "       'CLNALLELEID', 'CLNDN', 'CLNDISDB', 'CLNREVSTAT', 'CLNSIG', 'ONCDN',\n",
      "       'ONCDISDB', 'ONCREVSTAT', 'ONC', 'SCIDN', 'SCIDISDB', 'SCIREVSTAT',\n",
      "       'SCI', 'avsnp150', 'ALL.sites.2015_08'],\n",
      "      dtype='object')\n"
     ]
    }
   ],
   "source": [
    "# Change the column order\n",
    "\n",
    "order = ['CHR', 'Cov', 'Ref', 'Alt', 'FDR_BY',\n",
    "       'Func.refGene', 'Gene.refGene', 'UNADJ', 'GC', 'BONF', 'HOLM', 'SIDAK_SS', 'SIDAK_SD', 'FDR_BH', \n",
    "       'GeneDetail.refGene', 'ExonicFunc.refGene', 'AAChange.refGene',\n",
    "       'CLNALLELEID', 'CLNDN', 'CLNDISDB', 'CLNREVSTAT', 'CLNSIG', 'ONCDN',\n",
    "       'ONCDISDB', 'ONCREVSTAT', 'ONC', 'SCIDN', 'SCIDISDB', 'SCIREVSTAT',\n",
    "       'SCI', 'avsnp150', 'ALL.sites.2015_08']\n",
    "\n",
    "\n",
    "data_merged_filtered = data_merged_filtered[order]\n",
    "\n",
    "print(data_merged_filtered.columns)\n"
   ]
  },
  {
   "cell_type": "code",
   "execution_count": 11,
   "metadata": {},
   "outputs": [],
   "source": [
    "# Drop the rows which CHR is not a number\n",
    "data_merged_filtered = data_merged_filtered[data_merged_filtered['CHR'].apply(lambda x: x.isnumeric())]\n",
    "\n",
    "data_merged_filtered['CHR'] = data_merged_filtered['CHR'].astype(int)\n",
    "data_merged_filtered = data_merged_filtered.sort_values(by=['CHR', 'FDR_BY'], ascending=[True, True])\n"
   ]
  }
 ],
 "metadata": {
  "kernelspec": {
   "display_name": "snp_analysis",
   "language": "python",
   "name": "python3"
  },
  "language_info": {
   "codemirror_mode": {
    "name": "ipython",
    "version": 3
   },
   "file_extension": ".py",
   "mimetype": "text/x-python",
   "name": "python",
   "nbconvert_exporter": "python",
   "pygments_lexer": "ipython3",
   "version": "3.9.18"
  }
 },
 "nbformat": 4,
 "nbformat_minor": 2
}

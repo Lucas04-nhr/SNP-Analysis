{
 "cells": [
  {
   "cell_type": "markdown",
   "metadata": {},
   "source": [
    "# Further analysis of the problem"
   ]
  },
  {
   "cell_type": "code",
   "execution_count": null,
   "metadata": {},
   "outputs": [],
   "source": [
    "import pandas as pd\n",
    "import matplotlib.pyplot as plt\n",
    "\n",
    "# Import data\n",
    "data = pd.read_csv('../../result/analysis/filtered_bac_age.csv')\n",
    "anno = pd.read_csv('../../result/analysis/full_annotated_results.hg38_multianno.csv')\n",
    "data_merged = pd.read_csv('../../result/analysis/merged_bac_age_all.csv')\n",
    "data_merged_filtered = pd.read_csv('result/analysis/merged_bac_age.csv')\n",
    "data_merged_old = pd.read_csv('../../result/analysis/plink_anno_merged_old.csv')\n"
   ]
  }
 ],
 "metadata": {
  "kernelspec": {
   "display_name": "snp_analysis",
   "language": "python",
   "name": "python3"
  },
  "language_info": {
   "codemirror_mode": {
    "name": "ipython",
    "version": 3
   },
   "file_extension": ".py",
   "mimetype": "text/x-python",
   "name": "python",
   "nbconvert_exporter": "python",
   "pygments_lexer": "ipython3",
   "version": "3.9.18"
  }
 },
 "nbformat": 4,
 "nbformat_minor": 2
}

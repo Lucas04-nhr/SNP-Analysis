{
 "cells": [
  {
   "cell_type": "markdown",
   "metadata": {},
   "source": [
    "# Further analysis of the problem\n",
    "\n",
    "## Sort the data by FDR.BY"
   ]
  },
  {
   "cell_type": "code",
   "execution_count": 3,
   "metadata": {},
   "outputs": [
    {
     "name": "stdout",
     "output_type": "stream",
     "text": [
      "  Chr      Start        End Ref Alt Func.refGene Gene.refGene  \\\n",
      "0   1  143232017  143232017   T   A   intergenic  NONE;LSP1P5   \n",
      "1   1  143264536  143264536   G   A   intergenic  NONE;LSP1P5   \n",
      "2   1  143264536  143264536   G   A   intergenic  NONE;LSP1P5   \n",
      "3   1  143267076  143267076   A   C   intergenic  NONE;LSP1P5   \n",
      "4   1  143267076  143267076   A   C   intergenic  NONE;LSP1P5   \n",
      "\n",
      "      GeneDetail.refGene ExonicFunc.refGene AAChange.refGene  ... CHR  \\\n",
      "0  dist=NONE;dist=167954                  .                .  ...   1   \n",
      "1  dist=NONE;dist=135435                  .                .  ...   1   \n",
      "2  dist=NONE;dist=135435                  .                .  ...   1   \n",
      "3  dist=NONE;dist=132895                  .                .  ...   1   \n",
      "4  dist=NONE;dist=132895                  .                .  ...   1   \n",
      "\n",
      "          UNADJ            GC          BONF          HOLM      SIDAK_SS  \\\n",
      "0  8.965000e-12  8.965000e-12  7.539000e-07  7.535000e-07  7.539000e-07   \n",
      "1  9.850000e-04  3.390000e-03  1.000000e+00  1.000000e+00  1.000000e+00   \n",
      "2  1.336000e-03  5.273000e-03  1.000000e+00  1.000000e+00  1.000000e+00   \n",
      "3  5.677000e-04  2.045000e-03  1.000000e+00  1.000000e+00  1.000000e+00   \n",
      "4  8.844000e-04  2.630000e-03  1.000000e+00  1.000000e+00  1.000000e+00   \n",
      "\n",
      "       SIDAK_SD        FDR_BH        FDR_BY Cov  \n",
      "0  7.535000e-07  1.933000e-08  2.304000e-07   1  \n",
      "1  1.000000e+00  8.684000e-01  1.000000e+00  40  \n",
      "2  1.000000e+00  8.531000e-01  1.000000e+00  20  \n",
      "3  1.000000e+00  8.928000e-01  1.000000e+00  15  \n",
      "4  1.000000e+00  8.637000e-01  1.000000e+00   3  \n",
      "\n",
      "[5 rows x 36 columns]\n"
     ]
    }
   ],
   "source": [
    "import pandas as pd\n",
    "import matplotlib.pyplot as plt\n",
    "\n",
    "# Import data\n",
    "data = pd.read_csv('../../data/plink/result/plink_anno_merged.csv')\n",
    "print(data.head())\n"
   ]
  },
  {
   "cell_type": "code",
   "execution_count": null,
   "metadata": {},
   "outputs": [],
   "source": [
    "# Sort by FDR_BY descending\n",
    "data = data.sort_values(by='FDR_BY', ascending=False)\n",
    "data\n"
   ]
  }
 ],
 "metadata": {
  "kernelspec": {
   "display_name": "snp_analysis",
   "language": "python",
   "name": "python3"
  },
  "language_info": {
   "codemirror_mode": {
    "name": "ipython",
    "version": 3
   },
   "file_extension": ".py",
   "mimetype": "text/x-python",
   "name": "python",
   "nbconvert_exporter": "python",
   "pygments_lexer": "ipython3",
   "version": "3.9.18"
  }
 },
 "nbformat": 4,
 "nbformat_minor": 2
}

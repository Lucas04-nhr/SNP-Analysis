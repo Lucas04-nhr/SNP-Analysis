{
 "cells": [
  {
   "cell_type": "markdown",
   "id": "38b6171e",
   "metadata": {},
   "source": [
    "## Cross validation of the SNP-Gene-Bacteria data in 2 cities"
   ]
  },
  {
   "cell_type": "code",
   "execution_count": null,
   "id": "7d72207a",
   "metadata": {},
   "outputs": [],
   "source": []
  }
 ],
 "metadata": {
  "kernelspec": {
   "display_name": "snp_analysis",
   "language": "python",
   "name": "python3"
  },
  "language_info": {
   "name": "python",
   "version": "3.9.18"
  }
 },
 "nbformat": 4,
 "nbformat_minor": 2
}

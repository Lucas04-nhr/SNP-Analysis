{
 "cells": [
  {
   "cell_type": "markdown",
   "id": "38b6171e",
   "metadata": {},
   "source": [
    "## Cross validation of the SNP-Gene-Bacteria data in 2 cities"
   ]
  },
  {
   "cell_type": "markdown",
   "metadata": {},
   "source": [
    "## Step 1: Data preprocessing\n",
    "\n",
    "### 1.1 Load the data\n",
    "\n",
    "Load the whole data and check the first few rows to see the data structure."
   ]
  },
  {
   "cell_type": "code",
   "execution_count": null,
   "id": "7d72207a",
   "metadata": {},
   "outputs": [],
   "source": []
  }
 ],
 "metadata": {
  "kernelspec": {
   "display_name": "snp_analysis",
   "language": "python",
   "name": "python3"
  },
  "language_info": {
   "name": "python",
   "version": "3.9.18"
  }
 },
 "nbformat": 4,
 "nbformat_minor": 2
}

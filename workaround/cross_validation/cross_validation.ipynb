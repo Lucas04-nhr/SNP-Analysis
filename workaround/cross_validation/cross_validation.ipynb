{
 "cells": [
  {
   "cell_type": "markdown",
   "id": "38b6171e",
   "metadata": {},
   "source": [
    "# Cross validation of the SNP-Gene-Bacteria data in 2 cities"
   ]
  },
  {
   "cell_type": "markdown",
   "metadata": {},
   "source": [
    "## Step 1: Data preprocessing\n",
    "\n",
    "### 1.1 Import the necessary libraries"
   ]
  },
  {
   "cell_type": "code",
   "execution_count": 1,
   "id": "7d72207a",
   "metadata": {},
   "outputs": [],
   "source": [
    "import pandas as pd\n",
    "import numpy as np\n",
    "import matplotlib.pyplot as plt\n"
   ]
  },
  {
   "cell_type": "markdown",
   "metadata": {},
   "source": [
    "### 1.2 Load the data\n",
    "\n",
    "Load the filtered full dataset and check the first few rows of the data.\n",
    "\n",
    "> The folder containing all the data to be used is too large, thus the data is not included in the repository, see [README](https://github.com/Lucas04-nhr/SNP-Analysis/blob/main/README.md#structure-of-the-result-directory) to check the data source.\n",
    "\n",
    "> The \"Bacteria\" column has not been replaced by the real names yet."
   ]
  },
  {
   "cell_type": "code",
   "execution_count": 2,
   "metadata": {},
   "outputs": [],
   "source": [
    "full_data_bj = pd.read_csv('../../result/analysis/bac_age_BJ.csv')\n",
    "full_data_gz = pd.read_csv('../../result/analysis/bac_age_GZ.csv')\n"
   ]
  },
  {
   "cell_type": "code",
   "execution_count": 3,
   "metadata": {},
   "outputs": [
    {
     "data": {
      "application/vnd.microsoft.datawrangler.viewer.v0+json": {
       "columns": [
        {
         "name": "index",
         "rawType": "int64",
         "type": "integer"
        },
        {
         "name": "CHR",
         "rawType": "object",
         "type": "string"
        },
        {
         "name": "SNP",
         "rawType": "object",
         "type": "string"
        },
        {
         "name": "UNADJ",
         "rawType": "float64",
         "type": "float"
        },
        {
         "name": "GC",
         "rawType": "float64",
         "type": "float"
        },
        {
         "name": "BONF",
         "rawType": "float64",
         "type": "float"
        },
        {
         "name": "HOLM",
         "rawType": "float64",
         "type": "float"
        },
        {
         "name": "SIDAK_SS",
         "rawType": "float64",
         "type": "float"
        },
        {
         "name": "SIDAK_SD",
         "rawType": "float64",
         "type": "float"
        },
        {
         "name": "FDR_BH",
         "rawType": "float64",
         "type": "float"
        },
        {
         "name": "FDR_BY",
         "rawType": "float64",
         "type": "float"
        },
        {
         "name": "Bacteria",
         "rawType": "int64",
         "type": "integer"
        }
       ],
       "conversionMethod": "pd.DataFrame",
       "ref": "5d91f824-44ba-45e8-8f44-c83e91e571a0",
       "rows": [
        [
         "0",
         "4",
         "4:8609098",
         "1.052e-70",
         "2.656e-06",
         "1.119e-63",
         "1.119e-63",
         "inf",
         "inf",
         "1.119e-63",
         "1.874e-62",
         "38"
        ],
        [
         "1",
         "20",
         "20:30977589",
         "1.002e-69",
         "2.671e-06",
         "1.065e-62",
         "1.065e-62",
         "inf",
         "inf",
         "5.324000000000001e-63",
         "8.92e-62",
         "38"
        ],
        [
         "2",
         "18",
         "18:64718990",
         "1.591e-65",
         "1.234e-05",
         "1.691e-58",
         "1.691e-58",
         "inf",
         "inf",
         "5.638e-59",
         "9.447e-58",
         "38"
        ],
        [
         "3",
         "HG1523_PATCH",
         "HG1523_PATCH:43470",
         "1.057e-65",
         "1.429e-06",
         "1.123e-58",
         "1.123e-58",
         "inf",
         "inf",
         "7.890999999999999e-59",
         "1.322e-57",
         "17"
        ],
        [
         "4",
         "26",
         "26:12121",
         "2.227e-65",
         "2.773e-05",
         "2.367e-58",
         "2.367e-58",
         "inf",
         "inf",
         "7.890999999999999e-59",
         "1.322e-57",
         "17"
        ]
       ],
       "shape": {
        "columns": 11,
        "rows": 5
       }
      },
      "text/html": [
       "<div>\n",
       "<style scoped>\n",
       "    .dataframe tbody tr th:only-of-type {\n",
       "        vertical-align: middle;\n",
       "    }\n",
       "\n",
       "    .dataframe tbody tr th {\n",
       "        vertical-align: top;\n",
       "    }\n",
       "\n",
       "    .dataframe thead th {\n",
       "        text-align: right;\n",
       "    }\n",
       "</style>\n",
       "<table border=\"1\" class=\"dataframe\">\n",
       "  <thead>\n",
       "    <tr style=\"text-align: right;\">\n",
       "      <th></th>\n",
       "      <th>CHR</th>\n",
       "      <th>SNP</th>\n",
       "      <th>UNADJ</th>\n",
       "      <th>GC</th>\n",
       "      <th>BONF</th>\n",
       "      <th>HOLM</th>\n",
       "      <th>SIDAK_SS</th>\n",
       "      <th>SIDAK_SD</th>\n",
       "      <th>FDR_BH</th>\n",
       "      <th>FDR_BY</th>\n",
       "      <th>Bacteria</th>\n",
       "    </tr>\n",
       "  </thead>\n",
       "  <tbody>\n",
       "    <tr>\n",
       "      <th>0</th>\n",
       "      <td>4</td>\n",
       "      <td>4:8609098</td>\n",
       "      <td>1.052000e-70</td>\n",
       "      <td>0.000003</td>\n",
       "      <td>1.119000e-63</td>\n",
       "      <td>1.119000e-63</td>\n",
       "      <td>inf</td>\n",
       "      <td>inf</td>\n",
       "      <td>1.119000e-63</td>\n",
       "      <td>1.874000e-62</td>\n",
       "      <td>38</td>\n",
       "    </tr>\n",
       "    <tr>\n",
       "      <th>1</th>\n",
       "      <td>20</td>\n",
       "      <td>20:30977589</td>\n",
       "      <td>1.002000e-69</td>\n",
       "      <td>0.000003</td>\n",
       "      <td>1.065000e-62</td>\n",
       "      <td>1.065000e-62</td>\n",
       "      <td>inf</td>\n",
       "      <td>inf</td>\n",
       "      <td>5.324000e-63</td>\n",
       "      <td>8.920000e-62</td>\n",
       "      <td>38</td>\n",
       "    </tr>\n",
       "    <tr>\n",
       "      <th>2</th>\n",
       "      <td>18</td>\n",
       "      <td>18:64718990</td>\n",
       "      <td>1.591000e-65</td>\n",
       "      <td>0.000012</td>\n",
       "      <td>1.691000e-58</td>\n",
       "      <td>1.691000e-58</td>\n",
       "      <td>inf</td>\n",
       "      <td>inf</td>\n",
       "      <td>5.638000e-59</td>\n",
       "      <td>9.447000e-58</td>\n",
       "      <td>38</td>\n",
       "    </tr>\n",
       "    <tr>\n",
       "      <th>3</th>\n",
       "      <td>HG1523_PATCH</td>\n",
       "      <td>HG1523_PATCH:43470</td>\n",
       "      <td>1.057000e-65</td>\n",
       "      <td>0.000001</td>\n",
       "      <td>1.123000e-58</td>\n",
       "      <td>1.123000e-58</td>\n",
       "      <td>inf</td>\n",
       "      <td>inf</td>\n",
       "      <td>7.891000e-59</td>\n",
       "      <td>1.322000e-57</td>\n",
       "      <td>17</td>\n",
       "    </tr>\n",
       "    <tr>\n",
       "      <th>4</th>\n",
       "      <td>26</td>\n",
       "      <td>26:12121</td>\n",
       "      <td>2.227000e-65</td>\n",
       "      <td>0.000028</td>\n",
       "      <td>2.367000e-58</td>\n",
       "      <td>2.367000e-58</td>\n",
       "      <td>inf</td>\n",
       "      <td>inf</td>\n",
       "      <td>7.891000e-59</td>\n",
       "      <td>1.322000e-57</td>\n",
       "      <td>17</td>\n",
       "    </tr>\n",
       "  </tbody>\n",
       "</table>\n",
       "</div>"
      ],
      "text/plain": [
       "            CHR                 SNP         UNADJ        GC          BONF  \\\n",
       "0             4           4:8609098  1.052000e-70  0.000003  1.119000e-63   \n",
       "1            20         20:30977589  1.002000e-69  0.000003  1.065000e-62   \n",
       "2            18         18:64718990  1.591000e-65  0.000012  1.691000e-58   \n",
       "3  HG1523_PATCH  HG1523_PATCH:43470  1.057000e-65  0.000001  1.123000e-58   \n",
       "4            26            26:12121  2.227000e-65  0.000028  2.367000e-58   \n",
       "\n",
       "           HOLM  SIDAK_SS  SIDAK_SD        FDR_BH        FDR_BY  Bacteria  \n",
       "0  1.119000e-63       inf       inf  1.119000e-63  1.874000e-62        38  \n",
       "1  1.065000e-62       inf       inf  5.324000e-63  8.920000e-62        38  \n",
       "2  1.691000e-58       inf       inf  5.638000e-59  9.447000e-58        38  \n",
       "3  1.123000e-58       inf       inf  7.891000e-59  1.322000e-57        17  \n",
       "4  2.367000e-58       inf       inf  7.891000e-59  1.322000e-57        17  "
      ]
     },
     "execution_count": 3,
     "metadata": {},
     "output_type": "execute_result"
    }
   ],
   "source": [
    "full_data_bj.head()\n"
   ]
  },
  {
   "cell_type": "code",
   "execution_count": 4,
   "metadata": {},
   "outputs": [
    {
     "data": {
      "application/vnd.microsoft.datawrangler.viewer.v0+json": {
       "columns": [
        {
         "name": "index",
         "rawType": "int64",
         "type": "integer"
        },
        {
         "name": "CHR",
         "rawType": "object",
         "type": "string"
        },
        {
         "name": "SNP",
         "rawType": "object",
         "type": "string"
        },
        {
         "name": "UNADJ",
         "rawType": "float64",
         "type": "float"
        },
        {
         "name": "GC",
         "rawType": "float64",
         "type": "float"
        },
        {
         "name": "BONF",
         "rawType": "float64",
         "type": "float"
        },
        {
         "name": "HOLM",
         "rawType": "float64",
         "type": "float"
        },
        {
         "name": "SIDAK_SS",
         "rawType": "float64",
         "type": "float"
        },
        {
         "name": "SIDAK_SD",
         "rawType": "float64",
         "type": "float"
        },
        {
         "name": "FDR_BH",
         "rawType": "float64",
         "type": "float"
        },
        {
         "name": "FDR_BY",
         "rawType": "float64",
         "type": "float"
        },
        {
         "name": "Bacteria",
         "rawType": "int64",
         "type": "integer"
        }
       ],
       "conversionMethod": "pd.DataFrame",
       "ref": "57899f82-8d42-4e12-8c86-8166f37e1056",
       "rows": [
        [
         "0",
         "18",
         "18:107881",
         "1.282e-52",
         "8.328e-06",
         "7.951e-46",
         "7.951e-46",
         "inf",
         "inf",
         "7.951e-46",
         "1.289e-44",
         "4"
        ],
        [
         "1",
         "GL000225.1",
         "GL000225.1:63186",
         "2.544e-48",
         "2.647e-06",
         "1.5789999999999999e-41",
         "1.5789999999999999e-41",
         "inf",
         "inf",
         "1.5789999999999999e-41",
         "2.5599999999999993e-40",
         "45"
        ],
        [
         "2",
         "GL000225.1",
         "GL000225.1:63182",
         "5.185e-48",
         "9.116e-06",
         "3.216999999999999e-41",
         "3.216999999999999e-41",
         "inf",
         "inf",
         "1.608e-41",
         "2.609e-40",
         "45"
        ],
        [
         "3",
         "HG2069_PATCH",
         "HG2069_PATCH:279669",
         "1.065e-45",
         "3.662e-05",
         "6.609e-39",
         "6.609e-39",
         "inf",
         "inf",
         "2.203e-39",
         "3.573e-38",
         "45"
        ],
        [
         "4",
         "20",
         "20:31067694",
         "2.4779999999999997e-45",
         "3.802e-05",
         "1.538e-38",
         "1.538e-38",
         "inf",
         "inf",
         "3.844e-39",
         "6.234e-38",
         "45"
        ]
       ],
       "shape": {
        "columns": 11,
        "rows": 5
       }
      },
      "text/html": [
       "<div>\n",
       "<style scoped>\n",
       "    .dataframe tbody tr th:only-of-type {\n",
       "        vertical-align: middle;\n",
       "    }\n",
       "\n",
       "    .dataframe tbody tr th {\n",
       "        vertical-align: top;\n",
       "    }\n",
       "\n",
       "    .dataframe thead th {\n",
       "        text-align: right;\n",
       "    }\n",
       "</style>\n",
       "<table border=\"1\" class=\"dataframe\">\n",
       "  <thead>\n",
       "    <tr style=\"text-align: right;\">\n",
       "      <th></th>\n",
       "      <th>CHR</th>\n",
       "      <th>SNP</th>\n",
       "      <th>UNADJ</th>\n",
       "      <th>GC</th>\n",
       "      <th>BONF</th>\n",
       "      <th>HOLM</th>\n",
       "      <th>SIDAK_SS</th>\n",
       "      <th>SIDAK_SD</th>\n",
       "      <th>FDR_BH</th>\n",
       "      <th>FDR_BY</th>\n",
       "      <th>Bacteria</th>\n",
       "    </tr>\n",
       "  </thead>\n",
       "  <tbody>\n",
       "    <tr>\n",
       "      <th>0</th>\n",
       "      <td>18</td>\n",
       "      <td>18:107881</td>\n",
       "      <td>1.282000e-52</td>\n",
       "      <td>0.000008</td>\n",
       "      <td>7.951000e-46</td>\n",
       "      <td>7.951000e-46</td>\n",
       "      <td>inf</td>\n",
       "      <td>inf</td>\n",
       "      <td>7.951000e-46</td>\n",
       "      <td>1.289000e-44</td>\n",
       "      <td>4</td>\n",
       "    </tr>\n",
       "    <tr>\n",
       "      <th>1</th>\n",
       "      <td>GL000225.1</td>\n",
       "      <td>GL000225.1:63186</td>\n",
       "      <td>2.544000e-48</td>\n",
       "      <td>0.000003</td>\n",
       "      <td>1.579000e-41</td>\n",
       "      <td>1.579000e-41</td>\n",
       "      <td>inf</td>\n",
       "      <td>inf</td>\n",
       "      <td>1.579000e-41</td>\n",
       "      <td>2.560000e-40</td>\n",
       "      <td>45</td>\n",
       "    </tr>\n",
       "    <tr>\n",
       "      <th>2</th>\n",
       "      <td>GL000225.1</td>\n",
       "      <td>GL000225.1:63182</td>\n",
       "      <td>5.185000e-48</td>\n",
       "      <td>0.000009</td>\n",
       "      <td>3.217000e-41</td>\n",
       "      <td>3.217000e-41</td>\n",
       "      <td>inf</td>\n",
       "      <td>inf</td>\n",
       "      <td>1.608000e-41</td>\n",
       "      <td>2.609000e-40</td>\n",
       "      <td>45</td>\n",
       "    </tr>\n",
       "    <tr>\n",
       "      <th>3</th>\n",
       "      <td>HG2069_PATCH</td>\n",
       "      <td>HG2069_PATCH:279669</td>\n",
       "      <td>1.065000e-45</td>\n",
       "      <td>0.000037</td>\n",
       "      <td>6.609000e-39</td>\n",
       "      <td>6.609000e-39</td>\n",
       "      <td>inf</td>\n",
       "      <td>inf</td>\n",
       "      <td>2.203000e-39</td>\n",
       "      <td>3.573000e-38</td>\n",
       "      <td>45</td>\n",
       "    </tr>\n",
       "    <tr>\n",
       "      <th>4</th>\n",
       "      <td>20</td>\n",
       "      <td>20:31067694</td>\n",
       "      <td>2.478000e-45</td>\n",
       "      <td>0.000038</td>\n",
       "      <td>1.538000e-38</td>\n",
       "      <td>1.538000e-38</td>\n",
       "      <td>inf</td>\n",
       "      <td>inf</td>\n",
       "      <td>3.844000e-39</td>\n",
       "      <td>6.234000e-38</td>\n",
       "      <td>45</td>\n",
       "    </tr>\n",
       "  </tbody>\n",
       "</table>\n",
       "</div>"
      ],
      "text/plain": [
       "            CHR                  SNP         UNADJ        GC          BONF  \\\n",
       "0            18            18:107881  1.282000e-52  0.000008  7.951000e-46   \n",
       "1    GL000225.1     GL000225.1:63186  2.544000e-48  0.000003  1.579000e-41   \n",
       "2    GL000225.1     GL000225.1:63182  5.185000e-48  0.000009  3.217000e-41   \n",
       "3  HG2069_PATCH  HG2069_PATCH:279669  1.065000e-45  0.000037  6.609000e-39   \n",
       "4            20          20:31067694  2.478000e-45  0.000038  1.538000e-38   \n",
       "\n",
       "           HOLM  SIDAK_SS  SIDAK_SD        FDR_BH        FDR_BY  Bacteria  \n",
       "0  7.951000e-46       inf       inf  7.951000e-46  1.289000e-44         4  \n",
       "1  1.579000e-41       inf       inf  1.579000e-41  2.560000e-40        45  \n",
       "2  3.217000e-41       inf       inf  1.608000e-41  2.609000e-40        45  \n",
       "3  6.609000e-39       inf       inf  2.203000e-39  3.573000e-38        45  \n",
       "4  1.538000e-38       inf       inf  3.844000e-39  6.234000e-38        45  "
      ]
     },
     "execution_count": 4,
     "metadata": {},
     "output_type": "execute_result"
    }
   ],
   "source": [
    "full_data_gz.head()\n"
   ]
  },
  {
   "cell_type": "code",
   "execution_count": 5,
   "metadata": {},
   "outputs": [],
   "source": [
    "full_bac_bj = pd.read_csv('../../data/export/FMGC.ge/Beijing.csv')\n",
    "full_bac_gz = pd.read_csv('../../data/export/FMGC.ge/Guangzhou.csv')\n"
   ]
  },
  {
   "cell_type": "code",
   "execution_count": 6,
   "metadata": {},
   "outputs": [
    {
     "data": {
      "application/vnd.microsoft.datawrangler.viewer.v0+json": {
       "columns": [
        {
         "name": "index",
         "rawType": "int64",
         "type": "integer"
        },
        {
         "name": "Genus",
         "rawType": "object",
         "type": "string"
        },
        {
         "name": "BJ001",
         "rawType": "float64",
         "type": "float"
        },
        {
         "name": "BJ002",
         "rawType": "float64",
         "type": "float"
        },
        {
         "name": "BJ004",
         "rawType": "float64",
         "type": "float"
        },
        {
         "name": "BJ005",
         "rawType": "float64",
         "type": "float"
        },
        {
         "name": "BJ006",
         "rawType": "float64",
         "type": "float"
        },
        {
         "name": "BJ008",
         "rawType": "float64",
         "type": "float"
        },
        {
         "name": "BJ013",
         "rawType": "float64",
         "type": "float"
        },
        {
         "name": "BJ014",
         "rawType": "float64",
         "type": "float"
        },
        {
         "name": "BJ015",
         "rawType": "float64",
         "type": "float"
        },
        {
         "name": "BJ016",
         "rawType": "float64",
         "type": "float"
        },
        {
         "name": "BJ017",
         "rawType": "float64",
         "type": "float"
        },
        {
         "name": "BJ019",
         "rawType": "float64",
         "type": "float"
        },
        {
         "name": "BJ022",
         "rawType": "float64",
         "type": "float"
        },
        {
         "name": "BJ023",
         "rawType": "float64",
         "type": "float"
        },
        {
         "name": "BJ024",
         "rawType": "float64",
         "type": "float"
        },
        {
         "name": "BJ025",
         "rawType": "float64",
         "type": "float"
        },
        {
         "name": "BJ026",
         "rawType": "float64",
         "type": "float"
        },
        {
         "name": "BJ027",
         "rawType": "float64",
         "type": "float"
        },
        {
         "name": "BJ028",
         "rawType": "float64",
         "type": "float"
        },
        {
         "name": "BJ029",
         "rawType": "float64",
         "type": "float"
        },
        {
         "name": "BJ030",
         "rawType": "float64",
         "type": "float"
        },
        {
         "name": "BJ031",
         "rawType": "float64",
         "type": "float"
        },
        {
         "name": "BJ032",
         "rawType": "float64",
         "type": "float"
        },
        {
         "name": "BJ033",
         "rawType": "float64",
         "type": "float"
        },
        {
         "name": "BJ034",
         "rawType": "float64",
         "type": "float"
        },
        {
         "name": "BJ035",
         "rawType": "float64",
         "type": "float"
        },
        {
         "name": "BJ036",
         "rawType": "float64",
         "type": "float"
        },
        {
         "name": "BJ037",
         "rawType": "float64",
         "type": "float"
        },
        {
         "name": "BJ038",
         "rawType": "float64",
         "type": "float"
        },
        {
         "name": "BJ039",
         "rawType": "float64",
         "type": "float"
        },
        {
         "name": "BJ040",
         "rawType": "float64",
         "type": "float"
        },
        {
         "name": "BJ041",
         "rawType": "float64",
         "type": "float"
        },
        {
         "name": "BJ042",
         "rawType": "float64",
         "type": "float"
        },
        {
         "name": "BJ043",
         "rawType": "float64",
         "type": "float"
        },
        {
         "name": "BJ044",
         "rawType": "float64",
         "type": "float"
        },
        {
         "name": "BJ045",
         "rawType": "float64",
         "type": "float"
        },
        {
         "name": "BJ046",
         "rawType": "float64",
         "type": "float"
        },
        {
         "name": "BJ047",
         "rawType": "float64",
         "type": "float"
        },
        {
         "name": "BJ048",
         "rawType": "float64",
         "type": "float"
        },
        {
         "name": "BJ049",
         "rawType": "float64",
         "type": "float"
        },
        {
         "name": "BJ050",
         "rawType": "float64",
         "type": "float"
        },
        {
         "name": "BJ051",
         "rawType": "float64",
         "type": "float"
        },
        {
         "name": "BJ052",
         "rawType": "float64",
         "type": "float"
        },
        {
         "name": "BJ053",
         "rawType": "float64",
         "type": "float"
        },
        {
         "name": "BJ054",
         "rawType": "float64",
         "type": "float"
        },
        {
         "name": "BJ056",
         "rawType": "float64",
         "type": "float"
        },
        {
         "name": "BJ057",
         "rawType": "float64",
         "type": "float"
        },
        {
         "name": "BJ058",
         "rawType": "float64",
         "type": "float"
        },
        {
         "name": "BJ059",
         "rawType": "float64",
         "type": "float"
        },
        {
         "name": "BJ060",
         "rawType": "float64",
         "type": "float"
        },
        {
         "name": "BJ061",
         "rawType": "float64",
         "type": "float"
        },
        {
         "name": "BJ062",
         "rawType": "float64",
         "type": "float"
        },
        {
         "name": "BJ063",
         "rawType": "float64",
         "type": "float"
        },
        {
         "name": "BJ064",
         "rawType": "float64",
         "type": "float"
        },
        {
         "name": "BJ065",
         "rawType": "float64",
         "type": "float"
        },
        {
         "name": "BJ066",
         "rawType": "float64",
         "type": "float"
        },
        {
         "name": "BJ067",
         "rawType": "float64",
         "type": "float"
        },
        {
         "name": "BJ068",
         "rawType": "float64",
         "type": "float"
        },
        {
         "name": "BJ069",
         "rawType": "float64",
         "type": "float"
        },
        {
         "name": "BJ070",
         "rawType": "float64",
         "type": "float"
        },
        {
         "name": "BJ071",
         "rawType": "float64",
         "type": "float"
        },
        {
         "name": "BJ072",
         "rawType": "float64",
         "type": "float"
        },
        {
         "name": "BJ073",
         "rawType": "float64",
         "type": "float"
        },
        {
         "name": "BJ074",
         "rawType": "float64",
         "type": "float"
        },
        {
         "name": "BJ075",
         "rawType": "float64",
         "type": "float"
        },
        {
         "name": "BJ076",
         "rawType": "float64",
         "type": "float"
        },
        {
         "name": "BJ077",
         "rawType": "float64",
         "type": "float"
        },
        {
         "name": "BJ078",
         "rawType": "float64",
         "type": "float"
        },
        {
         "name": "BJ079",
         "rawType": "float64",
         "type": "float"
        },
        {
         "name": "BJ080",
         "rawType": "float64",
         "type": "float"
        },
        {
         "name": "BJ081",
         "rawType": "float64",
         "type": "float"
        },
        {
         "name": "BJ082",
         "rawType": "float64",
         "type": "float"
        },
        {
         "name": "BJ083",
         "rawType": "float64",
         "type": "float"
        },
        {
         "name": "BJ084",
         "rawType": "float64",
         "type": "float"
        },
        {
         "name": "BJ085",
         "rawType": "float64",
         "type": "float"
        },
        {
         "name": "BJ086",
         "rawType": "float64",
         "type": "float"
        },
        {
         "name": "BJ088",
         "rawType": "float64",
         "type": "float"
        },
        {
         "name": "BJ089",
         "rawType": "float64",
         "type": "float"
        },
        {
         "name": "BJ090",
         "rawType": "float64",
         "type": "float"
        },
        {
         "name": "BJ091",
         "rawType": "float64",
         "type": "float"
        },
        {
         "name": "BJ092",
         "rawType": "float64",
         "type": "float"
        },
        {
         "name": "BJ093",
         "rawType": "float64",
         "type": "float"
        },
        {
         "name": "BJ094",
         "rawType": "float64",
         "type": "float"
        },
        {
         "name": "BJ095",
         "rawType": "float64",
         "type": "float"
        },
        {
         "name": "BJ096",
         "rawType": "float64",
         "type": "float"
        },
        {
         "name": "BJ097",
         "rawType": "float64",
         "type": "float"
        },
        {
         "name": "BJ098",
         "rawType": "float64",
         "type": "float"
        },
        {
         "name": "BJ099",
         "rawType": "float64",
         "type": "float"
        },
        {
         "name": "BJ100",
         "rawType": "float64",
         "type": "float"
        },
        {
         "name": "BJ101",
         "rawType": "float64",
         "type": "float"
        },
        {
         "name": "BJ102",
         "rawType": "float64",
         "type": "float"
        },
        {
         "name": "BJ103",
         "rawType": "float64",
         "type": "float"
        },
        {
         "name": "BJ104",
         "rawType": "float64",
         "type": "float"
        },
        {
         "name": "BJ105",
         "rawType": "float64",
         "type": "float"
        },
        {
         "name": "BJ106",
         "rawType": "float64",
         "type": "float"
        },
        {
         "name": "BJ107",
         "rawType": "float64",
         "type": "float"
        },
        {
         "name": "BJ108",
         "rawType": "float64",
         "type": "float"
        },
        {
         "name": "BJ109",
         "rawType": "float64",
         "type": "float"
        },
        {
         "name": "BJ110",
         "rawType": "float64",
         "type": "float"
        },
        {
         "name": "BJ111",
         "rawType": "float64",
         "type": "float"
        },
        {
         "name": "BJ112",
         "rawType": "float64",
         "type": "float"
        },
        {
         "name": "BJ113",
         "rawType": "float64",
         "type": "float"
        },
        {
         "name": "BJ114",
         "rawType": "float64",
         "type": "float"
        },
        {
         "name": "BJ115",
         "rawType": "float64",
         "type": "float"
        },
        {
         "name": "BJ116",
         "rawType": "float64",
         "type": "float"
        },
        {
         "name": "BJ117",
         "rawType": "float64",
         "type": "float"
        },
        {
         "name": "BJ118",
         "rawType": "float64",
         "type": "float"
        },
        {
         "name": "BJ119",
         "rawType": "float64",
         "type": "float"
        },
        {
         "name": "BJ121",
         "rawType": "float64",
         "type": "float"
        },
        {
         "name": "BJ122",
         "rawType": "float64",
         "type": "float"
        },
        {
         "name": "BJ123",
         "rawType": "float64",
         "type": "float"
        },
        {
         "name": "BJ124",
         "rawType": "float64",
         "type": "float"
        },
        {
         "name": "BJ125",
         "rawType": "float64",
         "type": "float"
        },
        {
         "name": "BJ126",
         "rawType": "float64",
         "type": "float"
        },
        {
         "name": "BJ127",
         "rawType": "float64",
         "type": "float"
        },
        {
         "name": "BJ128",
         "rawType": "float64",
         "type": "float"
        },
        {
         "name": "BJ129",
         "rawType": "float64",
         "type": "float"
        },
        {
         "name": "BJ130",
         "rawType": "float64",
         "type": "float"
        },
        {
         "name": "BJ131",
         "rawType": "float64",
         "type": "float"
        },
        {
         "name": "BJ133",
         "rawType": "float64",
         "type": "float"
        },
        {
         "name": "BJ134",
         "rawType": "float64",
         "type": "float"
        },
        {
         "name": "BJ135",
         "rawType": "float64",
         "type": "float"
        },
        {
         "name": "BJ137",
         "rawType": "float64",
         "type": "float"
        },
        {
         "name": "BJ138",
         "rawType": "float64",
         "type": "float"
        },
        {
         "name": "BJ139",
         "rawType": "float64",
         "type": "float"
        },
        {
         "name": "BJ140",
         "rawType": "float64",
         "type": "float"
        },
        {
         "name": "BJ141",
         "rawType": "float64",
         "type": "float"
        },
        {
         "name": "BJ142",
         "rawType": "float64",
         "type": "float"
        },
        {
         "name": "BJ143",
         "rawType": "float64",
         "type": "float"
        },
        {
         "name": "BJ144",
         "rawType": "float64",
         "type": "float"
        },
        {
         "name": "BJ145",
         "rawType": "float64",
         "type": "float"
        },
        {
         "name": "BJ146",
         "rawType": "float64",
         "type": "float"
        },
        {
         "name": "BJ147",
         "rawType": "float64",
         "type": "float"
        },
        {
         "name": "BJ148",
         "rawType": "float64",
         "type": "float"
        },
        {
         "name": "BJ149",
         "rawType": "float64",
         "type": "float"
        },
        {
         "name": "BJ150",
         "rawType": "float64",
         "type": "float"
        },
        {
         "name": "BJ151",
         "rawType": "float64",
         "type": "float"
        },
        {
         "name": "BJ152",
         "rawType": "float64",
         "type": "float"
        },
        {
         "name": "BJ153",
         "rawType": "float64",
         "type": "float"
        },
        {
         "name": "BJ154",
         "rawType": "float64",
         "type": "float"
        },
        {
         "name": "BJ155",
         "rawType": "float64",
         "type": "float"
        },
        {
         "name": "BJ156",
         "rawType": "float64",
         "type": "float"
        },
        {
         "name": "BJ157",
         "rawType": "float64",
         "type": "float"
        },
        {
         "name": "BJ158",
         "rawType": "float64",
         "type": "float"
        },
        {
         "name": "BJ159",
         "rawType": "float64",
         "type": "float"
        },
        {
         "name": "BJ160",
         "rawType": "float64",
         "type": "float"
        },
        {
         "name": "BJ161",
         "rawType": "float64",
         "type": "float"
        },
        {
         "name": "BJ162",
         "rawType": "float64",
         "type": "float"
        },
        {
         "name": "BJ163",
         "rawType": "float64",
         "type": "float"
        },
        {
         "name": "BJ164",
         "rawType": "float64",
         "type": "float"
        },
        {
         "name": "BJ165",
         "rawType": "float64",
         "type": "float"
        },
        {
         "name": "BJ166",
         "rawType": "float64",
         "type": "float"
        },
        {
         "name": "BJ167",
         "rawType": "float64",
         "type": "float"
        },
        {
         "name": "BJ168",
         "rawType": "float64",
         "type": "float"
        },
        {
         "name": "BJ169",
         "rawType": "float64",
         "type": "float"
        },
        {
         "name": "BJ170",
         "rawType": "float64",
         "type": "float"
        },
        {
         "name": "BJ172",
         "rawType": "float64",
         "type": "float"
        },
        {
         "name": "BJ173",
         "rawType": "float64",
         "type": "float"
        },
        {
         "name": "BJ174",
         "rawType": "float64",
         "type": "float"
        },
        {
         "name": "BJ176",
         "rawType": "float64",
         "type": "float"
        },
        {
         "name": "BJ177",
         "rawType": "float64",
         "type": "float"
        },
        {
         "name": "BJ178",
         "rawType": "float64",
         "type": "float"
        },
        {
         "name": "BJ179",
         "rawType": "float64",
         "type": "float"
        },
        {
         "name": "BJ180",
         "rawType": "float64",
         "type": "float"
        },
        {
         "name": "BJ181",
         "rawType": "float64",
         "type": "float"
        },
        {
         "name": "BJ182",
         "rawType": "float64",
         "type": "float"
        },
        {
         "name": "BJ183",
         "rawType": "float64",
         "type": "float"
        },
        {
         "name": "BJ184",
         "rawType": "float64",
         "type": "float"
        },
        {
         "name": "BJ185",
         "rawType": "float64",
         "type": "float"
        },
        {
         "name": "BJ186",
         "rawType": "float64",
         "type": "float"
        },
        {
         "name": "BJ187",
         "rawType": "float64",
         "type": "float"
        },
        {
         "name": "BJ188",
         "rawType": "float64",
         "type": "float"
        },
        {
         "name": "BJ189",
         "rawType": "float64",
         "type": "float"
        },
        {
         "name": "BJ190",
         "rawType": "float64",
         "type": "float"
        },
        {
         "name": "BJ191",
         "rawType": "float64",
         "type": "float"
        },
        {
         "name": "BJ192",
         "rawType": "float64",
         "type": "float"
        },
        {
         "name": "BJ194",
         "rawType": "float64",
         "type": "float"
        },
        {
         "name": "BJ195",
         "rawType": "float64",
         "type": "float"
        },
        {
         "name": "BJ198",
         "rawType": "float64",
         "type": "float"
        },
        {
         "name": "BJ199",
         "rawType": "float64",
         "type": "float"
        },
        {
         "name": "BJ201",
         "rawType": "float64",
         "type": "float"
        },
        {
         "name": "BJ202",
         "rawType": "float64",
         "type": "float"
        },
        {
         "name": "BJ203",
         "rawType": "float64",
         "type": "float"
        },
        {
         "name": "BJ204",
         "rawType": "float64",
         "type": "float"
        },
        {
         "name": "BJ205",
         "rawType": "float64",
         "type": "float"
        },
        {
         "name": "BJ206",
         "rawType": "float64",
         "type": "float"
        },
        {
         "name": "BJ207",
         "rawType": "float64",
         "type": "float"
        },
        {
         "name": "BJ208",
         "rawType": "float64",
         "type": "float"
        },
        {
         "name": "BJ210",
         "rawType": "float64",
         "type": "float"
        },
        {
         "name": "BJ211",
         "rawType": "float64",
         "type": "float"
        },
        {
         "name": "BJ212",
         "rawType": "float64",
         "type": "float"
        },
        {
         "name": "BJ214",
         "rawType": "float64",
         "type": "float"
        },
        {
         "name": "BJ215",
         "rawType": "float64",
         "type": "float"
        },
        {
         "name": "BJ216",
         "rawType": "float64",
         "type": "float"
        },
        {
         "name": "BJ217",
         "rawType": "float64",
         "type": "float"
        },
        {
         "name": "BJ218",
         "rawType": "float64",
         "type": "float"
        },
        {
         "name": "BJ219",
         "rawType": "float64",
         "type": "float"
        },
        {
         "name": "BJ220",
         "rawType": "float64",
         "type": "float"
        },
        {
         "name": "BJ222",
         "rawType": "float64",
         "type": "float"
        },
        {
         "name": "BJ223",
         "rawType": "float64",
         "type": "float"
        },
        {
         "name": "BJ224",
         "rawType": "float64",
         "type": "float"
        }
       ],
       "conversionMethod": "pd.DataFrame",
       "ref": "2ed979d6-2baa-4c37-93ad-9232265c413e",
       "rows": [
        [
         "0",
         "2-12-FULL-35-15",
         "0.0",
         "0.0",
         "0.0",
         "0.0",
         "0.0",
         "0.0",
         "0.0",
         "0.0018024449859974",
         "0.0",
         "0.0",
         "0.0",
         "0.0",
         "0.0",
         "0.0",
         "0.0",
         "0.0",
         "0.0",
         "0.0",
         "0.0",
         "0.0",
         "0.0",
         "0.0",
         "0.0",
         "0.0",
         "0.0",
         "0.0",
         "0.0",
         "0.0",
         "0.0",
         "0.0",
         "0.0",
         "0.0",
         "0.0",
         "0.0",
         "0.0",
         "0.0",
         "0.0",
         "0.0",
         "0.0",
         "0.0",
         "0.0",
         "0.0",
         "0.0",
         "0.0",
         "0.0",
         "0.0",
         "0.0",
         "0.0",
         "0.0",
         "0.0",
         "0.0",
         "0.0",
         "0.0",
         "0.0",
         "0.0",
         "0.0",
         "0.0",
         "0.0",
         "0.0",
         "0.0",
         "0.0",
         "0.0",
         "0.0",
         "0.0",
         "0.0",
         "0.0",
         "0.0",
         "0.0",
         "0.0",
         "0.0",
         "0.0",
         "0.0",
         "0.0",
         "0.0",
         "0.0",
         "0.0",
         "0.0",
         "0.0",
         "0.0",
         "0.0",
         "0.0",
         "0.0",
         "0.0",
         "0.0",
         "0.0",
         "0.0",
         "0.0",
         "0.0",
         "0.0",
         "0.0",
         "0.0",
         "0.0",
         "0.0",
         "0.0",
         "0.0",
         "0.0",
         "0.0",
         "0.0",
         "0.0",
         "0.0",
         "0.0",
         "0.0",
         "0.0",
         "0.0",
         "0.0",
         "0.0",
         "0.0",
         "0.0",
         "0.0",
         "0.0",
         "0.0",
         "0.0",
         "0.0",
         "0.0",
         "0.0",
         "0.0",
         "0.0",
         "0.0",
         "0.0",
         "0.0",
         "0.0",
         "0.0",
         "0.0",
         "0.0",
         "0.0",
         "0.0",
         "0.0",
         "0.0",
         "0.0",
         "0.0",
         "0.0",
         "0.0",
         "0.0",
         "0.0",
         "0.0",
         "0.0",
         "0.0",
         "0.0",
         "0.0",
         "0.0",
         "0.0",
         "0.0",
         "0.0",
         "0.0",
         "0.0",
         "0.0",
         "0.0",
         "0.0",
         "0.0",
         "0.0",
         "0.0",
         "0.0",
         "0.0",
         "0.0",
         "0.0",
         "0.0",
         "0.0",
         "0.0",
         "0.0",
         "0.0",
         "0.0",
         "0.0",
         "0.0",
         "0.0",
         "0.0",
         "0.0",
         "0.0",
         "0.0",
         "0.0",
         "0.0",
         "0.0",
         "0.0",
         "0.0",
         "0.0",
         "0.0",
         "0.0",
         "0.0",
         "0.0",
         "0.0",
         "0.0",
         "0.0",
         "0.0",
         "0.0",
         "0.0",
         "0.0",
         "0.0",
         "0.0",
         "0.0",
         "0.0",
         "0.0",
         "0.0",
         "0.0",
         "0.0",
         "0.0",
         "0.0",
         "0.0",
         "0.0",
         "0.0",
         "0.0",
         "0.0",
         "0.0"
        ],
        [
         "1",
         "Abiotrophia",
         "0.0",
         "0.0",
         "0.0",
         "0.0",
         "0.0",
         "0.0",
         "0.0",
         "0.0",
         "0.0",
         "0.0",
         "0.0",
         "0.0",
         "0.0",
         "0.0",
         "0.0012840632118817",
         "0.0",
         "0.0",
         "0.0",
         "0.0003602975923339",
         "0.0",
         "0.0",
         "0.0",
         "0.0",
         "0.0",
         "0.0",
         "0.0",
         "0.0",
         "0.0",
         "0.0",
         "0.0",
         "0.0",
         "0.0",
         "0.0",
         "0.0",
         "0.0",
         "0.0",
         "0.0",
         "0.0",
         "0.0",
         "0.0",
         "0.0",
         "0.0",
         "0.0",
         "0.0",
         "0.0",
         "0.0",
         "0.0",
         "0.0",
         "0.0",
         "0.0",
         "0.0",
         "0.0",
         "0.0",
         "0.0",
         "0.0",
         "0.0",
         "0.0",
         "0.0",
         "0.0",
         "0.0",
         "0.0",
         "0.0002875923905417",
         "0.0",
         "0.0012959316247102",
         "0.0",
         "0.0",
         "0.0",
         "0.0001204317568955",
         "0.0",
         "0.0",
         "0.0002355643419606",
         "0.001867670072409",
         "0.0",
         "0.0",
         "0.0",
         "0.0023038835626375",
         "0.0",
         "0.0",
         "0.0",
         "0.0",
         "0.0",
         "0.0",
         "0.0",
         "0.0",
         "0.0011984976417606",
         "0.0",
         "0.0",
         "0.0",
         "0.0",
         "0.0",
         "0.0003371929505534",
         "0.0",
         "0.0",
         "0.0",
         "0.0",
         "0.0001364016635607",
         "0.0",
         "0.0",
         "0.0",
         "0.0",
         "0.0",
         "0.0",
         "0.0",
         "0.0",
         "0.0",
         "0.0013315387163236",
         "0.0",
         "0.0",
         "0.0",
         "0.0",
         "0.0",
         "0.0",
         "0.0",
         "0.0",
         "0.0",
         "0.0",
         "0.0",
         "0.0",
         "0.0",
         "0.0",
         "0.0",
         "0.0",
         "0.0",
         "0.0",
         "0.0",
         "0.0",
         "0.0",
         "0.0",
         "0.0001059989255031",
         "0.0",
         "0.0",
         "0.0",
         "0.0",
         "0.0",
         "0.0",
         "0.0001440281585758",
         "0.0",
         "0.0",
         "0.0",
         "0.0",
         "0.0",
         "0.0",
         "0.0",
         "0.0",
         "0.0",
         "0.0",
         "0.0",
         "0.0003640258864596",
         "0.0",
         "0.0",
         "0.0",
         "0.0",
         "0.0",
         "0.0",
         "0.0",
         "0.0",
         "0.0",
         "0.0",
         "0.0020793494977296",
         "0.0",
         "0.0",
         "0.0",
         "0.0",
         "0.0",
         "0.0",
         "0.0",
         "0.0",
         "0.0",
         "0.0",
         "0.0",
         "0.0003113501559503",
         "0.0",
         "0.0",
         "0.0",
         "0.0",
         "0.0",
         "0.0",
         "0.0",
         "0.0",
         "0.0",
         "0.0",
         "0.0",
         "0.0",
         "0.0",
         "0.0",
         "0.0",
         "0.0",
         "0.0",
         "0.0",
         "0.0",
         "0.0",
         "0.0",
         "0.0",
         "0.0",
         "0.0",
         "0.0",
         "0.0",
         "0.0",
         "0.0",
         "0.0",
         "0.0"
        ],
        [
         "2",
         "Acetatifactor",
         "0.0",
         "0.0",
         "0.0",
         "0.0",
         "0.0",
         "0.0",
         "0.0",
         "0.0",
         "0.0",
         "0.0",
         "0.0",
         "0.0",
         "0.0",
         "0.0",
         "0.0",
         "0.0",
         "0.0",
         "0.0",
         "0.0",
         "0.0",
         "0.0",
         "0.0",
         "0.0",
         "0.0",
         "0.0",
         "0.0",
         "0.0",
         "0.0",
         "0.0",
         "0.0",
         "0.0",
         "0.0",
         "0.0",
         "0.0",
         "0.0",
         "0.0",
         "0.0",
         "0.0",
         "0.0",
         "0.0",
         "0.0",
         "0.0",
         "0.0",
         "0.0",
         "0.0",
         "0.0",
         "0.0",
         "0.0",
         "0.0",
         "0.0",
         "0.0",
         "0.0",
         "0.0",
         "0.0",
         "0.0",
         "0.0",
         "0.0",
         "0.0",
         "0.0",
         "0.0",
         "0.0",
         "0.0035370437840513",
         "0.0",
         "0.0",
         "0.0",
         "0.0",
         "0.0",
         "0.0",
         "0.0",
         "0.0",
         "0.0008653339746079",
         "0.0",
         "0.0",
         "0.0",
         "0.0",
         "0.0",
         "0.0",
         "0.0",
         "0.0",
         "0.0",
         "0.0",
         "0.0",
         "0.0",
         "0.0",
         "0.0",
         "0.0",
         "0.0",
         "0.0",
         "0.0",
         "0.0",
         "0.0",
         "0.0",
         "0.0",
         "0.0",
         "0.0",
         "0.0",
         "0.0",
         "0.0",
         "0.0",
         "0.0",
         "0.0",
         "0.0",
         "0.0",
         "0.0",
         "0.0",
         "0.0",
         "0.0",
         "0.0",
         "0.0",
         "0.0",
         "0.0",
         "0.0",
         "0.0",
         "0.0",
         "0.0",
         "0.0",
         "0.0",
         "0.0",
         "0.0",
         "0.0",
         "0.0",
         "0.0",
         "0.0",
         "0.0",
         "0.0",
         "0.0",
         "0.0",
         "0.0",
         "0.0",
         "0.0",
         "0.0",
         "0.0",
         "0.0",
         "0.0",
         "0.0",
         "0.0",
         "0.0",
         "0.0",
         "0.0",
         "0.0",
         "0.0",
         "0.0",
         "0.0",
         "0.0",
         "0.0",
         "0.0",
         "0.0",
         "0.0",
         "0.0",
         "0.0",
         "0.0",
         "0.0",
         "0.0",
         "0.0",
         "0.0",
         "0.0",
         "0.0",
         "0.0",
         "0.0",
         "0.0",
         "0.0",
         "0.0",
         "0.0",
         "0.0",
         "0.0",
         "0.0",
         "0.0",
         "0.0",
         "0.0",
         "0.0",
         "0.0",
         "0.0",
         "0.0",
         "0.0",
         "0.0",
         "0.0",
         "0.0",
         "0.0",
         "0.0",
         "0.0",
         "0.0",
         "0.0",
         "0.0",
         "0.0",
         "0.0",
         "0.0",
         "0.0",
         "0.0",
         "0.0",
         "0.0",
         "0.0",
         "0.0",
         "0.0",
         "0.0",
         "0.0",
         "0.0",
         "0.0",
         "0.0",
         "0.0",
         "0.0",
         "0.0"
        ],
        [
         "3",
         "Acetobacter",
         "0.0",
         "0.0",
         "0.0",
         "0.0",
         "0.0",
         "0.0",
         "0.0",
         "0.0",
         "0.0",
         "0.0",
         "0.0",
         "0.0",
         "0.0",
         "0.0",
         "0.0",
         "0.0",
         "0.0",
         "0.0",
         "0.0",
         "0.0",
         "0.0",
         "0.0",
         "0.0",
         "0.0",
         "0.0",
         "0.0",
         "0.0",
         "0.0",
         "0.0",
         "0.0",
         "0.0",
         "0.0",
         "0.0",
         "0.0",
         "0.0",
         "0.0",
         "0.0",
         "0.0",
         "0.0",
         "0.0",
         "0.0",
         "0.0",
         "0.0",
         "0.0",
         "0.0",
         "0.0",
         "0.0",
         "0.0",
         "0.0",
         "0.0",
         "0.0",
         "0.0",
         "0.0",
         "0.0",
         "0.0",
         "0.0",
         "0.0",
         "0.0",
         "0.0",
         "0.0",
         "0.0",
         "0.0",
         "0.0",
         "0.0",
         "0.0",
         "0.0",
         "0.0",
         "0.0",
         "0.0",
         "0.0",
         "0.0",
         "0.0",
         "0.0",
         "0.0",
         "0.0",
         "0.0",
         "0.0",
         "0.0",
         "0.0",
         "0.0",
         "0.0",
         "0.0",
         "0.0",
         "0.0",
         "0.0",
         "0.0",
         "0.0",
         "0.0",
         "0.0",
         "0.0",
         "0.0",
         "0.0",
         "0.0",
         "0.0",
         "0.0",
         "0.0",
         "0.0",
         "0.0",
         "0.0",
         "0.0",
         "0.0",
         "0.0",
         "0.0",
         "0.0",
         "0.0",
         "0.0",
         "0.0",
         "0.0",
         "0.0",
         "0.0",
         "0.0",
         "0.0",
         "0.0",
         "0.0",
         "0.0",
         "0.0",
         "0.0",
         "0.0",
         "0.0",
         "0.0",
         "0.0",
         "0.0",
         "0.0",
         "0.0",
         "0.0",
         "0.0",
         "0.0",
         "0.0",
         "0.0",
         "0.0",
         "0.0",
         "0.0",
         "0.0",
         "0.0",
         "0.0",
         "0.0",
         "0.0",
         "0.0",
         "0.0",
         "0.0",
         "0.0",
         "0.0",
         "0.0",
         "0.0008109479995058",
         "0.0",
         "0.0",
         "0.0",
         "0.0",
         "0.0",
         "0.0",
         "0.0",
         "0.0",
         "0.0",
         "0.0",
         "0.0",
         "0.0",
         "0.0",
         "0.0",
         "0.0",
         "0.0",
         "0.0",
         "0.0",
         "0.0",
         "0.0",
         "0.0",
         "0.0",
         "0.0",
         "0.0",
         "0.0",
         "0.0",
         "0.0",
         "0.0",
         "0.0",
         "0.0",
         "0.0",
         "0.0",
         "0.0",
         "0.0",
         "0.0",
         "0.0",
         "0.0",
         "0.0",
         "0.0",
         "0.0",
         "0.0",
         "0.0",
         "0.0",
         "0.0",
         "0.0",
         "0.0",
         "0.0",
         "0.0",
         "0.0",
         "0.0",
         "0.0",
         "0.0",
         "0.0",
         "0.0",
         "0.0",
         "0.0",
         "0.0"
        ],
        [
         "4",
         "Acidovorax",
         "0.0007709141178106",
         "0.0",
         "0.0002666192784782",
         "0.0007763850217655",
         "0.0005828780818423",
         "0.001942197021923",
         "0.000264285386802",
         "0.0004675296992616",
         "0.0005664297420076",
         "0.0002553515038213",
         "0.0006818622267514",
         "0.0004209989952586",
         "0.0003729364201629",
         "0.0002200610461626",
         "0.0003932033702021",
         "0.0009439126615929",
         "0.0005863692067898",
         "0.0008341247093997",
         "0.0008544965905069",
         "0.0006464546294492",
         "0.0003612775737513",
         "0.0013728237509474",
         "0.0006295324215979",
         "0.0006738710809173",
         "0.0006481571653065",
         "0.0001938547538466",
         "0.0087008805801899",
         "0.0005678988403618",
         "0.0001986208815273",
         "0.0001664933689337",
         "0.0005003487318527",
         "0.0003106005165474",
         "0.000521121811653",
         "0.0020187471676022",
         "0.0002825254145335",
         "0.000297676405889",
         "0.0006464663824145",
         "0.0004286756877821",
         "0.0006396721444389",
         "0.0004073183266543",
         "0.0009345681655547",
         "0.0003621568537559",
         "0.0066562836255722",
         "0.0001099568461009",
         "0.0003529431056825",
         "0.0005158759290954",
         "0.000219459696329",
         "0.0002400159141223",
         "0.000486884056579",
         "0.000718429814639",
         "0.000261826950834",
         "0.0002341395976126",
         "0.0003636959711295",
         "0.0007838565671832",
         "0.000387681288537",
         "0.001145924035778",
         "0.0002708305217496",
         "0.0005535636944302",
         "0.0002820048200716",
         "0.0004841240927723",
         "0.0005623241281856",
         "0.0001378687696253",
         "0.0002922846663956",
         "0.0003263053316466",
         "0.0008188516869432",
         "0.0013840418897273",
         "0.0003470630498981",
         "0.0001844298341024",
         "0.000255836760314",
         "0.000334255486174",
         "0.000260220909531",
         "0.0010312395209086",
         "0.0010926135121083",
         "0.000284183630989",
         "0.0002397214572412",
         "0.0005695844346162",
         "0.0004163340049535",
         "0.0006226242132881",
         "0.0012396677259932",
         "0.0009480858107145",
         "0.0",
         "0.0005993276171078",
         "0.000230216296583",
         "0.0003580762651456",
         "0.0004949157152078",
         "0.0008870858408109",
         "0.000655330350698",
         "0.000547599800017",
         "0.0001224460874899",
         "0.0014746861490658",
         "0.0004691459245009",
         "0.0003417326417133",
         "0.0",
         "0.0003365834220739",
         "0.0002732308088852",
         "0.0004038934336336",
         "0.0004680628320695",
         "0.0009260452277982",
         "0.0004501175639556",
         "0.0005272726594408",
         "0.0001927429578694",
         "0.0001951634799723",
         "0.0007816154267462",
         "0.0004202863625228",
         "0.0003707201728693",
         "0.0005266784377356",
         "0.0007807199924328",
         "0.0003390791161943",
         "0.0010337132544668",
         "0.000251721140625",
         "0.0016005931716346",
         "0.0003768645787468",
         "0.0007142921359676",
         "0.0002751471474997",
         "0.0002753443219549",
         "0.0002380237826907",
         "0.0003041504846655",
         "0.0003795275258061",
         "0.0003425169659026",
         "0.000302502925935",
         "0.0001734189488435",
         "0.0001792798114912",
         "0.0002951478617462",
         "0.0003314784084636",
         "0.0002534397977194",
         "0.0001571400709122",
         "0.0",
         "0.0002041143824868",
         "0.0003406308847619",
         "0.0012481210993672",
         "0.0003713887776731",
         "0.0005840199348607",
         "0.000569802265523",
         "0.0006362589460175",
         "0.0011116807997878",
         "0.001194016090607",
         "0.0003303026983219",
         "0.0003013579341793",
         "0.0005267770538911",
         "0.00026397437417",
         "0.0006207763324713",
         "0.0003159622761193",
         "0.0004751281300562",
         "0.0002023939405209",
         "0.0001357588843825",
         "0.0004496302012372",
         "0.0012044065549148",
         "0.0003265902586197",
         "0.0006472130775316",
         "0.0004427925804666",
         "0.0003990742524254",
         "0.0003695554447693",
         "0.0001754457465159",
         "0.0007544428901963",
         "0.0005052454207169",
         "0.0009594733366496",
         "0.0014463953866973",
         "0.0003464914387346",
         "0.0001830787809185",
         "0.0002650629682183",
         "0.0002200115237494",
         "0.0006268645972177",
         "0.0002405665292247",
         "0.0004202187548948",
         "0.0006955250488124",
         "0.0003960318508196",
         "0.0007171153717335",
         "0.0008673661097326",
         "0.0004476593866297",
         "0.0011169719018896",
         "0.0004957052514933",
         "0.0002801900809945",
         "0.0008372477888829",
         "0.0007195297122354",
         "0.0007008973748696",
         "0.0001930850911074",
         "0.0001959916965162",
         "0.000518385856769",
         "0.0008588712181289",
         "0.0007240974932178",
         "0.000806224809449",
         "0.0008269794562939",
         "0.0001676501553361",
         "0.0002517345782381",
         "0.0009502253343403",
         "0.0",
         "0.0003085999729408",
         "0.0009492704058867",
         "0.0006628660634188",
         "0.0003536208598709",
         "0.0008677479309879",
         "0.0001287417313321",
         "0.0002092318220717",
         "0.0009322659267729",
         "0.0008145024083233",
         "0.000759531051947",
         "0.0004965326025286",
         "0.001119465008013",
         "0.0016566303589679",
         "0.0004623620035766",
         "0.0009197036009468"
        ]
       ],
       "shape": {
        "columns": 202,
        "rows": 5
       }
      },
      "text/html": [
       "<div>\n",
       "<style scoped>\n",
       "    .dataframe tbody tr th:only-of-type {\n",
       "        vertical-align: middle;\n",
       "    }\n",
       "\n",
       "    .dataframe tbody tr th {\n",
       "        vertical-align: top;\n",
       "    }\n",
       "\n",
       "    .dataframe thead th {\n",
       "        text-align: right;\n",
       "    }\n",
       "</style>\n",
       "<table border=\"1\" class=\"dataframe\">\n",
       "  <thead>\n",
       "    <tr style=\"text-align: right;\">\n",
       "      <th></th>\n",
       "      <th>Genus</th>\n",
       "      <th>BJ001</th>\n",
       "      <th>BJ002</th>\n",
       "      <th>BJ004</th>\n",
       "      <th>BJ005</th>\n",
       "      <th>BJ006</th>\n",
       "      <th>BJ008</th>\n",
       "      <th>BJ013</th>\n",
       "      <th>BJ014</th>\n",
       "      <th>BJ015</th>\n",
       "      <th>...</th>\n",
       "      <th>BJ214</th>\n",
       "      <th>BJ215</th>\n",
       "      <th>BJ216</th>\n",
       "      <th>BJ217</th>\n",
       "      <th>BJ218</th>\n",
       "      <th>BJ219</th>\n",
       "      <th>BJ220</th>\n",
       "      <th>BJ222</th>\n",
       "      <th>BJ223</th>\n",
       "      <th>BJ224</th>\n",
       "    </tr>\n",
       "  </thead>\n",
       "  <tbody>\n",
       "    <tr>\n",
       "      <th>0</th>\n",
       "      <td>2-12-FULL-35-15</td>\n",
       "      <td>0.000000</td>\n",
       "      <td>0.0</td>\n",
       "      <td>0.000000</td>\n",
       "      <td>0.000000</td>\n",
       "      <td>0.000000</td>\n",
       "      <td>0.000000</td>\n",
       "      <td>0.000000</td>\n",
       "      <td>0.001802</td>\n",
       "      <td>0.000000</td>\n",
       "      <td>...</td>\n",
       "      <td>0.000000</td>\n",
       "      <td>0.000000</td>\n",
       "      <td>0.000000</td>\n",
       "      <td>0.000000</td>\n",
       "      <td>0.00000</td>\n",
       "      <td>0.000000</td>\n",
       "      <td>0.000000</td>\n",
       "      <td>0.000000</td>\n",
       "      <td>0.000000</td>\n",
       "      <td>0.00000</td>\n",
       "    </tr>\n",
       "    <tr>\n",
       "      <th>1</th>\n",
       "      <td>Abiotrophia</td>\n",
       "      <td>0.000000</td>\n",
       "      <td>0.0</td>\n",
       "      <td>0.000000</td>\n",
       "      <td>0.000000</td>\n",
       "      <td>0.000000</td>\n",
       "      <td>0.000000</td>\n",
       "      <td>0.000000</td>\n",
       "      <td>0.000000</td>\n",
       "      <td>0.000000</td>\n",
       "      <td>...</td>\n",
       "      <td>0.000000</td>\n",
       "      <td>0.000000</td>\n",
       "      <td>0.000000</td>\n",
       "      <td>0.000000</td>\n",
       "      <td>0.00000</td>\n",
       "      <td>0.000000</td>\n",
       "      <td>0.000000</td>\n",
       "      <td>0.000000</td>\n",
       "      <td>0.000000</td>\n",
       "      <td>0.00000</td>\n",
       "    </tr>\n",
       "    <tr>\n",
       "      <th>2</th>\n",
       "      <td>Acetatifactor</td>\n",
       "      <td>0.000000</td>\n",
       "      <td>0.0</td>\n",
       "      <td>0.000000</td>\n",
       "      <td>0.000000</td>\n",
       "      <td>0.000000</td>\n",
       "      <td>0.000000</td>\n",
       "      <td>0.000000</td>\n",
       "      <td>0.000000</td>\n",
       "      <td>0.000000</td>\n",
       "      <td>...</td>\n",
       "      <td>0.000000</td>\n",
       "      <td>0.000000</td>\n",
       "      <td>0.000000</td>\n",
       "      <td>0.000000</td>\n",
       "      <td>0.00000</td>\n",
       "      <td>0.000000</td>\n",
       "      <td>0.000000</td>\n",
       "      <td>0.000000</td>\n",
       "      <td>0.000000</td>\n",
       "      <td>0.00000</td>\n",
       "    </tr>\n",
       "    <tr>\n",
       "      <th>3</th>\n",
       "      <td>Acetobacter</td>\n",
       "      <td>0.000000</td>\n",
       "      <td>0.0</td>\n",
       "      <td>0.000000</td>\n",
       "      <td>0.000000</td>\n",
       "      <td>0.000000</td>\n",
       "      <td>0.000000</td>\n",
       "      <td>0.000000</td>\n",
       "      <td>0.000000</td>\n",
       "      <td>0.000000</td>\n",
       "      <td>...</td>\n",
       "      <td>0.000000</td>\n",
       "      <td>0.000000</td>\n",
       "      <td>0.000000</td>\n",
       "      <td>0.000000</td>\n",
       "      <td>0.00000</td>\n",
       "      <td>0.000000</td>\n",
       "      <td>0.000000</td>\n",
       "      <td>0.000000</td>\n",
       "      <td>0.000000</td>\n",
       "      <td>0.00000</td>\n",
       "    </tr>\n",
       "    <tr>\n",
       "      <th>4</th>\n",
       "      <td>Acidovorax</td>\n",
       "      <td>0.000771</td>\n",
       "      <td>0.0</td>\n",
       "      <td>0.000267</td>\n",
       "      <td>0.000776</td>\n",
       "      <td>0.000583</td>\n",
       "      <td>0.001942</td>\n",
       "      <td>0.000264</td>\n",
       "      <td>0.000468</td>\n",
       "      <td>0.000566</td>\n",
       "      <td>...</td>\n",
       "      <td>0.000129</td>\n",
       "      <td>0.000209</td>\n",
       "      <td>0.000932</td>\n",
       "      <td>0.000815</td>\n",
       "      <td>0.00076</td>\n",
       "      <td>0.000497</td>\n",
       "      <td>0.001119</td>\n",
       "      <td>0.001657</td>\n",
       "      <td>0.000462</td>\n",
       "      <td>0.00092</td>\n",
       "    </tr>\n",
       "  </tbody>\n",
       "</table>\n",
       "<p>5 rows × 202 columns</p>\n",
       "</div>"
      ],
      "text/plain": [
       "             Genus     BJ001  BJ002     BJ004     BJ005     BJ006     BJ008  \\\n",
       "0  2-12-FULL-35-15  0.000000    0.0  0.000000  0.000000  0.000000  0.000000   \n",
       "1      Abiotrophia  0.000000    0.0  0.000000  0.000000  0.000000  0.000000   \n",
       "2    Acetatifactor  0.000000    0.0  0.000000  0.000000  0.000000  0.000000   \n",
       "3      Acetobacter  0.000000    0.0  0.000000  0.000000  0.000000  0.000000   \n",
       "4       Acidovorax  0.000771    0.0  0.000267  0.000776  0.000583  0.001942   \n",
       "\n",
       "      BJ013     BJ014     BJ015  ...     BJ214     BJ215     BJ216     BJ217  \\\n",
       "0  0.000000  0.001802  0.000000  ...  0.000000  0.000000  0.000000  0.000000   \n",
       "1  0.000000  0.000000  0.000000  ...  0.000000  0.000000  0.000000  0.000000   \n",
       "2  0.000000  0.000000  0.000000  ...  0.000000  0.000000  0.000000  0.000000   \n",
       "3  0.000000  0.000000  0.000000  ...  0.000000  0.000000  0.000000  0.000000   \n",
       "4  0.000264  0.000468  0.000566  ...  0.000129  0.000209  0.000932  0.000815   \n",
       "\n",
       "     BJ218     BJ219     BJ220     BJ222     BJ223    BJ224  \n",
       "0  0.00000  0.000000  0.000000  0.000000  0.000000  0.00000  \n",
       "1  0.00000  0.000000  0.000000  0.000000  0.000000  0.00000  \n",
       "2  0.00000  0.000000  0.000000  0.000000  0.000000  0.00000  \n",
       "3  0.00000  0.000000  0.000000  0.000000  0.000000  0.00000  \n",
       "4  0.00076  0.000497  0.001119  0.001657  0.000462  0.00092  \n",
       "\n",
       "[5 rows x 202 columns]"
      ]
     },
     "execution_count": 6,
     "metadata": {},
     "output_type": "execute_result"
    }
   ],
   "source": [
    "full_bac_bj.head()\n"
   ]
  },
  {
   "cell_type": "code",
   "execution_count": 7,
   "metadata": {},
   "outputs": [
    {
     "data": {
      "application/vnd.microsoft.datawrangler.viewer.v0+json": {
       "columns": [
        {
         "name": "index",
         "rawType": "int64",
         "type": "integer"
        },
        {
         "name": "Genus",
         "rawType": "object",
         "type": "string"
        },
        {
         "name": "GZ001",
         "rawType": "float64",
         "type": "float"
        },
        {
         "name": "GZ002",
         "rawType": "float64",
         "type": "float"
        },
        {
         "name": "GZ003",
         "rawType": "float64",
         "type": "float"
        },
        {
         "name": "GZ004",
         "rawType": "float64",
         "type": "float"
        },
        {
         "name": "GZ005",
         "rawType": "float64",
         "type": "float"
        },
        {
         "name": "GZ006",
         "rawType": "float64",
         "type": "float"
        },
        {
         "name": "GZ007",
         "rawType": "float64",
         "type": "float"
        },
        {
         "name": "GZ008",
         "rawType": "float64",
         "type": "float"
        },
        {
         "name": "GZ009",
         "rawType": "float64",
         "type": "float"
        },
        {
         "name": "GZ010",
         "rawType": "float64",
         "type": "float"
        },
        {
         "name": "GZ011",
         "rawType": "float64",
         "type": "float"
        },
        {
         "name": "GZ012",
         "rawType": "float64",
         "type": "float"
        },
        {
         "name": "GZ013",
         "rawType": "float64",
         "type": "float"
        },
        {
         "name": "GZ014",
         "rawType": "float64",
         "type": "float"
        },
        {
         "name": "GZ015",
         "rawType": "float64",
         "type": "float"
        },
        {
         "name": "GZ016",
         "rawType": "float64",
         "type": "float"
        },
        {
         "name": "GZ017",
         "rawType": "float64",
         "type": "float"
        },
        {
         "name": "GZ018",
         "rawType": "float64",
         "type": "float"
        },
        {
         "name": "GZ019",
         "rawType": "float64",
         "type": "float"
        },
        {
         "name": "GZ020",
         "rawType": "float64",
         "type": "float"
        },
        {
         "name": "GZ021",
         "rawType": "float64",
         "type": "float"
        },
        {
         "name": "GZ022",
         "rawType": "float64",
         "type": "float"
        },
        {
         "name": "GZ023",
         "rawType": "float64",
         "type": "float"
        },
        {
         "name": "GZ024",
         "rawType": "float64",
         "type": "float"
        },
        {
         "name": "GZ025",
         "rawType": "float64",
         "type": "float"
        },
        {
         "name": "GZ026",
         "rawType": "float64",
         "type": "float"
        },
        {
         "name": "GZ027",
         "rawType": "float64",
         "type": "float"
        },
        {
         "name": "GZ028",
         "rawType": "float64",
         "type": "float"
        },
        {
         "name": "GZ029",
         "rawType": "float64",
         "type": "float"
        },
        {
         "name": "GZ030",
         "rawType": "float64",
         "type": "float"
        },
        {
         "name": "GZ031",
         "rawType": "float64",
         "type": "float"
        },
        {
         "name": "GZ032",
         "rawType": "float64",
         "type": "float"
        },
        {
         "name": "GZ033",
         "rawType": "float64",
         "type": "float"
        },
        {
         "name": "GZ034",
         "rawType": "float64",
         "type": "float"
        },
        {
         "name": "GZ035",
         "rawType": "float64",
         "type": "float"
        },
        {
         "name": "GZ036",
         "rawType": "float64",
         "type": "float"
        },
        {
         "name": "GZ040",
         "rawType": "float64",
         "type": "float"
        },
        {
         "name": "GZ041",
         "rawType": "float64",
         "type": "float"
        },
        {
         "name": "GZ042",
         "rawType": "float64",
         "type": "float"
        },
        {
         "name": "GZ043",
         "rawType": "float64",
         "type": "float"
        },
        {
         "name": "GZ045",
         "rawType": "float64",
         "type": "float"
        },
        {
         "name": "GZ046",
         "rawType": "float64",
         "type": "float"
        },
        {
         "name": "GZ047",
         "rawType": "float64",
         "type": "float"
        },
        {
         "name": "GZ048",
         "rawType": "float64",
         "type": "float"
        },
        {
         "name": "GZ049",
         "rawType": "float64",
         "type": "float"
        },
        {
         "name": "GZ050",
         "rawType": "float64",
         "type": "float"
        },
        {
         "name": "GZ051",
         "rawType": "float64",
         "type": "float"
        },
        {
         "name": "GZ052",
         "rawType": "float64",
         "type": "float"
        },
        {
         "name": "GZ053",
         "rawType": "float64",
         "type": "float"
        },
        {
         "name": "GZ054",
         "rawType": "float64",
         "type": "float"
        },
        {
         "name": "GZ055",
         "rawType": "float64",
         "type": "float"
        },
        {
         "name": "GZ056",
         "rawType": "float64",
         "type": "float"
        },
        {
         "name": "GZ057",
         "rawType": "float64",
         "type": "float"
        },
        {
         "name": "GZ058",
         "rawType": "float64",
         "type": "float"
        },
        {
         "name": "GZ059",
         "rawType": "float64",
         "type": "float"
        },
        {
         "name": "GZ060",
         "rawType": "float64",
         "type": "float"
        },
        {
         "name": "GZ061",
         "rawType": "float64",
         "type": "float"
        },
        {
         "name": "GZ062",
         "rawType": "float64",
         "type": "float"
        },
        {
         "name": "GZ063",
         "rawType": "float64",
         "type": "float"
        },
        {
         "name": "GZ064",
         "rawType": "float64",
         "type": "float"
        },
        {
         "name": "GZ065",
         "rawType": "float64",
         "type": "float"
        },
        {
         "name": "GZ066",
         "rawType": "float64",
         "type": "float"
        },
        {
         "name": "GZ067",
         "rawType": "float64",
         "type": "float"
        },
        {
         "name": "GZ068",
         "rawType": "float64",
         "type": "float"
        },
        {
         "name": "GZ069",
         "rawType": "float64",
         "type": "float"
        },
        {
         "name": "GZ070",
         "rawType": "float64",
         "type": "float"
        },
        {
         "name": "GZ071",
         "rawType": "float64",
         "type": "float"
        },
        {
         "name": "GZ072",
         "rawType": "float64",
         "type": "float"
        },
        {
         "name": "GZ073",
         "rawType": "float64",
         "type": "float"
        },
        {
         "name": "GZ074",
         "rawType": "float64",
         "type": "float"
        },
        {
         "name": "GZ075",
         "rawType": "float64",
         "type": "float"
        },
        {
         "name": "GZ076",
         "rawType": "float64",
         "type": "float"
        },
        {
         "name": "GZ077",
         "rawType": "float64",
         "type": "float"
        },
        {
         "name": "GZ078",
         "rawType": "float64",
         "type": "float"
        },
        {
         "name": "GZ080",
         "rawType": "float64",
         "type": "float"
        },
        {
         "name": "GZ083",
         "rawType": "float64",
         "type": "float"
        },
        {
         "name": "GZ088",
         "rawType": "float64",
         "type": "float"
        },
        {
         "name": "GZ089",
         "rawType": "float64",
         "type": "float"
        },
        {
         "name": "GZ091",
         "rawType": "float64",
         "type": "float"
        },
        {
         "name": "GZ092",
         "rawType": "float64",
         "type": "float"
        },
        {
         "name": "GZ093",
         "rawType": "float64",
         "type": "float"
        },
        {
         "name": "GZ094",
         "rawType": "float64",
         "type": "float"
        },
        {
         "name": "GZ095",
         "rawType": "float64",
         "type": "float"
        },
        {
         "name": "GZ097",
         "rawType": "float64",
         "type": "float"
        },
        {
         "name": "GZ099",
         "rawType": "float64",
         "type": "float"
        },
        {
         "name": "GZ101",
         "rawType": "float64",
         "type": "float"
        },
        {
         "name": "GZ103",
         "rawType": "float64",
         "type": "float"
        },
        {
         "name": "GZ107",
         "rawType": "float64",
         "type": "float"
        },
        {
         "name": "GZ109",
         "rawType": "float64",
         "type": "float"
        },
        {
         "name": "GZ110",
         "rawType": "float64",
         "type": "float"
        },
        {
         "name": "GZ113",
         "rawType": "float64",
         "type": "float"
        },
        {
         "name": "GZ115",
         "rawType": "float64",
         "type": "float"
        },
        {
         "name": "GZ118",
         "rawType": "float64",
         "type": "float"
        },
        {
         "name": "GZ119",
         "rawType": "float64",
         "type": "float"
        },
        {
         "name": "GZ120",
         "rawType": "float64",
         "type": "float"
        },
        {
         "name": "GZ121",
         "rawType": "float64",
         "type": "float"
        },
        {
         "name": "GZ122",
         "rawType": "float64",
         "type": "float"
        },
        {
         "name": "GZ123",
         "rawType": "float64",
         "type": "float"
        },
        {
         "name": "GZ124",
         "rawType": "float64",
         "type": "float"
        },
        {
         "name": "GZ125",
         "rawType": "float64",
         "type": "float"
        },
        {
         "name": "GZ127",
         "rawType": "float64",
         "type": "float"
        },
        {
         "name": "GZ129",
         "rawType": "float64",
         "type": "float"
        },
        {
         "name": "GZ131",
         "rawType": "float64",
         "type": "float"
        },
        {
         "name": "GZ132",
         "rawType": "float64",
         "type": "float"
        },
        {
         "name": "GZ133",
         "rawType": "float64",
         "type": "float"
        },
        {
         "name": "GZ134",
         "rawType": "float64",
         "type": "float"
        },
        {
         "name": "GZ135",
         "rawType": "float64",
         "type": "float"
        },
        {
         "name": "GZ137",
         "rawType": "float64",
         "type": "float"
        },
        {
         "name": "GZ138",
         "rawType": "float64",
         "type": "float"
        },
        {
         "name": "GZ139",
         "rawType": "float64",
         "type": "float"
        },
        {
         "name": "GZ140",
         "rawType": "float64",
         "type": "float"
        },
        {
         "name": "GZ142",
         "rawType": "float64",
         "type": "float"
        },
        {
         "name": "GZ143",
         "rawType": "float64",
         "type": "float"
        },
        {
         "name": "GZ144",
         "rawType": "float64",
         "type": "float"
        },
        {
         "name": "GZ147",
         "rawType": "float64",
         "type": "float"
        },
        {
         "name": "GZ148",
         "rawType": "float64",
         "type": "float"
        },
        {
         "name": "GZ149",
         "rawType": "float64",
         "type": "float"
        },
        {
         "name": "GZ152",
         "rawType": "float64",
         "type": "float"
        },
        {
         "name": "GZ155",
         "rawType": "float64",
         "type": "float"
        },
        {
         "name": "GZ156",
         "rawType": "float64",
         "type": "float"
        },
        {
         "name": "GZ158",
         "rawType": "float64",
         "type": "float"
        },
        {
         "name": "GZ159",
         "rawType": "float64",
         "type": "float"
        },
        {
         "name": "GZ160",
         "rawType": "float64",
         "type": "float"
        },
        {
         "name": "GZ162",
         "rawType": "float64",
         "type": "float"
        },
        {
         "name": "GZ164",
         "rawType": "float64",
         "type": "float"
        },
        {
         "name": "GZ165",
         "rawType": "float64",
         "type": "float"
        },
        {
         "name": "GZ166",
         "rawType": "float64",
         "type": "float"
        },
        {
         "name": "GZ167",
         "rawType": "float64",
         "type": "float"
        },
        {
         "name": "GZ168",
         "rawType": "float64",
         "type": "float"
        },
        {
         "name": "GZ169",
         "rawType": "float64",
         "type": "float"
        },
        {
         "name": "GZ170",
         "rawType": "float64",
         "type": "float"
        },
        {
         "name": "GZ171",
         "rawType": "float64",
         "type": "float"
        },
        {
         "name": "GZ172",
         "rawType": "float64",
         "type": "float"
        },
        {
         "name": "GZ173",
         "rawType": "float64",
         "type": "float"
        },
        {
         "name": "GZ174",
         "rawType": "float64",
         "type": "float"
        },
        {
         "name": "GZ175",
         "rawType": "float64",
         "type": "float"
        },
        {
         "name": "GZ176",
         "rawType": "float64",
         "type": "float"
        },
        {
         "name": "GZ178",
         "rawType": "float64",
         "type": "float"
        },
        {
         "name": "GZ179",
         "rawType": "float64",
         "type": "float"
        },
        {
         "name": "GZ180",
         "rawType": "float64",
         "type": "float"
        },
        {
         "name": "GZ182",
         "rawType": "float64",
         "type": "float"
        },
        {
         "name": "GZ217",
         "rawType": "float64",
         "type": "float"
        },
        {
         "name": "GZ219",
         "rawType": "float64",
         "type": "float"
        },
        {
         "name": "GZ220",
         "rawType": "float64",
         "type": "float"
        },
        {
         "name": "GZ221",
         "rawType": "float64",
         "type": "float"
        },
        {
         "name": "GZ223",
         "rawType": "float64",
         "type": "float"
        },
        {
         "name": "GZ224",
         "rawType": "float64",
         "type": "float"
        },
        {
         "name": "GZ225",
         "rawType": "float64",
         "type": "float"
        },
        {
         "name": "GZ226",
         "rawType": "float64",
         "type": "float"
        },
        {
         "name": "GZ227",
         "rawType": "float64",
         "type": "float"
        },
        {
         "name": "GZ228",
         "rawType": "float64",
         "type": "float"
        },
        {
         "name": "GZ229",
         "rawType": "float64",
         "type": "float"
        },
        {
         "name": "GZ231",
         "rawType": "float64",
         "type": "float"
        },
        {
         "name": "GZ232",
         "rawType": "float64",
         "type": "float"
        },
        {
         "name": "GZ233",
         "rawType": "float64",
         "type": "float"
        },
        {
         "name": "GZ234",
         "rawType": "float64",
         "type": "float"
        },
        {
         "name": "GZ235",
         "rawType": "float64",
         "type": "float"
        },
        {
         "name": "GZ236",
         "rawType": "float64",
         "type": "float"
        },
        {
         "name": "GZ237",
         "rawType": "float64",
         "type": "float"
        },
        {
         "name": "GZ238",
         "rawType": "float64",
         "type": "float"
        }
       ],
       "conversionMethod": "pd.DataFrame",
       "ref": "65b1cf90-6fc3-4742-a0b1-e3b8818031f8",
       "rows": [
        [
         "0",
         "21-14-0-10-47-8",
         "0.0",
         "0.0",
         "0.0",
         "0.0",
         "0.0",
         "0.0",
         "0.0",
         "0.0",
         "0.0",
         "0.0",
         "0.0",
         "0.0",
         "0.0",
         "0.0",
         "0.0",
         "0.0",
         "0.0",
         "0.0",
         "0.0",
         "0.0",
         "0.0",
         "0.0",
         "0.0",
         "0.0",
         "0.0",
         "0.0",
         "0.0",
         "0.0",
         "0.0",
         "0.0",
         "0.0",
         "0.0",
         "0.0",
         "0.0",
         "0.0",
         "0.0",
         "0.0",
         "0.0",
         "0.0",
         "0.0",
         "0.0",
         "0.0",
         "0.0",
         "0.0",
         "0.0",
         "0.0",
         "0.0",
         "0.0",
         "0.0",
         "0.0",
         "0.0",
         "0.0",
         "0.0",
         "0.0",
         "0.0",
         "0.0",
         "0.0",
         "0.0",
         "0.0",
         "0.0",
         "0.0",
         "0.0",
         "0.0",
         "0.0",
         "0.0",
         "0.0015520639241088",
         "0.0",
         "0.0",
         "0.0",
         "0.0",
         "0.0",
         "0.0",
         "0.0",
         "0.0",
         "0.0",
         "0.0",
         "0.0",
         "0.0",
         "0.0",
         "0.0",
         "0.0",
         "0.0",
         "0.0",
         "0.0",
         "0.0",
         "0.0",
         "0.0",
         "0.0",
         "0.0",
         "0.0",
         "0.0",
         "0.0",
         "0.0",
         "0.0",
         "0.0",
         "0.0",
         "0.0",
         "0.0",
         "0.0",
         "0.0",
         "0.0",
         "0.0",
         "0.0",
         "0.0",
         "0.0",
         "0.0",
         "0.0",
         "0.0",
         "0.0",
         "0.0",
         "0.0",
         "0.0",
         "0.0",
         "0.0",
         "0.0",
         "0.0",
         "0.0",
         "0.0",
         "0.0",
         "0.0",
         "0.0",
         "0.0",
         "0.0",
         "0.0",
         "0.0",
         "0.0",
         "0.0",
         "0.0",
         "0.0",
         "0.0",
         "0.0",
         "0.0",
         "0.0",
         "0.0",
         "0.0",
         "0.0",
         "0.0",
         "0.0",
         "0.0",
         "0.0",
         "0.0",
         "0.0",
         "0.0",
         "0.0",
         "0.0",
         "0.0",
         "0.0",
         "0.0",
         "0.0",
         "0.0",
         "0.0",
         "0.0",
         "0.0",
         "0.0",
         "0.0",
         "0.0",
         "0.0",
         "0.0",
         "0.0",
         "0.0"
        ],
        [
         "1",
         "Abiotrophia",
         "0.0",
         "0.0",
         "0.0",
         "0.0",
         "0.0",
         "0.0",
         "0.0",
         "0.0",
         "0.0",
         "0.0",
         "0.0",
         "0.0007417415183957",
         "0.0",
         "0.0",
         "0.0",
         "0.0",
         "0.0",
         "0.0",
         "0.0",
         "0.0",
         "0.0",
         "0.0",
         "0.0",
         "0.0",
         "0.0",
         "0.0",
         "0.0",
         "0.0",
         "0.0",
         "0.0",
         "0.0",
         "0.0",
         "0.0013000338628701",
         "0.0",
         "0.0",
         "0.0",
         "0.0",
         "0.0",
         "0.0",
         "0.0",
         "0.0",
         "0.0",
         "0.0",
         "0.0",
         "0.0",
         "0.0001082663697727",
         "0.0",
         "0.0",
         "0.0",
         "0.0",
         "0.0",
         "0.0",
         "0.0",
         "0.0",
         "0.0",
         "0.0",
         "0.0",
         "0.0",
         "0.0",
         "0.0",
         "0.0",
         "0.0",
         "0.0",
         "0.0",
         "0.0",
         "0.0",
         "0.0",
         "0.0",
         "0.0",
         "0.0",
         "0.0",
         "0.0",
         "0.0",
         "0.0",
         "0.0",
         "0.0",
         "0.0",
         "0.0",
         "0.0",
         "0.0",
         "0.0",
         "0.0",
         "0.0",
         "0.0",
         "0.0",
         "0.0",
         "0.0",
         "0.0",
         "0.0",
         "0.0",
         "0.0",
         "0.0",
         "0.0",
         "0.0",
         "0.0036871919936091",
         "0.0",
         "0.0",
         "0.0",
         "0.0",
         "0.0",
         "0.0",
         "0.0",
         "0.0",
         "0.0",
         "0.0",
         "0.0",
         "0.0",
         "0.0",
         "0.0",
         "0.0",
         "0.0",
         "0.0",
         "0.0",
         "0.0",
         "0.0",
         "0.0",
         "0.0",
         "0.0",
         "0.0",
         "0.0",
         "0.0",
         "0.0",
         "0.0",
         "0.0",
         "0.0",
         "0.0",
         "0.0",
         "0.0",
         "0.0",
         "0.0",
         "0.0",
         "0.0",
         "0.0",
         "0.0",
         "0.0",
         "0.0",
         "0.0",
         "0.0",
         "0.0",
         "0.0",
         "0.0",
         "0.0",
         "0.0",
         "0.0",
         "0.0001105149488247",
         "0.0",
         "0.0",
         "0.0",
         "0.0",
         "0.0",
         "0.0",
         "0.0",
         "0.0",
         "0.0",
         "0.0",
         "0.0",
         "0.0",
         "0.0",
         "0.0",
         "0.0"
        ],
        [
         "2",
         "Achromobacter",
         "0.0",
         "0.0",
         "0.0002633887618914",
         "0.0",
         "0.0",
         "0.0",
         "0.0",
         "0.0",
         "0.0",
         "0.0",
         "0.0",
         "0.0",
         "0.0",
         "0.0",
         "0.0",
         "0.0",
         "0.0",
         "0.0003123706042271",
         "0.0",
         "0.0",
         "0.0",
         "0.0004389863204818",
         "0.0",
         "0.001403439108366",
         "0.0",
         "0.0",
         "0.0",
         "0.0",
         "0.0",
         "0.0",
         "0.0",
         "0.0009165859243755",
         "0.0",
         "0.0",
         "0.0",
         "0.0",
         "0.0",
         "0.000339835823048",
         "0.0",
         "0.0",
         "0.0",
         "0.0001535896317027",
         "0.0",
         "0.0",
         "0.0",
         "0.0",
         "0.0",
         "0.0",
         "0.0",
         "0.0",
         "0.0",
         "0.0001011381345229",
         "0.0",
         "0.0",
         "0.0",
         "0.0018508662828438",
         "0.0007313916860673",
         "0.0",
         "0.0",
         "0.0",
         "0.0",
         "0.0",
         "0.0",
         "0.0015904636266042",
         "0.0",
         "0.0",
         "0.0",
         "0.000185135370891",
         "0.0",
         "0.0",
         "0.0",
         "0.0",
         "0.0007279009845864",
         "0.0",
         "0.0",
         "0.0",
         "0.0",
         "0.0",
         "0.0",
         "0.0",
         "0.0",
         "0.0",
         "0.0",
         "0.0",
         "0.0",
         "0.0",
         "0.0",
         "0.0",
         "0.0",
         "0.0",
         "0.0",
         "0.0",
         "0.0",
         "0.0",
         "0.0",
         "0.0",
         "0.0",
         "0.0003098486994307",
         "0.0",
         "0.0",
         "0.0",
         "0.0",
         "0.0",
         "0.0",
         "0.0",
         "0.0",
         "0.0",
         "0.0",
         "0.0",
         "0.0",
         "0.0",
         "0.0",
         "0.0",
         "0.0",
         "0.0",
         "0.0001456516437863",
         "0.0",
         "0.0",
         "0.0033937213262715",
         "0.0",
         "0.0",
         "0.0",
         "0.0",
         "0.0",
         "0.0",
         "0.0",
         "0.0",
         "0.0",
         "0.0",
         "0.0",
         "0.0",
         "0.0",
         "0.0",
         "0.0",
         "0.0",
         "0.0",
         "0.0",
         "0.0",
         "0.0",
         "0.0",
         "0.0",
         "0.0",
         "0.0",
         "0.0",
         "0.0",
         "0.0003495137693882",
         "0.0",
         "0.0062539969198638",
         "0.0",
         "0.0030467808587536",
         "0.0",
         "0.0",
         "0.0",
         "0.0",
         "0.0109912867949771",
         "0.0027004306568622",
         "0.0",
         "0.0299049835153291",
         "0.0",
         "0.0046494297713385"
        ],
        [
         "3",
         "Acidovorax",
         "0.0006440022356044",
         "0.0001954090193841",
         "0.0005825658924061",
         "0.0004324696195209",
         "0.0003931743238258",
         "0.0003906851608641",
         "0.0001874331814421",
         "0.0004476083220171",
         "0.0007585877519513",
         "0.0002012389127528",
         "0.0013273182494753",
         "0.0005661619176836",
         "0.0006072864958221",
         "0.000467677953135",
         "0.0004811671506383",
         "0.0006730653459566",
         "0.0002216820211549",
         "0.0005882570151865",
         "0.0003961822419158",
         "0.0002283003548579",
         "0.0004216027934096",
         "0.0009785321290806",
         "0.0002674645786277",
         "0.0035539912465354",
         "0.0010231982094641",
         "0.0002521956755933",
         "0.0003304142401008",
         "0.0001954051149586",
         "0.0004719528366046",
         "0.0001179875050624",
         "0.0002279072102156",
         "0.0007185822369465",
         "0.0002385802127116",
         "0.000563403176211",
         "0.0004212411355574",
         "0.0005275733911634",
         "0.0002100192602907",
         "0.0008803016895842",
         "0.0002649659103312",
         "0.0001801844592869",
         "0.0003517968339109",
         "0.0004068529235932",
         "0.0010376512165939",
         "0.0001311634203157",
         "0.0003179279697269",
         "0.000363924920641",
         "0.000445263895957",
         "0.0002145049197372",
         "0.0007446983353472",
         "0.0006837776291602",
         "0.0003416430909836",
         "0.0009296560408639",
         "0.0002328347782373",
         "0.0005868161176016",
         "0.0006542216411279",
         "0.0026523590357935",
         "0.0008655560798382",
         "0.0005002357334764",
         "0.0003798694080458",
         "0.0003147357648935",
         "0.0025431640720986",
         "0.0006921703999669",
         "0.0007770973394341",
         "0.0017029077085467",
         "0.0003813876428697",
         "0.0008110432730279",
         "0.0002655267580117",
         "0.0006885504382766",
         "0.0002944851718536",
         "0.0007025421216192",
         "0.0024513039209464",
         "0.0003035947216634",
         "0.0008594621227444",
         "0.000276810865752",
         "0.0006006382100683",
         "0.0003265495442055",
         "0.0002279744463624",
         "0.0001420161779824",
         "0.000604063048903",
         "0.0",
         "0.0002096876336455",
         "0.0006346631025108",
         "0.0004137123355072",
         "0.0006299231288468",
         "0.0002878013049424",
         "0.0005010362048945",
         "0.0002488543334388",
         "0.0001549985060007",
         "0.0002916546517685",
         "0.0002249342513583",
         "0.000186928149712",
         "0.0002534123588562",
         "0.0005317856300882",
         "0.0003411968747629",
         "0.0003709297222174",
         "0.0005594719389622",
         "0.0002357245299479",
         "0.0005371679038381",
         "0.0002634231166029",
         "0.000531086384001",
         "0.0001260775188459",
         "0.0004589798468339",
         "0.0001512290552015",
         "0.0003330635120724",
         "0.0002100942987899",
         "0.0015073210415038",
         "0.0002259344817647",
         "0.0",
         "0.0006879295197636",
         "0.0002576467911785",
         "0.0009126385120889",
         "0.0006062734337741",
         "0.000765669039169",
         "0.0004909463742869",
         "0.0002267185675189",
         "0.0021020100676377",
         "0.0003723584980805",
         "0.0002170934618139",
         "0.0048994405955737",
         "0.0007289529802865",
         "0.0004238407385992",
         "0.0002516270729491",
         "0.0003206493126219",
         "0.0008538637736212",
         "0.0027895183624653",
         "0.000232132252051",
         "0.000525613155984",
         "0.0003883337034896",
         "0.0005054020810799",
         "0.0004533309836368",
         "0.0001777850312754",
         "0.0005247221914463",
         "0.000385469925299",
         "0.0009954520072751",
         "0.0001360791384293",
         "0.0001787784581475",
         "0.0",
         "0.003985919733849",
         "0.0008307363682922",
         "0.0009785941510635",
         "0.0002802095387425",
         "0.0011687639996957",
         "0.0002343202138156",
         "0.0002789937123294",
         "0.000493226299885",
         "0.0009634527299986",
         "0.0",
         "0.000391979943211",
         "0.0019140591049163",
         "0.0001588597349002",
         "0.0007117653836594",
         "0.0005185122001269",
         "0.0001410841065537",
         "0.0003127981711275",
         "0.0011248576353718",
         "0.0006985239636614",
         "0.0006094269271909",
         "0.0013996597471362",
         "0.0001957779304286",
         "0.0005320657527195"
        ],
        [
         "4",
         "Acidovorax_A",
         "0.0",
         "0.0",
         "0.0",
         "0.0",
         "0.0",
         "0.0",
         "0.0",
         "0.0",
         "0.0",
         "0.0",
         "0.0",
         "0.0",
         "0.0",
         "0.0",
         "0.0",
         "0.0014900216665793",
         "0.0",
         "0.0",
         "0.0",
         "0.0",
         "0.0",
         "0.0",
         "0.0",
         "0.0",
         "0.0",
         "0.0",
         "0.0",
         "0.0",
         "0.0",
         "0.0",
         "0.0",
         "0.0",
         "0.0",
         "0.0",
         "0.0",
         "0.0",
         "0.0",
         "0.0",
         "0.0",
         "0.0",
         "0.0",
         "0.0",
         "0.0",
         "0.0",
         "0.0",
         "0.0",
         "0.0",
         "0.0",
         "0.0",
         "0.0",
         "0.0",
         "0.0",
         "0.0",
         "0.0",
         "0.0",
         "0.0",
         "0.0",
         "0.0",
         "0.0",
         "0.0",
         "0.0",
         "0.0",
         "0.0",
         "0.0",
         "0.0",
         "0.0",
         "0.0",
         "0.0",
         "0.0",
         "0.0",
         "0.0",
         "0.0",
         "0.0",
         "0.0",
         "0.0",
         "0.0",
         "0.0",
         "0.0",
         "0.0",
         "0.0",
         "0.0",
         "0.0",
         "0.0",
         "0.0",
         "0.0",
         "0.0",
         "0.0",
         "0.0",
         "0.0",
         "0.0",
         "0.0",
         "0.0",
         "0.0",
         "0.0",
         "0.0",
         "0.0",
         "0.0",
         "0.0",
         "0.0",
         "0.0",
         "0.0",
         "0.0",
         "0.0",
         "0.0",
         "0.0",
         "0.0",
         "0.0",
         "0.0",
         "0.0",
         "0.0",
         "0.0",
         "0.0",
         "0.0",
         "0.0",
         "0.0",
         "0.0",
         "0.0",
         "0.0",
         "0.0",
         "0.0",
         "0.0",
         "0.0",
         "0.0",
         "0.0",
         "0.0",
         "0.0",
         "0.0",
         "0.0",
         "0.0",
         "0.0",
         "0.0",
         "0.0",
         "0.0",
         "0.0",
         "0.0",
         "0.0",
         "0.0",
         "0.0",
         "0.0",
         "0.0",
         "0.0",
         "0.0",
         "0.0",
         "0.0",
         "0.0",
         "0.0",
         "0.0",
         "0.0",
         "0.0",
         "0.0",
         "0.0",
         "0.0",
         "0.0",
         "0.0",
         "0.0",
         "0.0",
         "0.0",
         "0.000284426935367",
         "0.0",
         "0.0"
        ]
       ],
       "shape": {
        "columns": 161,
        "rows": 5
       }
      },
      "text/html": [
       "<div>\n",
       "<style scoped>\n",
       "    .dataframe tbody tr th:only-of-type {\n",
       "        vertical-align: middle;\n",
       "    }\n",
       "\n",
       "    .dataframe tbody tr th {\n",
       "        vertical-align: top;\n",
       "    }\n",
       "\n",
       "    .dataframe thead th {\n",
       "        text-align: right;\n",
       "    }\n",
       "</style>\n",
       "<table border=\"1\" class=\"dataframe\">\n",
       "  <thead>\n",
       "    <tr style=\"text-align: right;\">\n",
       "      <th></th>\n",
       "      <th>Genus</th>\n",
       "      <th>GZ001</th>\n",
       "      <th>GZ002</th>\n",
       "      <th>GZ003</th>\n",
       "      <th>GZ004</th>\n",
       "      <th>GZ005</th>\n",
       "      <th>GZ006</th>\n",
       "      <th>GZ007</th>\n",
       "      <th>GZ008</th>\n",
       "      <th>GZ009</th>\n",
       "      <th>...</th>\n",
       "      <th>GZ228</th>\n",
       "      <th>GZ229</th>\n",
       "      <th>GZ231</th>\n",
       "      <th>GZ232</th>\n",
       "      <th>GZ233</th>\n",
       "      <th>GZ234</th>\n",
       "      <th>GZ235</th>\n",
       "      <th>GZ236</th>\n",
       "      <th>GZ237</th>\n",
       "      <th>GZ238</th>\n",
       "    </tr>\n",
       "  </thead>\n",
       "  <tbody>\n",
       "    <tr>\n",
       "      <th>0</th>\n",
       "      <td>21-14-0-10-47-8</td>\n",
       "      <td>0.000000</td>\n",
       "      <td>0.000000</td>\n",
       "      <td>0.000000</td>\n",
       "      <td>0.000000</td>\n",
       "      <td>0.000000</td>\n",
       "      <td>0.000000</td>\n",
       "      <td>0.000000</td>\n",
       "      <td>0.000000</td>\n",
       "      <td>0.000000</td>\n",
       "      <td>...</td>\n",
       "      <td>0.000000</td>\n",
       "      <td>0.000000</td>\n",
       "      <td>0.000000</td>\n",
       "      <td>0.000000</td>\n",
       "      <td>0.000000</td>\n",
       "      <td>0.000000</td>\n",
       "      <td>0.000000</td>\n",
       "      <td>0.000000</td>\n",
       "      <td>0.000000</td>\n",
       "      <td>0.000000</td>\n",
       "    </tr>\n",
       "    <tr>\n",
       "      <th>1</th>\n",
       "      <td>Abiotrophia</td>\n",
       "      <td>0.000000</td>\n",
       "      <td>0.000000</td>\n",
       "      <td>0.000000</td>\n",
       "      <td>0.000000</td>\n",
       "      <td>0.000000</td>\n",
       "      <td>0.000000</td>\n",
       "      <td>0.000000</td>\n",
       "      <td>0.000000</td>\n",
       "      <td>0.000000</td>\n",
       "      <td>...</td>\n",
       "      <td>0.000000</td>\n",
       "      <td>0.000000</td>\n",
       "      <td>0.000000</td>\n",
       "      <td>0.000000</td>\n",
       "      <td>0.000000</td>\n",
       "      <td>0.000000</td>\n",
       "      <td>0.000000</td>\n",
       "      <td>0.000000</td>\n",
       "      <td>0.000000</td>\n",
       "      <td>0.000000</td>\n",
       "    </tr>\n",
       "    <tr>\n",
       "      <th>2</th>\n",
       "      <td>Achromobacter</td>\n",
       "      <td>0.000000</td>\n",
       "      <td>0.000000</td>\n",
       "      <td>0.000263</td>\n",
       "      <td>0.000000</td>\n",
       "      <td>0.000000</td>\n",
       "      <td>0.000000</td>\n",
       "      <td>0.000000</td>\n",
       "      <td>0.000000</td>\n",
       "      <td>0.000000</td>\n",
       "      <td>...</td>\n",
       "      <td>0.000000</td>\n",
       "      <td>0.000000</td>\n",
       "      <td>0.000000</td>\n",
       "      <td>0.000000</td>\n",
       "      <td>0.010991</td>\n",
       "      <td>0.002700</td>\n",
       "      <td>0.000000</td>\n",
       "      <td>0.029905</td>\n",
       "      <td>0.000000</td>\n",
       "      <td>0.004649</td>\n",
       "    </tr>\n",
       "    <tr>\n",
       "      <th>3</th>\n",
       "      <td>Acidovorax</td>\n",
       "      <td>0.000644</td>\n",
       "      <td>0.000195</td>\n",
       "      <td>0.000583</td>\n",
       "      <td>0.000432</td>\n",
       "      <td>0.000393</td>\n",
       "      <td>0.000391</td>\n",
       "      <td>0.000187</td>\n",
       "      <td>0.000448</td>\n",
       "      <td>0.000759</td>\n",
       "      <td>...</td>\n",
       "      <td>0.000712</td>\n",
       "      <td>0.000519</td>\n",
       "      <td>0.000141</td>\n",
       "      <td>0.000313</td>\n",
       "      <td>0.001125</td>\n",
       "      <td>0.000699</td>\n",
       "      <td>0.000609</td>\n",
       "      <td>0.001400</td>\n",
       "      <td>0.000196</td>\n",
       "      <td>0.000532</td>\n",
       "    </tr>\n",
       "    <tr>\n",
       "      <th>4</th>\n",
       "      <td>Acidovorax_A</td>\n",
       "      <td>0.000000</td>\n",
       "      <td>0.000000</td>\n",
       "      <td>0.000000</td>\n",
       "      <td>0.000000</td>\n",
       "      <td>0.000000</td>\n",
       "      <td>0.000000</td>\n",
       "      <td>0.000000</td>\n",
       "      <td>0.000000</td>\n",
       "      <td>0.000000</td>\n",
       "      <td>...</td>\n",
       "      <td>0.000000</td>\n",
       "      <td>0.000000</td>\n",
       "      <td>0.000000</td>\n",
       "      <td>0.000000</td>\n",
       "      <td>0.000000</td>\n",
       "      <td>0.000000</td>\n",
       "      <td>0.000000</td>\n",
       "      <td>0.000284</td>\n",
       "      <td>0.000000</td>\n",
       "      <td>0.000000</td>\n",
       "    </tr>\n",
       "  </tbody>\n",
       "</table>\n",
       "<p>5 rows × 161 columns</p>\n",
       "</div>"
      ],
      "text/plain": [
       "             Genus     GZ001     GZ002     GZ003     GZ004     GZ005  \\\n",
       "0  21-14-0-10-47-8  0.000000  0.000000  0.000000  0.000000  0.000000   \n",
       "1      Abiotrophia  0.000000  0.000000  0.000000  0.000000  0.000000   \n",
       "2    Achromobacter  0.000000  0.000000  0.000263  0.000000  0.000000   \n",
       "3       Acidovorax  0.000644  0.000195  0.000583  0.000432  0.000393   \n",
       "4     Acidovorax_A  0.000000  0.000000  0.000000  0.000000  0.000000   \n",
       "\n",
       "      GZ006     GZ007     GZ008     GZ009  ...     GZ228     GZ229     GZ231  \\\n",
       "0  0.000000  0.000000  0.000000  0.000000  ...  0.000000  0.000000  0.000000   \n",
       "1  0.000000  0.000000  0.000000  0.000000  ...  0.000000  0.000000  0.000000   \n",
       "2  0.000000  0.000000  0.000000  0.000000  ...  0.000000  0.000000  0.000000   \n",
       "3  0.000391  0.000187  0.000448  0.000759  ...  0.000712  0.000519  0.000141   \n",
       "4  0.000000  0.000000  0.000000  0.000000  ...  0.000000  0.000000  0.000000   \n",
       "\n",
       "      GZ232     GZ233     GZ234     GZ235     GZ236     GZ237     GZ238  \n",
       "0  0.000000  0.000000  0.000000  0.000000  0.000000  0.000000  0.000000  \n",
       "1  0.000000  0.000000  0.000000  0.000000  0.000000  0.000000  0.000000  \n",
       "2  0.000000  0.010991  0.002700  0.000000  0.029905  0.000000  0.004649  \n",
       "3  0.000313  0.001125  0.000699  0.000609  0.001400  0.000196  0.000532  \n",
       "4  0.000000  0.000000  0.000000  0.000000  0.000284  0.000000  0.000000  \n",
       "\n",
       "[5 rows x 161 columns]"
      ]
     },
     "execution_count": 7,
     "metadata": {},
     "output_type": "execute_result"
    }
   ],
   "source": [
    "full_bac_gz.head()\n"
   ]
  },
  {
   "cell_type": "markdown",
   "metadata": {},
   "source": [
    "### 1.3 Load the metadata of each bacteria\n",
    "\n",
    "Load the metadata of each bacteria and check the first few rows of the data."
   ]
  },
  {
   "cell_type": "code",
   "execution_count": 8,
   "metadata": {},
   "outputs": [],
   "source": [
    "bac_bj = pd.read_csv('../../result/analysis/bacteria_BJ.csv')\n",
    "bac_gz = pd.read_csv('../../result/analysis/bacteria_GZ.csv')\n"
   ]
  },
  {
   "cell_type": "code",
   "execution_count": 9,
   "metadata": {},
   "outputs": [
    {
     "data": {
      "application/vnd.microsoft.datawrangler.viewer.v0+json": {
       "columns": [
        {
         "name": "index",
         "rawType": "int64",
         "type": "integer"
        },
        {
         "name": "No.",
         "rawType": "int64",
         "type": "integer"
        },
        {
         "name": "Species",
         "rawType": "object",
         "type": "string"
        }
       ],
       "conversionMethod": "pd.DataFrame",
       "ref": "7545c515-d2e3-4a62-88b6-b291eaab6e98",
       "rows": [
        [
         "0",
         "1",
         "Actinomyces oris"
        ],
        [
         "1",
         "2",
         "Aeromonas caviae"
        ],
        [
         "2",
         "3",
         "Alloprevotella sp015259235"
        ],
        [
         "3",
         "4",
         "Anaerococcus nagyae"
        ],
        [
         "4",
         "5",
         "Corynebacterium kefirresidentii"
        ]
       ],
       "shape": {
        "columns": 2,
        "rows": 5
       }
      },
      "text/html": [
       "<div>\n",
       "<style scoped>\n",
       "    .dataframe tbody tr th:only-of-type {\n",
       "        vertical-align: middle;\n",
       "    }\n",
       "\n",
       "    .dataframe tbody tr th {\n",
       "        vertical-align: top;\n",
       "    }\n",
       "\n",
       "    .dataframe thead th {\n",
       "        text-align: right;\n",
       "    }\n",
       "</style>\n",
       "<table border=\"1\" class=\"dataframe\">\n",
       "  <thead>\n",
       "    <tr style=\"text-align: right;\">\n",
       "      <th></th>\n",
       "      <th>No.</th>\n",
       "      <th>Species</th>\n",
       "    </tr>\n",
       "  </thead>\n",
       "  <tbody>\n",
       "    <tr>\n",
       "      <th>0</th>\n",
       "      <td>1</td>\n",
       "      <td>Actinomyces oris</td>\n",
       "    </tr>\n",
       "    <tr>\n",
       "      <th>1</th>\n",
       "      <td>2</td>\n",
       "      <td>Aeromonas caviae</td>\n",
       "    </tr>\n",
       "    <tr>\n",
       "      <th>2</th>\n",
       "      <td>3</td>\n",
       "      <td>Alloprevotella sp015259235</td>\n",
       "    </tr>\n",
       "    <tr>\n",
       "      <th>3</th>\n",
       "      <td>4</td>\n",
       "      <td>Anaerococcus nagyae</td>\n",
       "    </tr>\n",
       "    <tr>\n",
       "      <th>4</th>\n",
       "      <td>5</td>\n",
       "      <td>Corynebacterium kefirresidentii</td>\n",
       "    </tr>\n",
       "  </tbody>\n",
       "</table>\n",
       "</div>"
      ],
      "text/plain": [
       "   No.                          Species\n",
       "0    1                 Actinomyces oris\n",
       "1    2                 Aeromonas caviae\n",
       "2    3       Alloprevotella sp015259235\n",
       "3    4              Anaerococcus nagyae\n",
       "4    5  Corynebacterium kefirresidentii"
      ]
     },
     "execution_count": 9,
     "metadata": {},
     "output_type": "execute_result"
    }
   ],
   "source": [
    "bac_bj.head()\n"
   ]
  },
  {
   "cell_type": "code",
   "execution_count": 10,
   "metadata": {},
   "outputs": [
    {
     "data": {
      "application/vnd.microsoft.datawrangler.viewer.v0+json": {
       "columns": [
        {
         "name": "index",
         "rawType": "int64",
         "type": "integer"
        },
        {
         "name": "No.",
         "rawType": "int64",
         "type": "integer"
        },
        {
         "name": "Species",
         "rawType": "object",
         "type": "string"
        }
       ],
       "conversionMethod": "pd.DataFrame",
       "ref": "ef597318-a2d7-48e7-b445-58b8d9c7a27b",
       "rows": [
        [
         "0",
         "1",
         "Acinetobacter baumannii"
        ],
        [
         "1",
         "2",
         "Aeromonas caviae"
        ],
        [
         "2",
         "3",
         "Anaerococcus nagyae"
        ],
        [
         "3",
         "4",
         "Corynebacterium kefirresidentii"
        ],
        [
         "4",
         "5",
         "Corynebacterium macginleyi"
        ]
       ],
       "shape": {
        "columns": 2,
        "rows": 5
       }
      },
      "text/html": [
       "<div>\n",
       "<style scoped>\n",
       "    .dataframe tbody tr th:only-of-type {\n",
       "        vertical-align: middle;\n",
       "    }\n",
       "\n",
       "    .dataframe tbody tr th {\n",
       "        vertical-align: top;\n",
       "    }\n",
       "\n",
       "    .dataframe thead th {\n",
       "        text-align: right;\n",
       "    }\n",
       "</style>\n",
       "<table border=\"1\" class=\"dataframe\">\n",
       "  <thead>\n",
       "    <tr style=\"text-align: right;\">\n",
       "      <th></th>\n",
       "      <th>No.</th>\n",
       "      <th>Species</th>\n",
       "    </tr>\n",
       "  </thead>\n",
       "  <tbody>\n",
       "    <tr>\n",
       "      <th>0</th>\n",
       "      <td>1</td>\n",
       "      <td>Acinetobacter baumannii</td>\n",
       "    </tr>\n",
       "    <tr>\n",
       "      <th>1</th>\n",
       "      <td>2</td>\n",
       "      <td>Aeromonas caviae</td>\n",
       "    </tr>\n",
       "    <tr>\n",
       "      <th>2</th>\n",
       "      <td>3</td>\n",
       "      <td>Anaerococcus nagyae</td>\n",
       "    </tr>\n",
       "    <tr>\n",
       "      <th>3</th>\n",
       "      <td>4</td>\n",
       "      <td>Corynebacterium kefirresidentii</td>\n",
       "    </tr>\n",
       "    <tr>\n",
       "      <th>4</th>\n",
       "      <td>5</td>\n",
       "      <td>Corynebacterium macginleyi</td>\n",
       "    </tr>\n",
       "  </tbody>\n",
       "</table>\n",
       "</div>"
      ],
      "text/plain": [
       "   No.                          Species\n",
       "0    1          Acinetobacter baumannii\n",
       "1    2                 Aeromonas caviae\n",
       "2    3              Anaerococcus nagyae\n",
       "3    4  Corynebacterium kefirresidentii\n",
       "4    5       Corynebacterium macginleyi"
      ]
     },
     "execution_count": 10,
     "metadata": {},
     "output_type": "execute_result"
    }
   ],
   "source": [
    "bac_gz.head()\n"
   ]
  },
  {
   "cell_type": "markdown",
   "metadata": {},
   "source": [
    "### 1.4 Replace the \"Bacteria\" column with the real names\n",
    "\n",
    "Replace the \"Bacteria\" column with the real names of the bacteria."
   ]
  },
  {
   "cell_type": "code",
   "execution_count": 11,
   "metadata": {},
   "outputs": [
    {
     "data": {
      "application/vnd.microsoft.datawrangler.viewer.v0+json": {
       "columns": [
        {
         "name": "index",
         "rawType": "int64",
         "type": "integer"
        },
        {
         "name": "CHR",
         "rawType": "object",
         "type": "string"
        },
        {
         "name": "SNP",
         "rawType": "object",
         "type": "string"
        },
        {
         "name": "UNADJ",
         "rawType": "float64",
         "type": "float"
        },
        {
         "name": "GC",
         "rawType": "float64",
         "type": "float"
        },
        {
         "name": "BONF",
         "rawType": "float64",
         "type": "float"
        },
        {
         "name": "HOLM",
         "rawType": "float64",
         "type": "float"
        },
        {
         "name": "SIDAK_SS",
         "rawType": "float64",
         "type": "float"
        },
        {
         "name": "SIDAK_SD",
         "rawType": "float64",
         "type": "float"
        },
        {
         "name": "FDR_BH",
         "rawType": "float64",
         "type": "float"
        },
        {
         "name": "FDR_BY",
         "rawType": "float64",
         "type": "float"
        },
        {
         "name": "Bacteria",
         "rawType": "object",
         "type": "string"
        }
       ],
       "conversionMethod": "pd.DataFrame",
       "ref": "199def28-6310-4f40-97d6-801a3e647e77",
       "rows": [
        [
         "0",
         "4",
         "4:8609098",
         "1.052e-70",
         "2.656e-06",
         "1.119e-63",
         "1.119e-63",
         "inf",
         "inf",
         "1.119e-63",
         "1.874e-62",
         "Veillonella parvula_A"
        ],
        [
         "1",
         "20",
         "20:30977589",
         "1.002e-69",
         "2.671e-06",
         "1.065e-62",
         "1.065e-62",
         "inf",
         "inf",
         "5.324000000000001e-63",
         "8.92e-62",
         "Veillonella parvula_A"
        ],
        [
         "2",
         "18",
         "18:64718990",
         "1.591e-65",
         "1.234e-05",
         "1.691e-58",
         "1.691e-58",
         "inf",
         "inf",
         "5.638e-59",
         "9.447e-58",
         "Veillonella parvula_A"
        ],
        [
         "3",
         "HG1523_PATCH",
         "HG1523_PATCH:43470",
         "1.057e-65",
         "1.429e-06",
         "1.123e-58",
         "1.123e-58",
         "inf",
         "inf",
         "7.890999999999999e-59",
         "1.322e-57",
         "Porphyromonas pasteri"
        ],
        [
         "4",
         "26",
         "26:12121",
         "2.227e-65",
         "2.773e-05",
         "2.367e-58",
         "2.367e-58",
         "inf",
         "inf",
         "7.890999999999999e-59",
         "1.322e-57",
         "Porphyromonas pasteri"
        ]
       ],
       "shape": {
        "columns": 11,
        "rows": 5
       }
      },
      "text/html": [
       "<div>\n",
       "<style scoped>\n",
       "    .dataframe tbody tr th:only-of-type {\n",
       "        vertical-align: middle;\n",
       "    }\n",
       "\n",
       "    .dataframe tbody tr th {\n",
       "        vertical-align: top;\n",
       "    }\n",
       "\n",
       "    .dataframe thead th {\n",
       "        text-align: right;\n",
       "    }\n",
       "</style>\n",
       "<table border=\"1\" class=\"dataframe\">\n",
       "  <thead>\n",
       "    <tr style=\"text-align: right;\">\n",
       "      <th></th>\n",
       "      <th>CHR</th>\n",
       "      <th>SNP</th>\n",
       "      <th>UNADJ</th>\n",
       "      <th>GC</th>\n",
       "      <th>BONF</th>\n",
       "      <th>HOLM</th>\n",
       "      <th>SIDAK_SS</th>\n",
       "      <th>SIDAK_SD</th>\n",
       "      <th>FDR_BH</th>\n",
       "      <th>FDR_BY</th>\n",
       "      <th>Bacteria</th>\n",
       "    </tr>\n",
       "  </thead>\n",
       "  <tbody>\n",
       "    <tr>\n",
       "      <th>0</th>\n",
       "      <td>4</td>\n",
       "      <td>4:8609098</td>\n",
       "      <td>1.052000e-70</td>\n",
       "      <td>0.000003</td>\n",
       "      <td>1.119000e-63</td>\n",
       "      <td>1.119000e-63</td>\n",
       "      <td>inf</td>\n",
       "      <td>inf</td>\n",
       "      <td>1.119000e-63</td>\n",
       "      <td>1.874000e-62</td>\n",
       "      <td>Veillonella parvula_A</td>\n",
       "    </tr>\n",
       "    <tr>\n",
       "      <th>1</th>\n",
       "      <td>20</td>\n",
       "      <td>20:30977589</td>\n",
       "      <td>1.002000e-69</td>\n",
       "      <td>0.000003</td>\n",
       "      <td>1.065000e-62</td>\n",
       "      <td>1.065000e-62</td>\n",
       "      <td>inf</td>\n",
       "      <td>inf</td>\n",
       "      <td>5.324000e-63</td>\n",
       "      <td>8.920000e-62</td>\n",
       "      <td>Veillonella parvula_A</td>\n",
       "    </tr>\n",
       "    <tr>\n",
       "      <th>2</th>\n",
       "      <td>18</td>\n",
       "      <td>18:64718990</td>\n",
       "      <td>1.591000e-65</td>\n",
       "      <td>0.000012</td>\n",
       "      <td>1.691000e-58</td>\n",
       "      <td>1.691000e-58</td>\n",
       "      <td>inf</td>\n",
       "      <td>inf</td>\n",
       "      <td>5.638000e-59</td>\n",
       "      <td>9.447000e-58</td>\n",
       "      <td>Veillonella parvula_A</td>\n",
       "    </tr>\n",
       "    <tr>\n",
       "      <th>3</th>\n",
       "      <td>HG1523_PATCH</td>\n",
       "      <td>HG1523_PATCH:43470</td>\n",
       "      <td>1.057000e-65</td>\n",
       "      <td>0.000001</td>\n",
       "      <td>1.123000e-58</td>\n",
       "      <td>1.123000e-58</td>\n",
       "      <td>inf</td>\n",
       "      <td>inf</td>\n",
       "      <td>7.891000e-59</td>\n",
       "      <td>1.322000e-57</td>\n",
       "      <td>Porphyromonas pasteri</td>\n",
       "    </tr>\n",
       "    <tr>\n",
       "      <th>4</th>\n",
       "      <td>26</td>\n",
       "      <td>26:12121</td>\n",
       "      <td>2.227000e-65</td>\n",
       "      <td>0.000028</td>\n",
       "      <td>2.367000e-58</td>\n",
       "      <td>2.367000e-58</td>\n",
       "      <td>inf</td>\n",
       "      <td>inf</td>\n",
       "      <td>7.891000e-59</td>\n",
       "      <td>1.322000e-57</td>\n",
       "      <td>Porphyromonas pasteri</td>\n",
       "    </tr>\n",
       "  </tbody>\n",
       "</table>\n",
       "</div>"
      ],
      "text/plain": [
       "            CHR                 SNP         UNADJ        GC          BONF  \\\n",
       "0             4           4:8609098  1.052000e-70  0.000003  1.119000e-63   \n",
       "1            20         20:30977589  1.002000e-69  0.000003  1.065000e-62   \n",
       "2            18         18:64718990  1.591000e-65  0.000012  1.691000e-58   \n",
       "3  HG1523_PATCH  HG1523_PATCH:43470  1.057000e-65  0.000001  1.123000e-58   \n",
       "4            26            26:12121  2.227000e-65  0.000028  2.367000e-58   \n",
       "\n",
       "           HOLM  SIDAK_SS  SIDAK_SD        FDR_BH        FDR_BY  \\\n",
       "0  1.119000e-63       inf       inf  1.119000e-63  1.874000e-62   \n",
       "1  1.065000e-62       inf       inf  5.324000e-63  8.920000e-62   \n",
       "2  1.691000e-58       inf       inf  5.638000e-59  9.447000e-58   \n",
       "3  1.123000e-58       inf       inf  7.891000e-59  1.322000e-57   \n",
       "4  2.367000e-58       inf       inf  7.891000e-59  1.322000e-57   \n",
       "\n",
       "                Bacteria  \n",
       "0  Veillonella parvula_A  \n",
       "1  Veillonella parvula_A  \n",
       "2  Veillonella parvula_A  \n",
       "3  Porphyromonas pasteri  \n",
       "4  Porphyromonas pasteri  "
      ]
     },
     "execution_count": 11,
     "metadata": {},
     "output_type": "execute_result"
    }
   ],
   "source": [
    "# Merge full_data_bj with bac_bj to replace Bacteria column with real names\n",
    "full_data_bj = full_data_bj.merge(bac_bj, left_on='Bacteria', right_on='No.', how='left')\n",
    "\n",
    "# Drop the original Bacteria column and the No. column from bac_bj\n",
    "full_data_bj = full_data_bj.drop(columns=['Bacteria', 'No.'])\n",
    "\n",
    "# Rename the Species column to Bacteria\n",
    "full_data_bj = full_data_bj.rename(columns={'Species': 'Bacteria'})\n",
    "\n",
    "# Display the updated dataframe\n",
    "full_data_bj.head()\n"
   ]
  },
  {
   "cell_type": "code",
   "execution_count": 12,
   "metadata": {},
   "outputs": [
    {
     "data": {
      "application/vnd.microsoft.datawrangler.viewer.v0+json": {
       "columns": [
        {
         "name": "index",
         "rawType": "int64",
         "type": "integer"
        },
        {
         "name": "CHR",
         "rawType": "object",
         "type": "string"
        },
        {
         "name": "SNP",
         "rawType": "object",
         "type": "string"
        },
        {
         "name": "UNADJ",
         "rawType": "float64",
         "type": "float"
        },
        {
         "name": "GC",
         "rawType": "float64",
         "type": "float"
        },
        {
         "name": "BONF",
         "rawType": "float64",
         "type": "float"
        },
        {
         "name": "HOLM",
         "rawType": "float64",
         "type": "float"
        },
        {
         "name": "SIDAK_SS",
         "rawType": "float64",
         "type": "float"
        },
        {
         "name": "SIDAK_SD",
         "rawType": "float64",
         "type": "float"
        },
        {
         "name": "FDR_BH",
         "rawType": "float64",
         "type": "float"
        },
        {
         "name": "FDR_BY",
         "rawType": "float64",
         "type": "float"
        },
        {
         "name": "Bacteria",
         "rawType": "object",
         "type": "string"
        }
       ],
       "conversionMethod": "pd.DataFrame",
       "ref": "b1b839be-a0a2-4adb-acb2-91394222c88b",
       "rows": [
        [
         "0",
         "18",
         "18:107881",
         "1.282e-52",
         "8.328e-06",
         "7.951e-46",
         "7.951e-46",
         "inf",
         "inf",
         "7.951e-46",
         "1.289e-44",
         "Corynebacterium kefirresidentii"
        ],
        [
         "1",
         "GL000225.1",
         "GL000225.1:63186",
         "2.544e-48",
         "2.647e-06",
         "1.5789999999999999e-41",
         "1.5789999999999999e-41",
         "inf",
         "inf",
         "1.5789999999999999e-41",
         "2.5599999999999993e-40",
         "Vibrio metschnikovii"
        ],
        [
         "2",
         "GL000225.1",
         "GL000225.1:63182",
         "5.185e-48",
         "9.116e-06",
         "3.216999999999999e-41",
         "3.216999999999999e-41",
         "inf",
         "inf",
         "1.608e-41",
         "2.609e-40",
         "Vibrio metschnikovii"
        ],
        [
         "3",
         "HG2069_PATCH",
         "HG2069_PATCH:279669",
         "1.065e-45",
         "3.662e-05",
         "6.609e-39",
         "6.609e-39",
         "inf",
         "inf",
         "2.203e-39",
         "3.573e-38",
         "Vibrio metschnikovii"
        ],
        [
         "4",
         "20",
         "20:31067694",
         "2.4779999999999997e-45",
         "3.802e-05",
         "1.538e-38",
         "1.538e-38",
         "inf",
         "inf",
         "3.844e-39",
         "6.234e-38",
         "Vibrio metschnikovii"
        ]
       ],
       "shape": {
        "columns": 11,
        "rows": 5
       }
      },
      "text/html": [
       "<div>\n",
       "<style scoped>\n",
       "    .dataframe tbody tr th:only-of-type {\n",
       "        vertical-align: middle;\n",
       "    }\n",
       "\n",
       "    .dataframe tbody tr th {\n",
       "        vertical-align: top;\n",
       "    }\n",
       "\n",
       "    .dataframe thead th {\n",
       "        text-align: right;\n",
       "    }\n",
       "</style>\n",
       "<table border=\"1\" class=\"dataframe\">\n",
       "  <thead>\n",
       "    <tr style=\"text-align: right;\">\n",
       "      <th></th>\n",
       "      <th>CHR</th>\n",
       "      <th>SNP</th>\n",
       "      <th>UNADJ</th>\n",
       "      <th>GC</th>\n",
       "      <th>BONF</th>\n",
       "      <th>HOLM</th>\n",
       "      <th>SIDAK_SS</th>\n",
       "      <th>SIDAK_SD</th>\n",
       "      <th>FDR_BH</th>\n",
       "      <th>FDR_BY</th>\n",
       "      <th>Bacteria</th>\n",
       "    </tr>\n",
       "  </thead>\n",
       "  <tbody>\n",
       "    <tr>\n",
       "      <th>0</th>\n",
       "      <td>18</td>\n",
       "      <td>18:107881</td>\n",
       "      <td>1.282000e-52</td>\n",
       "      <td>0.000008</td>\n",
       "      <td>7.951000e-46</td>\n",
       "      <td>7.951000e-46</td>\n",
       "      <td>inf</td>\n",
       "      <td>inf</td>\n",
       "      <td>7.951000e-46</td>\n",
       "      <td>1.289000e-44</td>\n",
       "      <td>Corynebacterium kefirresidentii</td>\n",
       "    </tr>\n",
       "    <tr>\n",
       "      <th>1</th>\n",
       "      <td>GL000225.1</td>\n",
       "      <td>GL000225.1:63186</td>\n",
       "      <td>2.544000e-48</td>\n",
       "      <td>0.000003</td>\n",
       "      <td>1.579000e-41</td>\n",
       "      <td>1.579000e-41</td>\n",
       "      <td>inf</td>\n",
       "      <td>inf</td>\n",
       "      <td>1.579000e-41</td>\n",
       "      <td>2.560000e-40</td>\n",
       "      <td>Vibrio metschnikovii</td>\n",
       "    </tr>\n",
       "    <tr>\n",
       "      <th>2</th>\n",
       "      <td>GL000225.1</td>\n",
       "      <td>GL000225.1:63182</td>\n",
       "      <td>5.185000e-48</td>\n",
       "      <td>0.000009</td>\n",
       "      <td>3.217000e-41</td>\n",
       "      <td>3.217000e-41</td>\n",
       "      <td>inf</td>\n",
       "      <td>inf</td>\n",
       "      <td>1.608000e-41</td>\n",
       "      <td>2.609000e-40</td>\n",
       "      <td>Vibrio metschnikovii</td>\n",
       "    </tr>\n",
       "    <tr>\n",
       "      <th>3</th>\n",
       "      <td>HG2069_PATCH</td>\n",
       "      <td>HG2069_PATCH:279669</td>\n",
       "      <td>1.065000e-45</td>\n",
       "      <td>0.000037</td>\n",
       "      <td>6.609000e-39</td>\n",
       "      <td>6.609000e-39</td>\n",
       "      <td>inf</td>\n",
       "      <td>inf</td>\n",
       "      <td>2.203000e-39</td>\n",
       "      <td>3.573000e-38</td>\n",
       "      <td>Vibrio metschnikovii</td>\n",
       "    </tr>\n",
       "    <tr>\n",
       "      <th>4</th>\n",
       "      <td>20</td>\n",
       "      <td>20:31067694</td>\n",
       "      <td>2.478000e-45</td>\n",
       "      <td>0.000038</td>\n",
       "      <td>1.538000e-38</td>\n",
       "      <td>1.538000e-38</td>\n",
       "      <td>inf</td>\n",
       "      <td>inf</td>\n",
       "      <td>3.844000e-39</td>\n",
       "      <td>6.234000e-38</td>\n",
       "      <td>Vibrio metschnikovii</td>\n",
       "    </tr>\n",
       "  </tbody>\n",
       "</table>\n",
       "</div>"
      ],
      "text/plain": [
       "            CHR                  SNP         UNADJ        GC          BONF  \\\n",
       "0            18            18:107881  1.282000e-52  0.000008  7.951000e-46   \n",
       "1    GL000225.1     GL000225.1:63186  2.544000e-48  0.000003  1.579000e-41   \n",
       "2    GL000225.1     GL000225.1:63182  5.185000e-48  0.000009  3.217000e-41   \n",
       "3  HG2069_PATCH  HG2069_PATCH:279669  1.065000e-45  0.000037  6.609000e-39   \n",
       "4            20          20:31067694  2.478000e-45  0.000038  1.538000e-38   \n",
       "\n",
       "           HOLM  SIDAK_SS  SIDAK_SD        FDR_BH        FDR_BY  \\\n",
       "0  7.951000e-46       inf       inf  7.951000e-46  1.289000e-44   \n",
       "1  1.579000e-41       inf       inf  1.579000e-41  2.560000e-40   \n",
       "2  3.217000e-41       inf       inf  1.608000e-41  2.609000e-40   \n",
       "3  6.609000e-39       inf       inf  2.203000e-39  3.573000e-38   \n",
       "4  1.538000e-38       inf       inf  3.844000e-39  6.234000e-38   \n",
       "\n",
       "                          Bacteria  \n",
       "0  Corynebacterium kefirresidentii  \n",
       "1             Vibrio metschnikovii  \n",
       "2             Vibrio metschnikovii  \n",
       "3             Vibrio metschnikovii  \n",
       "4             Vibrio metschnikovii  "
      ]
     },
     "execution_count": 12,
     "metadata": {},
     "output_type": "execute_result"
    }
   ],
   "source": [
    "# Merge full_data_gz with bac_gz to replace Bacteria column with real names\n",
    "full_data_gz = full_data_gz.merge(bac_gz, left_on='Bacteria', right_on='No.', how='left')\n",
    "\n",
    "# Drop the original Bacteria column and the No. column from bac_gz\n",
    "full_data_gz = full_data_gz.drop(columns=['Bacteria', 'No.'])\n",
    "\n",
    "# Rename the Species column to Bacteria\n",
    "full_data_gz = full_data_gz.rename(columns={'Species': 'Bacteria'})\n",
    "\n",
    "# Display the updated dataframe\n",
    "full_data_gz.head()\n"
   ]
  },
  {
   "cell_type": "markdown",
   "metadata": {},
   "source": [
    "### 1.5 Merge the data from the two cities"
   ]
  },
  {
   "cell_type": "code",
   "execution_count": 13,
   "metadata": {},
   "outputs": [
    {
     "data": {
      "application/vnd.microsoft.datawrangler.viewer.v0+json": {
       "columns": [
        {
         "name": "index",
         "rawType": "int64",
         "type": "integer"
        },
        {
         "name": "CHR",
         "rawType": "object",
         "type": "string"
        },
        {
         "name": "SNP",
         "rawType": "object",
         "type": "string"
        },
        {
         "name": "UNADJ",
         "rawType": "float64",
         "type": "float"
        },
        {
         "name": "GC",
         "rawType": "float64",
         "type": "float"
        },
        {
         "name": "BONF",
         "rawType": "float64",
         "type": "float"
        },
        {
         "name": "HOLM",
         "rawType": "float64",
         "type": "float"
        },
        {
         "name": "SIDAK_SS",
         "rawType": "float64",
         "type": "float"
        },
        {
         "name": "SIDAK_SD",
         "rawType": "float64",
         "type": "float"
        },
        {
         "name": "FDR_BH",
         "rawType": "float64",
         "type": "float"
        },
        {
         "name": "FDR_BY",
         "rawType": "float64",
         "type": "float"
        },
        {
         "name": "Bacteria",
         "rawType": "object",
         "type": "string"
        }
       ],
       "conversionMethod": "pd.DataFrame",
       "ref": "f995b48d-34fa-40b2-a193-5d0e517d54db",
       "rows": [
        [
         "0",
         "4",
         "4:8609098",
         "1.052e-70",
         "2.656e-06",
         "1.119e-63",
         "1.119e-63",
         "inf",
         "inf",
         "1.119e-63",
         "1.874e-62",
         "Veillonella parvula_A"
        ],
        [
         "1",
         "20",
         "20:30977589",
         "1.002e-69",
         "2.671e-06",
         "1.065e-62",
         "1.065e-62",
         "inf",
         "inf",
         "5.324000000000001e-63",
         "8.92e-62",
         "Veillonella parvula_A"
        ],
        [
         "2",
         "18",
         "18:64718990",
         "1.591e-65",
         "1.234e-05",
         "1.691e-58",
         "1.691e-58",
         "inf",
         "inf",
         "5.638e-59",
         "9.447e-58",
         "Veillonella parvula_A"
        ],
        [
         "3",
         "HG1523_PATCH",
         "HG1523_PATCH:43470",
         "1.057e-65",
         "1.429e-06",
         "1.123e-58",
         "1.123e-58",
         "inf",
         "inf",
         "7.890999999999999e-59",
         "1.322e-57",
         "Porphyromonas pasteri"
        ],
        [
         "4",
         "26",
         "26:12121",
         "2.227e-65",
         "2.773e-05",
         "2.367e-58",
         "2.367e-58",
         "inf",
         "inf",
         "7.890999999999999e-59",
         "1.322e-57",
         "Porphyromonas pasteri"
        ]
       ],
       "shape": {
        "columns": 11,
        "rows": 5
       }
      },
      "text/html": [
       "<div>\n",
       "<style scoped>\n",
       "    .dataframe tbody tr th:only-of-type {\n",
       "        vertical-align: middle;\n",
       "    }\n",
       "\n",
       "    .dataframe tbody tr th {\n",
       "        vertical-align: top;\n",
       "    }\n",
       "\n",
       "    .dataframe thead th {\n",
       "        text-align: right;\n",
       "    }\n",
       "</style>\n",
       "<table border=\"1\" class=\"dataframe\">\n",
       "  <thead>\n",
       "    <tr style=\"text-align: right;\">\n",
       "      <th></th>\n",
       "      <th>CHR</th>\n",
       "      <th>SNP</th>\n",
       "      <th>UNADJ</th>\n",
       "      <th>GC</th>\n",
       "      <th>BONF</th>\n",
       "      <th>HOLM</th>\n",
       "      <th>SIDAK_SS</th>\n",
       "      <th>SIDAK_SD</th>\n",
       "      <th>FDR_BH</th>\n",
       "      <th>FDR_BY</th>\n",
       "      <th>Bacteria</th>\n",
       "    </tr>\n",
       "  </thead>\n",
       "  <tbody>\n",
       "    <tr>\n",
       "      <th>0</th>\n",
       "      <td>4</td>\n",
       "      <td>4:8609098</td>\n",
       "      <td>1.052000e-70</td>\n",
       "      <td>0.000003</td>\n",
       "      <td>1.119000e-63</td>\n",
       "      <td>1.119000e-63</td>\n",
       "      <td>inf</td>\n",
       "      <td>inf</td>\n",
       "      <td>1.119000e-63</td>\n",
       "      <td>1.874000e-62</td>\n",
       "      <td>Veillonella parvula_A</td>\n",
       "    </tr>\n",
       "    <tr>\n",
       "      <th>1</th>\n",
       "      <td>20</td>\n",
       "      <td>20:30977589</td>\n",
       "      <td>1.002000e-69</td>\n",
       "      <td>0.000003</td>\n",
       "      <td>1.065000e-62</td>\n",
       "      <td>1.065000e-62</td>\n",
       "      <td>inf</td>\n",
       "      <td>inf</td>\n",
       "      <td>5.324000e-63</td>\n",
       "      <td>8.920000e-62</td>\n",
       "      <td>Veillonella parvula_A</td>\n",
       "    </tr>\n",
       "    <tr>\n",
       "      <th>2</th>\n",
       "      <td>18</td>\n",
       "      <td>18:64718990</td>\n",
       "      <td>1.591000e-65</td>\n",
       "      <td>0.000012</td>\n",
       "      <td>1.691000e-58</td>\n",
       "      <td>1.691000e-58</td>\n",
       "      <td>inf</td>\n",
       "      <td>inf</td>\n",
       "      <td>5.638000e-59</td>\n",
       "      <td>9.447000e-58</td>\n",
       "      <td>Veillonella parvula_A</td>\n",
       "    </tr>\n",
       "    <tr>\n",
       "      <th>3</th>\n",
       "      <td>HG1523_PATCH</td>\n",
       "      <td>HG1523_PATCH:43470</td>\n",
       "      <td>1.057000e-65</td>\n",
       "      <td>0.000001</td>\n",
       "      <td>1.123000e-58</td>\n",
       "      <td>1.123000e-58</td>\n",
       "      <td>inf</td>\n",
       "      <td>inf</td>\n",
       "      <td>7.891000e-59</td>\n",
       "      <td>1.322000e-57</td>\n",
       "      <td>Porphyromonas pasteri</td>\n",
       "    </tr>\n",
       "    <tr>\n",
       "      <th>4</th>\n",
       "      <td>26</td>\n",
       "      <td>26:12121</td>\n",
       "      <td>2.227000e-65</td>\n",
       "      <td>0.000028</td>\n",
       "      <td>2.367000e-58</td>\n",
       "      <td>2.367000e-58</td>\n",
       "      <td>inf</td>\n",
       "      <td>inf</td>\n",
       "      <td>7.891000e-59</td>\n",
       "      <td>1.322000e-57</td>\n",
       "      <td>Porphyromonas pasteri</td>\n",
       "    </tr>\n",
       "  </tbody>\n",
       "</table>\n",
       "</div>"
      ],
      "text/plain": [
       "            CHR                 SNP         UNADJ        GC          BONF  \\\n",
       "0             4           4:8609098  1.052000e-70  0.000003  1.119000e-63   \n",
       "1            20         20:30977589  1.002000e-69  0.000003  1.065000e-62   \n",
       "2            18         18:64718990  1.591000e-65  0.000012  1.691000e-58   \n",
       "3  HG1523_PATCH  HG1523_PATCH:43470  1.057000e-65  0.000001  1.123000e-58   \n",
       "4            26            26:12121  2.227000e-65  0.000028  2.367000e-58   \n",
       "\n",
       "           HOLM  SIDAK_SS  SIDAK_SD        FDR_BH        FDR_BY  \\\n",
       "0  1.119000e-63       inf       inf  1.119000e-63  1.874000e-62   \n",
       "1  1.065000e-62       inf       inf  5.324000e-63  8.920000e-62   \n",
       "2  1.691000e-58       inf       inf  5.638000e-59  9.447000e-58   \n",
       "3  1.123000e-58       inf       inf  7.891000e-59  1.322000e-57   \n",
       "4  2.367000e-58       inf       inf  7.891000e-59  1.322000e-57   \n",
       "\n",
       "                Bacteria  \n",
       "0  Veillonella parvula_A  \n",
       "1  Veillonella parvula_A  \n",
       "2  Veillonella parvula_A  \n",
       "3  Porphyromonas pasteri  \n",
       "4  Porphyromonas pasteri  "
      ]
     },
     "execution_count": 13,
     "metadata": {},
     "output_type": "execute_result"
    }
   ],
   "source": [
    "full_data = pd.concat([full_data_bj, full_data_gz], ignore_index=True)\n",
    "full_data.head()\n"
   ]
  },
  {
   "cell_type": "markdown",
   "metadata": {},
   "source": [
    "## Step 2: Data analysis\n",
    "\n",
    "### 2.1 Check the distribution of the target variable\n",
    "\n",
    "Draw a histogram of the distribution of bacteria of top-100 smallest FDR-BY p-values in the two cities.\n",
    "\n",
    "#### 2.1.1 p-value threshold"
   ]
  },
  {
   "cell_type": "code",
   "execution_count": 14,
   "metadata": {},
   "outputs": [
    {
     "name": "stdout",
     "output_type": "stream",
     "text": [
      "100th p-value of Beijing: 8.401e-47\n"
     ]
    }
   ],
   "source": [
    "# See the 100th p-value\n",
    "print('100th p-value of Beijing:', full_data_bj.loc[99, 'FDR_BY'])\n"
   ]
  },
  {
   "cell_type": "code",
   "execution_count": 15,
   "metadata": {},
   "outputs": [
    {
     "name": "stdout",
     "output_type": "stream",
     "text": [
      "100th p-value of Guangzhou: 4.185e-32\n"
     ]
    }
   ],
   "source": [
    "print('100th p-value of Guangzhou:', full_data_gz.loc[99, 'FDR_BY'])\n"
   ]
  },
  {
   "cell_type": "markdown",
   "metadata": {},
   "source": [
    "#### 2.1.2 Top-100 smallest FDR-BY p-values"
   ]
  },
  {
   "cell_type": "code",
   "execution_count": 16,
   "metadata": {},
   "outputs": [],
   "source": [
    "# Use list to store the top\n",
    "bac_bj_top = full_data_bj['Bacteria'].head(100).unique()\n",
    "bac_gz_top = full_data_gz['Bacteria'].head(100).unique()\n",
    "\n",
    "# Fill the counts of each bacteria in the top 100 FDR_BY\n",
    "count_bj = []\n",
    "count_gz = []\n",
    "\n",
    "# Count the number of bacteria in the top 100 FDR_BY that are in the top 100 bacteria\n",
    "\n",
    "# Count the occurrences of each bacteria in the top 100 rows\n",
    "count_bj = full_data_bj['Bacteria'].head(100).value_counts().reindex(bac_bj_top, fill_value=0).tolist()\n",
    "\n",
    "# Count the number of bacteria in the top 100 FDR_BY that are in the top 100 bacteria\n",
    "\n",
    "count_gz = full_data_gz['Bacteria'].head(100).value_counts().reindex(bac_gz_top, fill_value=0).tolist()\n",
    "\n",
    "# Create a dataframe to store the counts\n",
    "count_bj = pd.DataFrame({'Bacteria': bac_bj_top, 'Count': count_bj})\n",
    "count_gz = pd.DataFrame({'Bacteria': bac_gz_top, 'Count': count_gz})\n",
    "\n",
    "# Sort the dataframe by the counts\n",
    "count_bj = count_bj.sort_values(by='Count', ascending=False)\n",
    "count_gz = count_gz.sort_values(by='Count', ascending=False)\n"
   ]
  },
  {
   "cell_type": "code",
   "execution_count": 17,
   "metadata": {},
   "outputs": [
    {
     "data": {
      "application/vnd.microsoft.datawrangler.viewer.v0+json": {
       "columns": [
        {
         "name": "index",
         "rawType": "int64",
         "type": "integer"
        },
        {
         "name": "Bacteria",
         "rawType": "object",
         "type": "string"
        },
        {
         "name": "Count",
         "rawType": "int64",
         "type": "integer"
        }
       ],
       "conversionMethod": "pd.DataFrame",
       "ref": "731c9ca0-a587-46fc-8ee9-180bc72acc88",
       "rows": [
        [
         "1",
         "Porphyromonas pasteri",
         "64"
        ],
        [
         "0",
         "Veillonella parvula_A",
         "36"
        ]
       ],
       "shape": {
        "columns": 2,
        "rows": 2
       }
      },
      "text/html": [
       "<div>\n",
       "<style scoped>\n",
       "    .dataframe tbody tr th:only-of-type {\n",
       "        vertical-align: middle;\n",
       "    }\n",
       "\n",
       "    .dataframe tbody tr th {\n",
       "        vertical-align: top;\n",
       "    }\n",
       "\n",
       "    .dataframe thead th {\n",
       "        text-align: right;\n",
       "    }\n",
       "</style>\n",
       "<table border=\"1\" class=\"dataframe\">\n",
       "  <thead>\n",
       "    <tr style=\"text-align: right;\">\n",
       "      <th></th>\n",
       "      <th>Bacteria</th>\n",
       "      <th>Count</th>\n",
       "    </tr>\n",
       "  </thead>\n",
       "  <tbody>\n",
       "    <tr>\n",
       "      <th>1</th>\n",
       "      <td>Porphyromonas pasteri</td>\n",
       "      <td>64</td>\n",
       "    </tr>\n",
       "    <tr>\n",
       "      <th>0</th>\n",
       "      <td>Veillonella parvula_A</td>\n",
       "      <td>36</td>\n",
       "    </tr>\n",
       "  </tbody>\n",
       "</table>\n",
       "</div>"
      ],
      "text/plain": [
       "                Bacteria  Count\n",
       "1  Porphyromonas pasteri     64\n",
       "0  Veillonella parvula_A     36"
      ]
     },
     "execution_count": 17,
     "metadata": {},
     "output_type": "execute_result"
    }
   ],
   "source": [
    "# Print the top 10 bacteria in BJ\n",
    "count_bj.head(10)\n"
   ]
  },
  {
   "cell_type": "code",
   "execution_count": 18,
   "metadata": {},
   "outputs": [
    {
     "data": {
      "application/vnd.microsoft.datawrangler.viewer.v0+json": {
       "columns": [
        {
         "name": "index",
         "rawType": "int64",
         "type": "integer"
        },
        {
         "name": "Bacteria",
         "rawType": "object",
         "type": "string"
        },
        {
         "name": "Count",
         "rawType": "int64",
         "type": "integer"
        }
       ],
       "conversionMethod": "pd.DataFrame",
       "ref": "6acc3011-aec9-43a8-b06d-369b6444797a",
       "rows": [
        [
         "1",
         "Vibrio metschnikovii",
         "48"
        ],
        [
         "3",
         "Unclassified_A36_bin.27",
         "20"
        ],
        [
         "0",
         "Corynebacterium kefirresidentii",
         "16"
        ],
        [
         "6",
         "Acinetobacter baumannii",
         "7"
        ],
        [
         "2",
         "Staphylococcus epidermidis",
         "5"
        ],
        [
         "5",
         "Cutibacterium modestum",
         "3"
        ],
        [
         "4",
         "Lawsonella clevelandensis_A",
         "1"
        ]
       ],
       "shape": {
        "columns": 2,
        "rows": 7
       }
      },
      "text/html": [
       "<div>\n",
       "<style scoped>\n",
       "    .dataframe tbody tr th:only-of-type {\n",
       "        vertical-align: middle;\n",
       "    }\n",
       "\n",
       "    .dataframe tbody tr th {\n",
       "        vertical-align: top;\n",
       "    }\n",
       "\n",
       "    .dataframe thead th {\n",
       "        text-align: right;\n",
       "    }\n",
       "</style>\n",
       "<table border=\"1\" class=\"dataframe\">\n",
       "  <thead>\n",
       "    <tr style=\"text-align: right;\">\n",
       "      <th></th>\n",
       "      <th>Bacteria</th>\n",
       "      <th>Count</th>\n",
       "    </tr>\n",
       "  </thead>\n",
       "  <tbody>\n",
       "    <tr>\n",
       "      <th>1</th>\n",
       "      <td>Vibrio metschnikovii</td>\n",
       "      <td>48</td>\n",
       "    </tr>\n",
       "    <tr>\n",
       "      <th>3</th>\n",
       "      <td>Unclassified_A36_bin.27</td>\n",
       "      <td>20</td>\n",
       "    </tr>\n",
       "    <tr>\n",
       "      <th>0</th>\n",
       "      <td>Corynebacterium kefirresidentii</td>\n",
       "      <td>16</td>\n",
       "    </tr>\n",
       "    <tr>\n",
       "      <th>6</th>\n",
       "      <td>Acinetobacter baumannii</td>\n",
       "      <td>7</td>\n",
       "    </tr>\n",
       "    <tr>\n",
       "      <th>2</th>\n",
       "      <td>Staphylococcus epidermidis</td>\n",
       "      <td>5</td>\n",
       "    </tr>\n",
       "    <tr>\n",
       "      <th>5</th>\n",
       "      <td>Cutibacterium modestum</td>\n",
       "      <td>3</td>\n",
       "    </tr>\n",
       "    <tr>\n",
       "      <th>4</th>\n",
       "      <td>Lawsonella clevelandensis_A</td>\n",
       "      <td>1</td>\n",
       "    </tr>\n",
       "  </tbody>\n",
       "</table>\n",
       "</div>"
      ],
      "text/plain": [
       "                          Bacteria  Count\n",
       "1             Vibrio metschnikovii     48\n",
       "3          Unclassified_A36_bin.27     20\n",
       "0  Corynebacterium kefirresidentii     16\n",
       "6          Acinetobacter baumannii      7\n",
       "2       Staphylococcus epidermidis      5\n",
       "5           Cutibacterium modestum      3\n",
       "4      Lawsonella clevelandensis_A      1"
      ]
     },
     "execution_count": 18,
     "metadata": {},
     "output_type": "execute_result"
    }
   ],
   "source": [
    "count_gz.head(10)\n"
   ]
  },
  {
   "cell_type": "markdown",
   "metadata": {},
   "source": [
    "#### 2.1.3 See the unique bacteria count of each city"
   ]
  },
  {
   "cell_type": "code",
   "execution_count": 19,
   "metadata": {},
   "outputs": [
    {
     "data": {
      "text/plain": [
       "36"
      ]
     },
     "execution_count": 19,
     "metadata": {},
     "output_type": "execute_result"
    }
   ],
   "source": [
    "# See the unique bacteria count in Beijing\n",
    "full_data_bj['Bacteria'].nunique()\n"
   ]
  },
  {
   "cell_type": "code",
   "execution_count": 20,
   "metadata": {},
   "outputs": [
    {
     "data": {
      "text/plain": [
       "46"
      ]
     },
     "execution_count": 20,
     "metadata": {},
     "output_type": "execute_result"
    }
   ],
   "source": [
    "# See the unique bacteria count in Guangzhou\n",
    "full_data_gz['Bacteria'].nunique()\n"
   ]
  },
  {
   "cell_type": "markdown",
   "metadata": {},
   "source": [
    "#### 2.1.4 Draw a venn diagram of the unique bacteria count of each city"
   ]
  },
  {
   "cell_type": "code",
   "execution_count": 21,
   "metadata": {},
   "outputs": [
    {
     "name": "stdout",
     "output_type": "stream",
     "text": [
      "Number of common bacteria: 31\n",
      "Common bacteria: {'Anaerococcus nagyae', 'Cutibacterium acnes', 'Unclassified_HC33_bin.21', 'Escherichia coli', 'Staphylococcus epidermidis', 'Aeromonas caviae', 'Unclassified_164_bin.13', 'Unclassified_BJ223_bin.13', 'Unclassified_152_bin.2', 'Corynebacterium kefirresidentii', 'Unclassified_BJ151_bin.16', 'Lawsonella clevelandensis_A', 'Unclassified_A36_bin.24', 'Cutibacterium granulosum', 'Corynebacterium macginleyi', 'Veillonella parvula_A', 'Unclassified_BJ063_bin.16', 'Porphyromonas pasteri', 'Vibrio metschnikovii', 'Unclassified_BJ161_bin.11', 'Unclassified_BJ205_bin.12', 'Kocuria marina', 'Staphylococcus capitis', 'Unclassified_BJ026_bin.8', 'Unclassified_GDM_bin.2', 'Unclassified_BJ102_bin.13', 'Unclassified_147_bin.29', 'Unclassified_BJ115_bin.6', 'Unclassified_A36_bin.27', 'Enterococcus faecalis', 'Unclassified_BJ167_bin.11'}\n"
     ]
    }
   ],
   "source": [
    "# Create a set for all the bacteria in BJ and GZ\n",
    "set_bj = set(full_data_bj['Bacteria'].unique())\n",
    "set_gz = set(full_data_gz['Bacteria'].unique())\n",
    "\n",
    "# Find which bacteria appears in both 2 cities\n",
    "set_common = set_bj.intersection(set_gz)\n",
    "print('Number of common bacteria:', len(set_common))\n",
    "print('Common bacteria:', set_common)\n"
   ]
  },
  {
   "cell_type": "code",
   "execution_count": 22,
   "metadata": {},
   "outputs": [
    {
     "data": {
      "image/png": "[encoded data removed]",
      "text/plain": [
       "<Figure size 800x800 with 1 Axes>"
      ]
     },
     "metadata": {},
     "output_type": "display_data"
    }
   ],
   "source": [
    "# Draw the Venn diagram\n",
    "\n",
    "from matplotlib_venn import venn2\n",
    "\n",
    "# Create a Venn diagram\n",
    "plt.figure(figsize=(8, 8), dpi=100)\n",
    "venn2([set_bj, set_gz], ('Beijing', 'Guangzhou'))\n",
    "plt.title('Venn Diagram of Bacteria in Beijing and Guangzhou')\n",
    "plt.savefig('./venn_diagram_bac_age.pdf')\n",
    "plt.show()\n"
   ]
  },
  {
   "cell_type": "markdown",
   "metadata": {},
   "source": [
    "### 2.2 Set the threshold of the p-value\n",
    "\n",
    "Use 5th, 10th,..., 95th percentile of the p-values as the threshold to filter the data."
   ]
  },
  {
   "cell_type": "code",
   "execution_count": 23,
   "metadata": {},
   "outputs": [
    {
     "name": "stdout",
     "output_type": "stream",
     "text": [
      "Threshold of FDR_BY in Beijing: 5\n",
      "1.322e-57\n",
      "Threshold of FDR_BY in Beijing: 10\n",
      "2.046e-57\n",
      "Threshold of FDR_BY in Beijing: 15\n",
      "9.999000000000001e-57\n",
      "Threshold of FDR_BY in Beijing: 20\n",
      "1.653e-56\n",
      "Threshold of FDR_BY in Beijing: 25\n",
      "2.4300000000000007e-56\n",
      "Threshold of FDR_BY in Beijing: 30\n",
      "1.716e-55\n",
      "Threshold of FDR_BY in Beijing: 35\n",
      "7.196e-55\n",
      "Threshold of FDR_BY in Beijing: 40\n",
      "2.6219999999999997e-54\n",
      "Threshold of FDR_BY in Beijing: 45\n",
      "9.413e-54\n",
      "Threshold of FDR_BY in Beijing: 50\n",
      "3.5279999999999993e-53\n",
      "Threshold of FDR_BY in Beijing: 55\n",
      "9.487e-53\n",
      "Threshold of FDR_BY in Beijing: 60\n",
      "3.907e-52\n",
      "Threshold of FDR_BY in Beijing: 65\n",
      "2.961e-51\n",
      "Threshold of FDR_BY in Beijing: 70\n",
      "3.735e-50\n",
      "Threshold of FDR_BY in Beijing: 75\n",
      "5.294000000000001e-50\n",
      "Threshold of FDR_BY in Beijing: 80\n",
      "3.016e-49\n",
      "Threshold of FDR_BY in Beijing: 85\n",
      "1.171e-48\n",
      "Threshold of FDR_BY in Beijing: 90\n",
      "4.027e-48\n",
      "Threshold of FDR_BY in Beijing: 95\n",
      "1.281e-47\n",
      "Threshold of FDR_BY in Beijing: 100\n",
      "8.401e-47\n"
     ]
    }
   ],
   "source": [
    "# Set the threshold of FDR_BY in Beijing\n",
    "threshold_bj = []\n",
    "for i in range(1, 21):\n",
    "  num = 5 * i\n",
    "  print(f'Threshold of FDR_BY in Beijing: {num}')\n",
    "  print(full_data_bj.loc[num-1, 'FDR_BY'])\n",
    "  threshold_bj.append(full_data_bj.loc[num-1, 'FDR_BY'])\n"
   ]
  },
  {
   "cell_type": "code",
   "execution_count": 24,
   "metadata": {},
   "outputs": [
    {
     "name": "stdout",
     "output_type": "stream",
     "text": [
      "[1.322e-57, 2.046e-57, 9.999000000000001e-57, 1.653e-56, 2.4300000000000007e-56, 1.716e-55, 7.196e-55, 2.6219999999999997e-54, 9.413e-54, 3.5279999999999993e-53, 9.487e-53, 3.907e-52, 2.961e-51, 3.735e-50, 5.294000000000001e-50, 3.016e-49, 1.171e-48, 4.027e-48, 1.281e-47, 8.401e-47]\n"
     ]
    }
   ],
   "source": [
    "print(threshold_bj)\n"
   ]
  },
  {
   "cell_type": "code",
   "execution_count": 25,
   "metadata": {},
   "outputs": [
    {
     "name": "stdout",
     "output_type": "stream",
     "text": [
      "Threshold of FDR_BY in Guangzhou: 5\n",
      "6.234e-38\n",
      "Threshold of FDR_BY in Guangzhou: 10\n",
      "1.085e-36\n",
      "Threshold of FDR_BY in Guangzhou: 15\n",
      "8.481000000000001e-36\n",
      "Threshold of FDR_BY in Guangzhou: 20\n",
      "8.529000000000001e-35\n",
      "Threshold of FDR_BY in Guangzhou: 25\n",
      "9.158e-35\n",
      "Threshold of FDR_BY in Guangzhou: 30\n",
      "2.538e-34\n",
      "Threshold of FDR_BY in Guangzhou: 35\n",
      "5.447e-34\n",
      "Threshold of FDR_BY in Guangzhou: 40\n",
      "6.7e-34\n",
      "Threshold of FDR_BY in Guangzhou: 45\n",
      "8.874e-34\n",
      "Threshold of FDR_BY in Guangzhou: 50\n",
      "1.244e-33\n",
      "Threshold of FDR_BY in Guangzhou: 55\n",
      "2.022e-33\n",
      "Threshold of FDR_BY in Guangzhou: 60\n",
      "3.0189999999999997e-33\n",
      "Threshold of FDR_BY in Guangzhou: 65\n",
      "4.274e-33\n",
      "Threshold of FDR_BY in Guangzhou: 70\n",
      "4.716e-33\n",
      "Threshold of FDR_BY in Guangzhou: 75\n",
      "8.666e-33\n",
      "Threshold of FDR_BY in Guangzhou: 80\n",
      "1.462e-32\n",
      "Threshold of FDR_BY in Guangzhou: 85\n",
      "1.812e-32\n",
      "Threshold of FDR_BY in Guangzhou: 90\n",
      "2.078e-32\n",
      "Threshold of FDR_BY in Guangzhou: 95\n",
      "2.928e-32\n",
      "Threshold of FDR_BY in Guangzhou: 100\n",
      "4.185e-32\n"
     ]
    }
   ],
   "source": [
    "# Set the threshold of FDR_BY in Guangzhou\n",
    "threshold_gz = []\n",
    "for i in range(1, 21):\n",
    "  num = 5 * i\n",
    "  print(f'Threshold of FDR_BY in Guangzhou: {num}')\n",
    "  print(full_data_gz.loc[num-1, 'FDR_BY'])\n",
    "  threshold_gz.append(full_data_gz.loc[num-1, 'FDR_BY'])\n"
   ]
  },
  {
   "cell_type": "code",
   "execution_count": 26,
   "metadata": {},
   "outputs": [
    {
     "name": "stdout",
     "output_type": "stream",
     "text": [
      "[6.234e-38, 1.085e-36, 8.481000000000001e-36, 8.529000000000001e-35, 9.158e-35, 2.538e-34, 5.447e-34, 6.7e-34, 8.874e-34, 1.244e-33, 2.022e-33, 3.0189999999999997e-33, 4.274e-33, 4.716e-33, 8.666e-33, 1.462e-32, 1.812e-32, 2.078e-32, 2.928e-32, 4.185e-32]\n"
     ]
    }
   ],
   "source": [
    "print(threshold_gz)\n"
   ]
  },
  {
   "cell_type": "markdown",
   "metadata": {},
   "source": [
    "We'll use a plot to visualize the cross-validation results of the SNP-Gene-Bacteria data in the two cities.\n",
    "\n",
    "#### 2.2.1 Perform the cross-validation\n",
    "\n",
    "We'll use the threshold data of one city to see how many p-values of the bacteria are less than that in the other city.\n",
    "\n",
    "Numbers of data in each city:\n",
    "\n",
    "- Beijing: 36 bacterias with 100 SNPs each, total 3600 data\n",
    "- Guangzhou: 46 bacterias with 100 SNPs each, total 4600 data"
   ]
  },
  {
   "cell_type": "code",
   "execution_count": 27,
   "metadata": {},
   "outputs": [],
   "source": [
    "# Prepare the x label\n",
    "x_label = [5, 10, 15, 20, 25, 30, 35, 40, 45, 50, 55, 60, 65, 70, 75, 80, 85, 90, 95, 100]\n"
   ]
  },
  {
   "cell_type": "code",
   "execution_count": 28,
   "metadata": {},
   "outputs": [
    {
     "data": {
      "image/png": "[encoded data removed]",
      "text/plain": [
       "<Figure size 1000x600 with 1 Axes>"
      ]
     },
     "metadata": {},
     "output_type": "display_data"
    }
   ],
   "source": [
    "threshold_compare_bj = []\n",
    "\n",
    "for i in range(20):\n",
    "  threshold_compare_bj.append(sum(full_data_gz['FDR_BY'] > threshold_bj[i]))\n",
    "\n",
    "# Draw a line chart to visualize the comparison\n",
    "\n",
    "plt.figure(figsize=(10, 6), dpi=100)\n",
    "plt.plot(x_label, threshold_compare_bj, marker='o', label='Guangzhou')\n",
    "plt.xlabel('Threshold of FDR_BY/%')\n",
    "plt.ylabel('Number of Bacteria in Guangzhou with FDR_BY > Threshold')\n",
    "plt.title('Comparison of Bacteria in Guangzhou with FDR_BY > Threshold in Beijing')\n",
    "# plt.legend()\n",
    "plt.savefig('./threshold_compare_bj.pdf')\n",
    "plt.show()\n"
   ]
  },
  {
   "cell_type": "code",
   "execution_count": 29,
   "metadata": {},
   "outputs": [
    {
     "data": {
      "image/png": "[encoded data removed]",
      "text/plain": [
       "<Figure size 1000x600 with 1 Axes>"
      ]
     },
     "metadata": {},
     "output_type": "display_data"
    }
   ],
   "source": [
    "threshold_compare_gz = []\n",
    "\n",
    "for i in range(20):\n",
    "  threshold_compare_gz.append(sum(full_data_bj['FDR_BY'] > threshold_gz[i]))\n",
    "\n",
    "# Draw a line chart to visualize the comparison\n",
    "\n",
    "plt.figure(figsize=(10, 6), dpi=100)\n",
    "plt.plot(x_label, threshold_compare_gz, marker='o', label='Beijing')\n",
    "plt.xlabel('Threshold of FDR_BY/%')\n",
    "plt.ylabel('Number of Bacteria in Beijing with FDR_BY > Threshold')\n",
    "plt.title('Comparison of Bacteria in Beijing with FDR_BY > Threshold in Guangzhou')\n",
    "plt.savefig('./threshold_compare_gz.pdf')\n",
    "plt.show()\n"
   ]
  },
  {
   "cell_type": "markdown",
   "metadata": {},
   "source": [
    "The 2 figures above show the cross-validation results of the SNP-Gene-Bacteria data in the two cities.\n",
    "\n",
    "The higher the point in the graph, the lower the overlap between the two cities at the corresponding threshold level. \n",
    "\n",
    "We can get that the p-values in Guangzhou are generally larger, so if we use Beijing as a benchmark, it is difficult to achieve good coverage within the top 100. Using Guangzhou as the benchmark and selecting the top 100, approximately 90% of the Beijing samples can be covered."
   ]
  },
  {
   "cell_type": "markdown",
   "metadata": {},
   "source": [
    "### 2.3 Cross-validation\n",
    "\n",
    "#### 2.3.1 Scatter plot of the 20 percentile thresholds in 2 cities"
   ]
  },
  {
   "cell_type": "code",
   "execution_count": 30,
   "metadata": {},
   "outputs": [
    {
     "data": {
      "image/png": "[encoded data removed]",
      "text/plain": [
       "<Figure size 2000x2000 with 1 Axes>"
      ]
     },
     "metadata": {},
     "output_type": "display_data"
    }
   ],
   "source": [
    "# Draw the scatter plot of the threshold of FDR_BY in two cities\n",
    "plt.figure(figsize=(10, 10), dpi=200)\n",
    "plt.scatter(threshold_bj, threshold_gz, color='blue', s=10)\n",
    "# plt.plot([min(threshold_bj), max(threshold_bj)], [min(threshold_bj), max(threshold_bj)], color='red', linestyle='--')\n",
    "plt.xlabel('Threshold of FDR_BY in Beijing')\n",
    "plt.ylabel('Threshold of FDR_BY in Guangzhou')\n",
    "plt.title('Scatter Plot of Threshold of FDR_BY in Beijing and Guangzhou')\n",
    "plt.savefig('./scatter_threshold_bac_age.pdf')\n",
    "plt.show()\n"
   ]
  },
  {
   "cell_type": "markdown",
   "metadata": {},
   "source": [
    "From the scatter plot, we can see that the thresholds of the two cities have a significant difference.\n",
    "\n",
    "So, the next step is to see the cross-validation results of the Bac-Gene data in the two cities.\n",
    "\n",
    "#### 2.3.2 Filter the gene data out with the top\n",
    "\n",
    "> The gene data is filtered out from the top 5 SNPs of each bacteria. See the script [here](https://github.com/Lucas04-nhr/SNP-Analysis/blob/main/script/snp_fetch.py)."
   ]
  },
  {
   "cell_type": "code",
   "execution_count": 31,
   "metadata": {},
   "outputs": [],
   "source": [
    "gene_bj = pd.read_csv('../../result/analysis/bac_age_BJ_snp_gene.csv')\n",
    "gene_gz = pd.read_csv('../../result/analysis/bac_age_GZ_snp_gene.csv')\n"
   ]
  },
  {
   "cell_type": "code",
   "execution_count": 32,
   "metadata": {},
   "outputs": [
    {
     "data": {
      "application/vnd.microsoft.datawrangler.viewer.v0+json": {
       "columns": [
        {
         "name": "index",
         "rawType": "int64",
         "type": "integer"
        },
        {
         "name": "SNP",
         "rawType": "object",
         "type": "string"
        },
        {
         "name": "BONF",
         "rawType": "float64",
         "type": "float"
        },
        {
         "name": "Bacteria",
         "rawType": "object",
         "type": "string"
        },
        {
         "name": "known_snp",
         "rawType": "int64",
         "type": "integer"
        },
        {
         "name": "external_name",
         "rawType": "object",
         "type": "unknown"
        },
        {
         "name": "gene_id",
         "rawType": "object",
         "type": "unknown"
        },
        {
         "name": "biotype",
         "rawType": "object",
         "type": "unknown"
        },
        {
         "name": "description",
         "rawType": "object",
         "type": "unknown"
        }
       ],
       "conversionMethod": "pd.DataFrame",
       "ref": "3d28df32-a238-4b4f-9b67-c7f8c3ad0d15",
       "rows": [
        [
         "0",
         "1:205986021",
         "4.706e-19",
         "Vibrio metschnikovii",
         "1",
         "RAB7B",
         "ENSG00000276600",
         "protein_coding",
         "RAB7B, member RAS oncogene family [Source:HGNC Symbol;Acc:HGNC:30513]"
        ],
        [
         "1",
         "2:131626435",
         "7.709e-11",
         "Unclassified_BJ026_bin.8",
         "1",
         "POTEKP",
         "ENSG00000204434",
         "transcribed_unprocessed_pseudogene",
         "POTE ankyrin domain family member K, pseudogene [Source:HGNC Symbol;Acc:HGNC:30182]"
        ],
        [
         "2",
         "2:225227256",
         "3.572e-19",
         "Lawsonella clevelandensis_A",
         "0",
         null,
         null,
         null,
         null
        ],
        [
         "3",
         "2:241245521",
         "1.154e-11",
         "Staphylococcus epidermidis",
         "0",
         "HDLBP",
         "ENSG00000115677",
         "protein_coding",
         "high density lipoprotein binding protein [Source:HGNC Symbol;Acc:HGNC:4857]"
        ],
        [
         "4",
         "4:8609098",
         "1.119e-63",
         "Veillonella parvula_A",
         "1",
         "CPZ",
         "ENSG00000109625",
         "protein_coding",
         "carboxypeptidase Z [Source:HGNC Symbol;Acc:HGNC:2333]"
        ]
       ],
       "shape": {
        "columns": 8,
        "rows": 5
       }
      },
      "text/html": [
       "<div>\n",
       "<style scoped>\n",
       "    .dataframe tbody tr th:only-of-type {\n",
       "        vertical-align: middle;\n",
       "    }\n",
       "\n",
       "    .dataframe tbody tr th {\n",
       "        vertical-align: top;\n",
       "    }\n",
       "\n",
       "    .dataframe thead th {\n",
       "        text-align: right;\n",
       "    }\n",
       "</style>\n",
       "<table border=\"1\" class=\"dataframe\">\n",
       "  <thead>\n",
       "    <tr style=\"text-align: right;\">\n",
       "      <th></th>\n",
       "      <th>SNP</th>\n",
       "      <th>BONF</th>\n",
       "      <th>Bacteria</th>\n",
       "      <th>known_snp</th>\n",
       "      <th>external_name</th>\n",
       "      <th>gene_id</th>\n",
       "      <th>biotype</th>\n",
       "      <th>description</th>\n",
       "    </tr>\n",
       "  </thead>\n",
       "  <tbody>\n",
       "    <tr>\n",
       "      <th>0</th>\n",
       "      <td>1:205986021</td>\n",
       "      <td>4.706000e-19</td>\n",
       "      <td>Vibrio metschnikovii</td>\n",
       "      <td>1</td>\n",
       "      <td>RAB7B</td>\n",
       "      <td>ENSG00000276600</td>\n",
       "      <td>protein_coding</td>\n",
       "      <td>RAB7B, member RAS oncogene family [Source:HGNC...</td>\n",
       "    </tr>\n",
       "    <tr>\n",
       "      <th>1</th>\n",
       "      <td>2:131626435</td>\n",
       "      <td>7.709000e-11</td>\n",
       "      <td>Unclassified_BJ026_bin.8</td>\n",
       "      <td>1</td>\n",
       "      <td>POTEKP</td>\n",
       "      <td>ENSG00000204434</td>\n",
       "      <td>transcribed_unprocessed_pseudogene</td>\n",
       "      <td>POTE ankyrin domain family member K, pseudogen...</td>\n",
       "    </tr>\n",
       "    <tr>\n",
       "      <th>2</th>\n",
       "      <td>2:225227256</td>\n",
       "      <td>3.572000e-19</td>\n",
       "      <td>Lawsonella clevelandensis_A</td>\n",
       "      <td>0</td>\n",
       "      <td>NaN</td>\n",
       "      <td>NaN</td>\n",
       "      <td>NaN</td>\n",
       "      <td>NaN</td>\n",
       "    </tr>\n",
       "    <tr>\n",
       "      <th>3</th>\n",
       "      <td>2:241245521</td>\n",
       "      <td>1.154000e-11</td>\n",
       "      <td>Staphylococcus epidermidis</td>\n",
       "      <td>0</td>\n",
       "      <td>HDLBP</td>\n",
       "      <td>ENSG00000115677</td>\n",
       "      <td>protein_coding</td>\n",
       "      <td>high density lipoprotein binding protein [Sour...</td>\n",
       "    </tr>\n",
       "    <tr>\n",
       "      <th>4</th>\n",
       "      <td>4:8609098</td>\n",
       "      <td>1.119000e-63</td>\n",
       "      <td>Veillonella parvula_A</td>\n",
       "      <td>1</td>\n",
       "      <td>CPZ</td>\n",
       "      <td>ENSG00000109625</td>\n",
       "      <td>protein_coding</td>\n",
       "      <td>carboxypeptidase Z [Source:HGNC Symbol;Acc:HGN...</td>\n",
       "    </tr>\n",
       "  </tbody>\n",
       "</table>\n",
       "</div>"
      ],
      "text/plain": [
       "           SNP          BONF                     Bacteria  known_snp  \\\n",
       "0  1:205986021  4.706000e-19         Vibrio metschnikovii          1   \n",
       "1  2:131626435  7.709000e-11     Unclassified_BJ026_bin.8          1   \n",
       "2  2:225227256  3.572000e-19  Lawsonella clevelandensis_A          0   \n",
       "3  2:241245521  1.154000e-11   Staphylococcus epidermidis          0   \n",
       "4    4:8609098  1.119000e-63        Veillonella parvula_A          1   \n",
       "\n",
       "  external_name          gene_id                             biotype  \\\n",
       "0         RAB7B  ENSG00000276600                      protein_coding   \n",
       "1        POTEKP  ENSG00000204434  transcribed_unprocessed_pseudogene   \n",
       "2           NaN              NaN                                 NaN   \n",
       "3         HDLBP  ENSG00000115677                      protein_coding   \n",
       "4           CPZ  ENSG00000109625                      protein_coding   \n",
       "\n",
       "                                         description  \n",
       "0  RAB7B, member RAS oncogene family [Source:HGNC...  \n",
       "1  POTE ankyrin domain family member K, pseudogen...  \n",
       "2                                                NaN  \n",
       "3  high density lipoprotein binding protein [Sour...  \n",
       "4  carboxypeptidase Z [Source:HGNC Symbol;Acc:HGN...  "
      ]
     },
     "execution_count": 32,
     "metadata": {},
     "output_type": "execute_result"
    }
   ],
   "source": [
    "gene_bj.head()\n"
   ]
  },
  {
   "cell_type": "code",
   "execution_count": 33,
   "metadata": {},
   "outputs": [
    {
     "data": {
      "application/vnd.microsoft.datawrangler.viewer.v0+json": {
       "columns": [
        {
         "name": "index",
         "rawType": "int64",
         "type": "integer"
        },
        {
         "name": "SNP",
         "rawType": "object",
         "type": "string"
        },
        {
         "name": "BONF",
         "rawType": "float64",
         "type": "float"
        },
        {
         "name": "Bacteria",
         "rawType": "object",
         "type": "string"
        },
        {
         "name": "known_snp",
         "rawType": "int64",
         "type": "integer"
        },
        {
         "name": "external_name",
         "rawType": "object",
         "type": "unknown"
        },
        {
         "name": "gene_id",
         "rawType": "object",
         "type": "unknown"
        },
        {
         "name": "biotype",
         "rawType": "object",
         "type": "unknown"
        },
        {
         "name": "description",
         "rawType": "object",
         "type": "unknown"
        }
       ],
       "conversionMethod": "pd.DataFrame",
       "ref": "8a156464-0c26-4b4e-b99b-3d332a6164cb",
       "rows": [
        [
         "0",
         "3:173901364",
         "3.8900000000000005e-37",
         "Staphylococcus epidermidis",
         "1",
         "NLGN1",
         "ENSG00000169760",
         "protein_coding",
         "neuroligin 1 [Source:HGNC Symbol;Acc:HGNC:14291]"
        ],
        [
         "1",
         "4:99041416",
         "3.775e-35",
         "Lawsonella clevelandensis_A",
         "1",
         "METAP1",
         "ENSG00000164024",
         "protein_coding",
         "methionyl aminopeptidase 1 [Source:HGNC Symbol;Acc:HGNC:15789]"
        ],
        [
         "2",
         "4:169480275",
         "1.547e-18",
         "Kocuria marina",
         "1",
         "NEK1",
         "ENSG00000137601",
         "protein_coding",
         "NIMA related kinase 1 [Source:HGNC Symbol;Acc:HGNC:7744]"
        ],
        [
         "3",
         "5:235306",
         "3.824e-21",
         "Cutibacterium granulosum",
         "1",
         null,
         "ENSG00000286001",
         "protein_coding",
         "novel protein"
        ],
        [
         "4",
         "5:49600762",
         "6.969e-35",
         "Acinetobacter baumannii",
         "1",
         null,
         null,
         null,
         null
        ]
       ],
       "shape": {
        "columns": 8,
        "rows": 5
       }
      },
      "text/html": [
       "<div>\n",
       "<style scoped>\n",
       "    .dataframe tbody tr th:only-of-type {\n",
       "        vertical-align: middle;\n",
       "    }\n",
       "\n",
       "    .dataframe tbody tr th {\n",
       "        vertical-align: top;\n",
       "    }\n",
       "\n",
       "    .dataframe thead th {\n",
       "        text-align: right;\n",
       "    }\n",
       "</style>\n",
       "<table border=\"1\" class=\"dataframe\">\n",
       "  <thead>\n",
       "    <tr style=\"text-align: right;\">\n",
       "      <th></th>\n",
       "      <th>SNP</th>\n",
       "      <th>BONF</th>\n",
       "      <th>Bacteria</th>\n",
       "      <th>known_snp</th>\n",
       "      <th>external_name</th>\n",
       "      <th>gene_id</th>\n",
       "      <th>biotype</th>\n",
       "      <th>description</th>\n",
       "    </tr>\n",
       "  </thead>\n",
       "  <tbody>\n",
       "    <tr>\n",
       "      <th>0</th>\n",
       "      <td>3:173901364</td>\n",
       "      <td>3.890000e-37</td>\n",
       "      <td>Staphylococcus epidermidis</td>\n",
       "      <td>1</td>\n",
       "      <td>NLGN1</td>\n",
       "      <td>ENSG00000169760</td>\n",
       "      <td>protein_coding</td>\n",
       "      <td>neuroligin 1 [Source:HGNC Symbol;Acc:HGNC:14291]</td>\n",
       "    </tr>\n",
       "    <tr>\n",
       "      <th>1</th>\n",
       "      <td>4:99041416</td>\n",
       "      <td>3.775000e-35</td>\n",
       "      <td>Lawsonella clevelandensis_A</td>\n",
       "      <td>1</td>\n",
       "      <td>METAP1</td>\n",
       "      <td>ENSG00000164024</td>\n",
       "      <td>protein_coding</td>\n",
       "      <td>methionyl aminopeptidase 1 [Source:HGNC Symbol...</td>\n",
       "    </tr>\n",
       "    <tr>\n",
       "      <th>2</th>\n",
       "      <td>4:169480275</td>\n",
       "      <td>1.547000e-18</td>\n",
       "      <td>Kocuria marina</td>\n",
       "      <td>1</td>\n",
       "      <td>NEK1</td>\n",
       "      <td>ENSG00000137601</td>\n",
       "      <td>protein_coding</td>\n",
       "      <td>NIMA related kinase 1 [Source:HGNC Symbol;Acc:...</td>\n",
       "    </tr>\n",
       "    <tr>\n",
       "      <th>3</th>\n",
       "      <td>5:235306</td>\n",
       "      <td>3.824000e-21</td>\n",
       "      <td>Cutibacterium granulosum</td>\n",
       "      <td>1</td>\n",
       "      <td>NaN</td>\n",
       "      <td>ENSG00000286001</td>\n",
       "      <td>protein_coding</td>\n",
       "      <td>novel protein</td>\n",
       "    </tr>\n",
       "    <tr>\n",
       "      <th>4</th>\n",
       "      <td>5:49600762</td>\n",
       "      <td>6.969000e-35</td>\n",
       "      <td>Acinetobacter baumannii</td>\n",
       "      <td>1</td>\n",
       "      <td>NaN</td>\n",
       "      <td>NaN</td>\n",
       "      <td>NaN</td>\n",
       "      <td>NaN</td>\n",
       "    </tr>\n",
       "  </tbody>\n",
       "</table>\n",
       "</div>"
      ],
      "text/plain": [
       "           SNP          BONF                     Bacteria  known_snp  \\\n",
       "0  3:173901364  3.890000e-37   Staphylococcus epidermidis          1   \n",
       "1   4:99041416  3.775000e-35  Lawsonella clevelandensis_A          1   \n",
       "2  4:169480275  1.547000e-18               Kocuria marina          1   \n",
       "3     5:235306  3.824000e-21     Cutibacterium granulosum          1   \n",
       "4   5:49600762  6.969000e-35      Acinetobacter baumannii          1   \n",
       "\n",
       "  external_name          gene_id         biotype  \\\n",
       "0         NLGN1  ENSG00000169760  protein_coding   \n",
       "1        METAP1  ENSG00000164024  protein_coding   \n",
       "2          NEK1  ENSG00000137601  protein_coding   \n",
       "3           NaN  ENSG00000286001  protein_coding   \n",
       "4           NaN              NaN             NaN   \n",
       "\n",
       "                                         description  \n",
       "0   neuroligin 1 [Source:HGNC Symbol;Acc:HGNC:14291]  \n",
       "1  methionyl aminopeptidase 1 [Source:HGNC Symbol...  \n",
       "2  NIMA related kinase 1 [Source:HGNC Symbol;Acc:...  \n",
       "3                                      novel protein  \n",
       "4                                                NaN  "
      ]
     },
     "execution_count": 33,
     "metadata": {},
     "output_type": "execute_result"
    }
   ],
   "source": [
    "gene_gz.head()\n"
   ]
  },
  {
   "cell_type": "markdown",
   "metadata": {},
   "source": [
    "#### 2.3.3 See the unique gene count of each city"
   ]
  },
  {
   "cell_type": "code",
   "execution_count": 34,
   "metadata": {},
   "outputs": [
    {
     "data": {
      "text/plain": [
       "10"
      ]
     },
     "execution_count": 34,
     "metadata": {},
     "output_type": "execute_result"
    }
   ],
   "source": [
    "gene_bj['gene_id'].nunique()\n"
   ]
  },
  {
   "cell_type": "code",
   "execution_count": 35,
   "metadata": {},
   "outputs": [
    {
     "data": {
      "text/plain": [
       "11"
      ]
     },
     "execution_count": 35,
     "metadata": {},
     "output_type": "execute_result"
    }
   ],
   "source": [
    "gene_gz['gene_id'].nunique()\n"
   ]
  },
  {
   "cell_type": "markdown",
   "metadata": {},
   "source": [
    "#### 2.3.4 Draw a venn diagram of the unique gene count of each city"
   ]
  },
  {
   "cell_type": "code",
   "execution_count": 38,
   "metadata": {},
   "outputs": [
    {
     "name": "stdout",
     "output_type": "stream",
     "text": [
      "Number of common genes: 2\n",
      "Common genes: {'ENSG00000126803', 'ENSG00000290877'}\n"
     ]
    }
   ],
   "source": [
    "# Draw the Venn diagram\n",
    "\n",
    "# Create a set for all the genes in BJ and GZ\n",
    "set_gene_bj = set(gene_bj['gene_id'].dropna().unique())\n",
    "set_gene_gz = set(gene_gz['gene_id'].dropna().unique())\n",
    "\n",
    "\n",
    "# Find which gene appears in both 2 cities\n",
    "set_gene_common = set_gene_bj.intersection(set_gene_gz)\n",
    "print('Number of common genes:', len(set_gene_common))\n",
    "print('Common genes:', set_gene_common)\n"
   ]
  },
  {
   "cell_type": "code",
   "execution_count": 39,
   "metadata": {},
   "outputs": [
    {
     "data": {
      "image/png": "[encoded data removed]",
      "text/plain": [
       "<Figure size 800x800 with 1 Axes>"
      ]
     },
     "metadata": {},
     "output_type": "display_data"
    }
   ],
   "source": [
    "# Create a Venn diagram\n",
    "plt.figure(figsize=(8, 8), dpi=100)\n",
    "venn2([set_gene_bj, set_gene_gz], ('Beijing', 'Guangzhou'))\n",
    "plt.title('Venn Diagram of Genes in Beijing and Guangzhou')\n",
    "plt.savefig('./venn_diagram_gene_age.pdf')\n",
    "plt.show()\n"
   ]
  }
 ],
 "metadata": {
  "kernelspec": {
   "display_name": "snp_analysis",
   "language": "python",
   "name": "python3"
  },
  "language_info": {
   "codemirror_mode": {
    "name": "ipython",
    "version": 3
   },
   "file_extension": ".py",
   "mimetype": "text/x-python",
   "name": "python",
   "nbconvert_exporter": "python",
   "pygments_lexer": "ipython3",
   "version": "3.9.18"
  }
 },
 "nbformat": 4,
 "nbformat_minor": 2
}

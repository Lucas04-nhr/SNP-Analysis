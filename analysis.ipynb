{
 "cells": [
  {
   "cell_type": "markdown",
   "id": "47ffd9f69ba4a382",
   "metadata": {},
   "source": [
    "# Bacteria Abundance Analysis"
   ]
  },
  {
   "cell_type": "code",
   "execution_count": 1,
   "id": "d2e67c0d8d176557",
   "metadata": {
    "ExecuteTime": {
     "end_time": "2024-10-17T12:47:47.222160Z",
     "start_time": "2024-10-17T12:47:47.176211Z"
    }
   },
   "outputs": [],
   "source": [
    "# Load libraries\n",
    "import pandas as pd\n",
    "import numpy as np\n",
    "import matplotlib.pyplot as plt\n",
    "import os\n",
    "import sys"
   ]
  },
  {
   "cell_type": "markdown",
   "id": "2b727c83d271ddfb",
   "metadata": {},
   "source": [
    "## Steps\n",
    "1. Load FMGC.ge data\n",
    "2. Plot a heatmap of the data"
   ]
  },
  {
   "cell_type": "code",
   "execution_count": 2,
   "id": "b2373fc0546548af",
   "metadata": {
    "ExecuteTime": {
     "end_time": "2024-10-17T12:49:20.062415Z",
     "start_time": "2024-10-17T12:49:20.025765Z"
    }
   },
   "outputs": [],
   "source": [
    "# Load FMGC.ge data\n",
    "data_ge = pd.read_csv('data_export/FMGC.ge/Beijing.csv')\n",
    "data_ge.head()\n",
    "\n",
    "# Change all the non-string type to float\n",
    "data_ge = data_ge.apply(pd.to_numeric, errors='coerce')"
   ]
  },
  {
   "cell_type": "code",
   "execution_count": null,
   "id": "4c9f8f75a5bd2f81",
   "metadata": {
    "ExecuteTime": {
     "end_time": "2024-10-17T12:49:22.576348Z",
     "start_time": "2024-10-17T12:49:21.862091Z"
    }
   },
   "outputs": [],
   "source": [
    "# Plot heatmap\n",
    "plt.figure(figsize=(10, 10), dpi=300)\n",
    "plt.imshow(data_ge, aspect='auto', cmap='viridis')\n",
    "plt.colorbar()\n",
    "plt.show()"
   ]
  },
  {
   "cell_type": "markdown",
   "id": "d3f73d91",
   "metadata": {},
   "source": [
    "## Steps\n",
    "1. Load FMGC.sp data\n",
    "2. Plot a heatmap of the data"
   ]
  },
  {
   "cell_type": "code",
   "execution_count": 4,
   "id": "583b7cd3",
   "metadata": {},
   "outputs": [],
   "source": [
    "# Load FMGC.sp data\n",
    "data_sp = pd.read_csv('data_export/FMGC.ge/Beijing.csv')\n",
    "data_sp.head()\n",
    "\n",
    "# Change all the non-string type to float\n",
    "data_sp = data_sp.apply(pd.to_numeric, errors='coerce')"
   ]
  },
  {
   "cell_type": "code",
   "execution_count": null,
   "id": "01ec9944",
   "metadata": {},
   "outputs": [],
   "source": [
    "# Plot heatmap\n",
    "plt.figure(figsize=(10, 10), dpi=300)\n",
    "plt.imshow(data_ge, aspect='auto', cmap='viridis')\n",
    "plt.colorbar()\n",
    "plt.show()"
   ]
  }
 ],
 "metadata": {
  "kernelspec": {
   "display_name": "snp_analysis",
   "language": "python",
   "name": "python3"
  },
  "language_info": {
   "codemirror_mode": {
    "name": "ipython",
    "version": 3
   },
   "file_extension": ".py",
   "mimetype": "text/x-python",
   "name": "python",
   "nbconvert_exporter": "python",
   "pygments_lexer": "ipython3",
   "version": "3.9.19"
  }
 },
 "nbformat": 4,
 "nbformat_minor": 5
}

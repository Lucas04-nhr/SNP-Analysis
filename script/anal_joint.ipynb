{
 "cells": [
  {
   "cell_type": "markdown",
   "metadata": {},
   "source": [
    "Analysis the joint data"
   ]
  },
  {
   "cell_type": "code",
   "execution_count": null,
   "metadata": {},
   "outputs": [],
   "source": [
    "import gwaslab as gl\n",
    "import numpy as np\n",
    "import pandas as pd\n",
    "\n",
    "# Load data\n",
    "data = pd.read_table('../data/plink/result.P5.assoc.linear', sep='\\s+')\n",
    "\n",
    "# Draw the plot\n",
    "stats = gl.Sumstats(\n",
    "  data,\n",
    "  snpid=\"SNP\",\n",
    "  chrom=\"CHR\",\n",
    "  pos=\"BP\",\n",
    "  p=\"P\",\n",
    "  verbose=False\n",
    "  )\n",
    "\n",
    "stats.plot_mqq()\n"
   ]
  }
 ],
 "metadata": {
  "kernelspec": {
   "display_name": "snp_analysis",
   "language": "python",
   "name": "python3"
  },
  "language_info": {
   "codemirror_mode": {
    "name": "ipython",
    "version": 3
   },
   "file_extension": ".py",
   "mimetype": "text/x-python",
   "name": "python",
   "nbconvert_exporter": "python",
   "pygments_lexer": "ipython3",
   "version": "3.9.19"
  }
 },
 "nbformat": 4,
 "nbformat_minor": 2
}
